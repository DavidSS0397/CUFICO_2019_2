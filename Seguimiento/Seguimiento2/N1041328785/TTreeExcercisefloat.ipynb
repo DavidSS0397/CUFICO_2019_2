{
  "nbformat": 4,
  "nbformat_minor": 0,
  "metadata": {
    "colab": {
      "name": "Copia de TTreeExcercisefloat.ipynb",
      "provenance": [],
      "collapsed_sections": [],
      "include_colab_link": true
    },
    "kernelspec": {
      "name": "python3",
      "display_name": "Python 3"
    }
  },
  "cells": [
    {
      "cell_type": "markdown",
      "metadata": {
        "id": "view-in-github",
        "colab_type": "text"
      },
      "source": [
        "<a href=\"https://colab.research.google.com/github/lidersamir/CUFICO_2019_2/blob/master/Seguimiento/Seguimiento2/N1041328785/TTreeExcercisefloat.ipynb\" target=\"_parent\"><img src=\"https://colab.research.google.com/assets/colab-badge.svg\" alt=\"Open In Colab\"/></a>"
      ]
    },
    {
      "cell_type": "markdown",
      "metadata": {
        "id": "l2Kx9iqQ4ToX",
        "colab_type": "text"
      },
      "source": [
        "# With this notebook we will:\n",
        "## 1. Install packages needed for root\n",
        "## 2. Download a binary root that compiled in google drive \"colaboratory\" environement\n",
        "## 3. Modify the PATH in order to tell python where to look for pyROOT\n",
        "## 4. Finally, test ROOT installation with a simple example\n",
        "\n",
        "##### Author: Jose Ruiz\n",
        "##### Maintainer: Jose Ruiz\n",
        "##### Developed at: Universidad de Antioquia\n"
      ]
    },
    {
      "cell_type": "markdown",
      "metadata": {
        "id": "C1gPEaTg6fLl",
        "colab_type": "text"
      },
      "source": [
        "### 1. Install packages needed for root"
      ]
    },
    {
      "cell_type": "code",
      "metadata": {
        "id": "gYEA4UKNplb6",
        "colab_type": "code",
        "outputId": "5e0060ff-c0df-483a-d8d3-ebb66df4946d",
        "colab": {
          "base_uri": "https://localhost:8080/",
          "height": 1000
        }
      },
      "source": [
        "!apt-get install git dpkg-dev cmake g++ gcc binutils libx11-dev libxpm-dev libxft-dev libxext-dev tar gfortran subversion"
      ],
      "execution_count": 1,
      "outputs": [
        {
          "output_type": "stream",
          "text": [
            "Reading package lists... Done\n",
            "Building dependency tree       \n",
            "Reading state information... Done\n",
            "libxext-dev is already the newest version (2:1.3.3-1).\n",
            "libxext-dev set to manually installed.\n",
            "libxft-dev is already the newest version (2.3.2-1).\n",
            "binutils is already the newest version (2.30-21ubuntu1~18.04.2).\n",
            "binutils set to manually installed.\n",
            "cmake is already the newest version (3.10.2-1ubuntu2.18.04.1).\n",
            "g++ is already the newest version (4:7.4.0-1ubuntu2.3).\n",
            "g++ set to manually installed.\n",
            "gcc is already the newest version (4:7.4.0-1ubuntu2.3).\n",
            "gcc set to manually installed.\n",
            "gfortran is already the newest version (4:7.4.0-1ubuntu2.3).\n",
            "git is already the newest version (1:2.17.1-1ubuntu0.4).\n",
            "libx11-dev is already the newest version (2:1.6.4-3ubuntu0.2).\n",
            "libx11-dev set to manually installed.\n",
            "tar is already the newest version (1.29b-2ubuntu0.1).\n",
            "The following additional packages will be installed:\n",
            "  libapr1 libaprutil1 libdpkg-perl libserf-1-1 libsvn1\n",
            "Suggested packages:\n",
            "  debian-keyring bzr db5.3-util libapache2-mod-svn subversion-tools\n",
            "Recommended packages:\n",
            "  fakeroot libalgorithm-merge-perl libfile-fcntllock-perl\n",
            "The following NEW packages will be installed:\n",
            "  libapr1 libaprutil1 libserf-1-1 libsvn1 libxpm-dev subversion\n",
            "The following packages will be upgraded:\n",
            "  dpkg-dev libdpkg-perl\n",
            "2 upgraded, 6 newly installed, 0 to remove and 33 not upgraded.\n",
            "Need to get 3,142 kB of archives.\n",
            "After this operation, 10.1 MB of additional disk space will be used.\n",
            "Get:1 http://archive.ubuntu.com/ubuntu bionic-updates/main amd64 dpkg-dev all 1.19.0.5ubuntu2.3 [607 kB]\n",
            "Get:2 http://archive.ubuntu.com/ubuntu bionic-updates/main amd64 libdpkg-perl all 1.19.0.5ubuntu2.3 [211 kB]\n",
            "Get:3 http://archive.ubuntu.com/ubuntu bionic/main amd64 libapr1 amd64 1.6.3-2 [90.9 kB]\n",
            "Get:4 http://archive.ubuntu.com/ubuntu bionic/main amd64 libaprutil1 amd64 1.6.1-2 [84.4 kB]\n",
            "Get:5 http://archive.ubuntu.com/ubuntu bionic/universe amd64 libserf-1-1 amd64 1.3.9-6 [44.4 kB]\n",
            "Get:6 http://archive.ubuntu.com/ubuntu bionic/universe amd64 libsvn1 amd64 1.9.7-4ubuntu1 [1,183 kB]\n",
            "Get:7 http://archive.ubuntu.com/ubuntu bionic/main amd64 libxpm-dev amd64 1:3.5.12-1 [87.4 kB]\n",
            "Get:8 http://archive.ubuntu.com/ubuntu bionic/universe amd64 subversion amd64 1.9.7-4ubuntu1 [834 kB]\n",
            "Fetched 3,142 kB in 13s (248 kB/s)\n",
            "(Reading database ... 132684 files and directories currently installed.)\n",
            "Preparing to unpack .../0-dpkg-dev_1.19.0.5ubuntu2.3_all.deb ...\n",
            "Unpacking dpkg-dev (1.19.0.5ubuntu2.3) over (1.19.0.5ubuntu2.2) ...\n",
            "Preparing to unpack .../1-libdpkg-perl_1.19.0.5ubuntu2.3_all.deb ...\n",
            "Unpacking libdpkg-perl (1.19.0.5ubuntu2.3) over (1.19.0.5ubuntu2.2) ...\n",
            "Selecting previously unselected package libapr1:amd64.\n",
            "Preparing to unpack .../2-libapr1_1.6.3-2_amd64.deb ...\n",
            "Unpacking libapr1:amd64 (1.6.3-2) ...\n",
            "Selecting previously unselected package libaprutil1:amd64.\n",
            "Preparing to unpack .../3-libaprutil1_1.6.1-2_amd64.deb ...\n",
            "Unpacking libaprutil1:amd64 (1.6.1-2) ...\n",
            "Selecting previously unselected package libserf-1-1:amd64.\n",
            "Preparing to unpack .../4-libserf-1-1_1.3.9-6_amd64.deb ...\n",
            "Unpacking libserf-1-1:amd64 (1.3.9-6) ...\n",
            "Selecting previously unselected package libsvn1:amd64.\n",
            "Preparing to unpack .../5-libsvn1_1.9.7-4ubuntu1_amd64.deb ...\n",
            "Unpacking libsvn1:amd64 (1.9.7-4ubuntu1) ...\n",
            "Selecting previously unselected package libxpm-dev:amd64.\n",
            "Preparing to unpack .../6-libxpm-dev_1%3a3.5.12-1_amd64.deb ...\n",
            "Unpacking libxpm-dev:amd64 (1:3.5.12-1) ...\n",
            "Selecting previously unselected package subversion.\n",
            "Preparing to unpack .../7-subversion_1.9.7-4ubuntu1_amd64.deb ...\n",
            "Unpacking subversion (1.9.7-4ubuntu1) ...\n",
            "Setting up libapr1:amd64 (1.6.3-2) ...\n",
            "Setting up libxpm-dev:amd64 (1:3.5.12-1) ...\n",
            "Setting up libdpkg-perl (1.19.0.5ubuntu2.3) ...\n",
            "Setting up dpkg-dev (1.19.0.5ubuntu2.3) ...\n",
            "Processing triggers for libc-bin (2.27-3ubuntu1) ...\n",
            "Setting up libaprutil1:amd64 (1.6.1-2) ...\n",
            "Processing triggers for man-db (2.8.3-2ubuntu0.1) ...\n",
            "Setting up libserf-1-1:amd64 (1.3.9-6) ...\n",
            "Setting up libsvn1:amd64 (1.9.7-4ubuntu1) ...\n",
            "Setting up subversion (1.9.7-4ubuntu1) ...\n",
            "Processing triggers for libc-bin (2.27-3ubuntu1) ...\n"
          ],
          "name": "stdout"
        }
      ]
    },
    {
      "cell_type": "markdown",
      "metadata": {
        "id": "3i5bTy4x601V",
        "colab_type": "text"
      },
      "source": [
        "### 2. Mount the drive to get the root binary and untar it "
      ]
    },
    {
      "cell_type": "code",
      "metadata": {
        "id": "gMhjqJ9noRcX",
        "colab_type": "code",
        "outputId": "eb481654-bc7c-4346-838f-39d9c022b48e",
        "colab": {
          "base_uri": "https://localhost:8080/",
          "height": 118
        }
      },
      "source": [
        "# Load the Drive helper and mount\n",
        "from google.colab import drive\n",
        "\n",
        "# This will prompt for authorization.\n",
        "drive.mount('/content/drive', force_remount=True)"
      ],
      "execution_count": 3,
      "outputs": [
        {
          "output_type": "stream",
          "text": [
            "Go to this URL in a browser: https://accounts.google.com/o/oauth2/auth?client_id=947318989803-6bn6qk8qdgf4n4g3pfee6491hc0brc4i.apps.googleusercontent.com&redirect_uri=urn%3Aietf%3Awg%3Aoauth%3A2.0%3Aoob&scope=email%20https%3A%2F%2Fwww.googleapis.com%2Fauth%2Fdocs.test%20https%3A%2F%2Fwww.googleapis.com%2Fauth%2Fdrive%20https%3A%2F%2Fwww.googleapis.com%2Fauth%2Fdrive.photos.readonly%20https%3A%2F%2Fwww.googleapis.com%2Fauth%2Fpeopleapi.readonly&response_type=code\n",
            "\n",
            "Enter your authorization code:\n",
            "··········\n",
            "Mounted at /content/drive\n"
          ],
          "name": "stdout"
        }
      ]
    },
    {
      "cell_type": "code",
      "metadata": {
        "id": "dt2PEUjQo0RY",
        "colab_type": "code",
        "outputId": "d9d1304b-d086-4ae8-b13a-e874e87e138f",
        "colab": {
          "base_uri": "https://localhost:8080/",
          "height": 131
        }
      },
      "source": [
        "# After executing the cell above, Drive\n",
        "# files will be present in \"/content/drive/My Drive\".\n",
        "!ls \"/content/drive/Shared drives/PyROOT_in_Google/\""
      ],
      "execution_count": 4,
      "outputs": [
        {
          "output_type": "stream",
          "text": [
            "BasicAnalysis.ipynb\t  HistogrammingInROOT.ipynb\n",
            "BasicPyROOTExample.ipynb  monje-a-lo-bonzo-blanco-y-negro.png\n",
            "Chi2Fitting.ipynb\t  piano-C5.wav\n",
            "Data5.root\t\t  Random2DHistos\n",
            "FFT_imagen.ipynb\t  root_build_google_yikes.tar\n",
            "FFT.ipynb\t\t  TrimmedTree.root\n",
            "FLUTEMI.WAV\t\t  TTreeExcercise.ipynb\n"
          ],
          "name": "stdout"
        }
      ]
    },
    {
      "cell_type": "code",
      "metadata": {
        "id": "tRQGlQ4Hqau9",
        "colab_type": "code",
        "colab": {}
      },
      "source": [
        "!tar -xf /content/drive/Shared\\ drives/PyROOT_in_Google/root_build_google_yikes.tar"
      ],
      "execution_count": 0,
      "outputs": []
    },
    {
      "cell_type": "code",
      "metadata": {
        "id": "DfLQ4DrprjLU",
        "colab_type": "code",
        "outputId": "1963a0ca-3b48-456a-d9b4-3a62c649a8ae",
        "colab": {
          "base_uri": "https://localhost:8080/",
          "height": 82
        }
      },
      "source": [
        "!ls -ltrh"
      ],
      "execution_count": 6,
      "outputs": [
        {
          "output_type": "stream",
          "text": [
            "total 12K\n",
            "drwxr-xr-x 44 root root 4.0K Sep 20  2018 root_build\n",
            "drwxr-xr-x  1 root root 4.0K Nov  6 16:17 sample_data\n",
            "drwx------  4 root root 4.0K Nov  8 20:29 drive\n"
          ],
          "name": "stdout"
        }
      ]
    },
    {
      "cell_type": "markdown",
      "metadata": {
        "id": "1nHFk9y68VVP",
        "colab_type": "text"
      },
      "source": [
        "\n",
        "### 3. Modify the PATH in order to tell python where to look for pyROOT\n"
      ]
    },
    {
      "cell_type": "code",
      "metadata": {
        "id": "N3ndoY6iu6_J",
        "colab_type": "code",
        "colab": {}
      },
      "source": [
        "import sys\n",
        "sys.path.append(\"/content/root_build/\")\n",
        "sys.path.append(\"/content/root_build/bin/\")\n",
        "sys.path.append(\"/content/root_build/include/\")\n",
        "sys.path.append(\"/content/root_build/lib/\")"
      ],
      "execution_count": 0,
      "outputs": []
    },
    {
      "cell_type": "code",
      "metadata": {
        "id": "lTFxGdo6v-vn",
        "colab_type": "code",
        "outputId": "0c5b74f6-7d80-4b70-c5d2-62ec8991403e",
        "colab": {
          "base_uri": "https://localhost:8080/",
          "height": 33
        }
      },
      "source": [
        "import ROOT"
      ],
      "execution_count": 8,
      "outputs": [
        {
          "output_type": "stream",
          "text": [
            "Welcome to JupyROOT 6.14/04\n"
          ],
          "name": "stdout"
        }
      ]
    },
    {
      "cell_type": "code",
      "metadata": {
        "id": "37Y0ocYtMbCx",
        "colab_type": "code",
        "colab": {}
      },
      "source": [
        "from array import array"
      ],
      "execution_count": 0,
      "outputs": []
    },
    {
      "cell_type": "code",
      "metadata": {
        "id": "vjAXfvIGaE3W",
        "colab_type": "code",
        "colab": {}
      },
      "source": [
        "MyTree = ROOT.TTree( 'tree1', 'tree para un par de dados' )"
      ],
      "execution_count": 0,
      "outputs": []
    },
    {
      "cell_type": "markdown",
      "metadata": {
        "id": "LG9IMFtuu0zq",
        "colab_type": "text"
      },
      "source": [
        "## ejercicio \n",
        "Crear un Branch tipo float y llenarlo con un random que utilice de semilla a Dado$_2$.\n",
        "En este caso el branch tipo float va a ser dado$_3$"
      ]
    },
    {
      "cell_type": "code",
      "metadata": {
        "id": "sG5v0wEBaeOI",
        "colab_type": "code",
        "colab": {}
      },
      "source": [
        "dado1 = array( 'i', [ 0 ] )\n",
        "dado2 = array( 'i', [ 0 ] )\n",
        "#establecemos el dado3\n",
        "dado3 = array( 'f', [ 0 ] )"
      ],
      "execution_count": 0,
      "outputs": []
    },
    {
      "cell_type": "code",
      "metadata": {
        "id": "TFR5T97ScgnG",
        "colab_type": "code",
        "outputId": "9be49d51-60cf-4062-d0cb-1139720fb44c",
        "colab": {
          "base_uri": "https://localhost:8080/",
          "height": 33
        }
      },
      "source": [
        "MyTree.Branch( 'dado 1', dado1, 'dado1/I' )\n",
        "MyTree.Branch( 'dado 2', dado2, 'dado2/I' )\n",
        "# se adiciona el branch tipo float\n",
        "MyTree.Branch( 'dado 3', dado3, 'dado3/F' )  "
      ],
      "execution_count": 12,
      "outputs": [
        {
          "output_type": "execute_result",
          "data": {
            "text/plain": [
              "<ROOT.TBranch object (\"dado 3\") at 0x6a0d180>"
            ]
          },
          "metadata": {
            "tags": []
          },
          "execution_count": 12
        }
      ]
    },
    {
      "cell_type": "code",
      "metadata": {
        "id": "qmKR6xLioJOa",
        "colab_type": "code",
        "colab": {}
      },
      "source": [
        "from random import randint, seed, random\n",
        "import numpy as np"
      ],
      "execution_count": 0,
      "outputs": []
    },
    {
      "cell_type": "code",
      "metadata": {
        "id": "FKgIQBuJehRQ",
        "colab_type": "code",
        "colab": {}
      },
      "source": [
        "for i in range(1000):\n",
        "  dado1[0] = randint(1,6)\n",
        "  dado2[0] = randint(1,6)\n",
        "  # usamos el dado2 como semilla \n",
        "  np.random.seed(dado2[0])   \n",
        "  dado3[0] = randint(1,6)  \n",
        "  MyTree.Fill()"
      ],
      "execution_count": 0,
      "outputs": []
    },
    {
      "cell_type": "code",
      "metadata": {
        "id": "AznEAv9QJX3Q",
        "colab_type": "code",
        "outputId": "d3be8bda-174a-4542-8981-9d0b4a1488af",
        "colab": {
          "base_uri": "https://localhost:8080/",
          "height": 905
        }
      },
      "source": [
        "c1 = ROOT.TCanvas( 'c1', 'Datos de un Branch tipo float', 200, 10, 700, 900 )\n",
        "c1.SetFillColor( 18 )\n",
        "MyTree.Draw(\"dado3>>h1(5,1,6)\")\n",
        "c1.Update()\n",
        "from ROOT import gROOT \n",
        "gROOT.GetListOfCanvases().Draw()"
      ],
      "execution_count": 26,
      "outputs": [
        {
          "output_type": "stream",
          "text": [
            "Warning in <TCanvas::Constructor>: Deleting canvas with same name: c1\n"
          ],
          "name": "stderr"
        },
        {
          "output_type": "display_data",
          "data": {
            "image/png": "[encoded data removed]",
            "text/plain": [
              "<IPython.core.display.Image object>"
            ]
          },
          "metadata": {
            "tags": []
          }
        }
      ]
    },
    {
      "cell_type": "code",
      "metadata": {
        "id": "-vS6atJ2xDPo",
        "colab_type": "code",
        "colab": {}
      },
      "source": [
        ""
      ],
      "execution_count": 0,
      "outputs": []
    },
    {
      "cell_type": "code",
      "metadata": {
        "id": "RNjN-I32SO0v",
        "colab_type": "code",
        "colab": {}
      },
      "source": [
        ""
      ],
      "execution_count": 0,
      "outputs": []
    }
  ]
}