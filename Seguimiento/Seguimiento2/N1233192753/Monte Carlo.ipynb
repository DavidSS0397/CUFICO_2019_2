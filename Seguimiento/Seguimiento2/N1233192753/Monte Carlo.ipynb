{
 "cells": [
  {
   "cell_type": "code",
   "execution_count": 1,
   "metadata": {},
   "outputs": [],
   "source": [
    "import numpy as np\n",
    "from scipy.integrate import quad\n",
    "import matplotlib.pyplot as plt\n",
    "from random import random\n",
    "\n"
   ]
  },
  {
   "cell_type": "code",
   "execution_count": 2,
   "metadata": {},
   "outputs": [],
   "source": [
    "###########\n",
    "#Funciones#\n",
    "###########\n",
    "\n",
    "def f1(x):\n",
    "    return x**(-3)\n",
    "\n",
    "def f2(x):\n",
    "    return x**(-0.5)\n",
    "\n",
    "def f3(x,y,z):\n",
    "    return (1/x + y + z**2)\n",
    "\n",
    "def Es_2(X,num,f):\n",
    "    E=0\n",
    "    for i in range(num):\n",
    "        E+=(1/num)*f(X[i])\n",
    "    return E\n",
    "\n",
    "def S2_2(X,num,f):\n",
    "    S=0\n",
    "    E=Es_2(X,num,f)\n",
    "    for i in range(num):\n",
    "        S+=(1/num)*(f(X[i])**2-E**2)\n",
    "    return S\n",
    "\n",
    "def Es_3(X,Y,Z,num,f):\n",
    "    E=0\n",
    "    for i in range(num):\n",
    "        for j in range(num):\n",
    "            for k in range(num):\n",
    "                E+=(1/num**3)*f(X[i],Y[j],Z[k])\n",
    "    return E\n",
    "\n",
    "def S2_3(X,Y,Z,num,f):\n",
    "    S=0\n",
    "    E=Es_3(X,Y,Z,num,f)\n",
    "    for i in range(num):\n",
    "        for j in range(num):\n",
    "            for k in range(num):\n",
    "                S+=(1/num**3)*(f(X[i],Y[j],Z[k])**2-E**2)\n",
    "    return S\n",
    "    "
   ]
  },
  {
   "cell_type": "code",
   "execution_count": 3,
   "metadata": {},
   "outputs": [],
   "source": [
    "NumDatos=[100,1000,10000]\n",
    "\n",
    "#Monte Carlo para funciones 1-D\n",
    "\n",
    "E_2=[[],[]]\n",
    "S_2=[[],[]]\n",
    "\n",
    "for i in NumDatos:\n",
    "    X=[]\n",
    "    while len(X)<(i):\n",
    "        X.append( 1 + (random()*(10-(1))))\n",
    "    #print (len(X))\n",
    "    E_2[0].append(Es_2(X,i,f1))\n",
    "    S_2[0].append(S2_2(X,i,f1))\n",
    "    \n",
    "for i in NumDatos:\n",
    "    X=[]\n",
    "    while len(X)<(i):\n",
    "        X.append( 1 + (random()*(10-(1))))\n",
    "    #print (len(X))\n",
    "    E_2[1].append(Es_2(X,i,f2))\n",
    "    S_2[1].append(S2_2(X,i,f2))\n",
    "\n",
    "E_p_2=[[],[]]\n",
    "S_p_2=[[],[]]\n",
    "for i in range(len(E_2[0])):\n",
    "    E_p_2[0].append(E_2[0][i]*(10-1))\n",
    "    E_p_2[1].append(E_2[1][i]*(10-1))\n",
    "    S_p_2[0].append(S_2[0][i]*(10-1))\n",
    "    S_p_2[1].append(S_2[1][i]*(10-1))\n",
    "    "
   ]
  },
  {
   "cell_type": "code",
   "execution_count": 4,
   "metadata": {},
   "outputs": [],
   "source": [
    "#Monte Carlo para funcion 3-D\n",
    "\n",
    "E_3=[]\n",
    "S_3=[]\n",
    "\n",
    "#for i in NumDatos:\n",
    "i=100    #No pude hacerlo con más puntos porque el loop se tarda mucho tiempo\n",
    "X=[]\n",
    "Y=[]\n",
    "Z=[]\n",
    "while len(X)<(i):\n",
    "    X.append( 1 + (random()*(10-(1))))\n",
    "    Y.append( 0 + (random()*(2-(0))))\n",
    "    Z.append( 0 + (random()*(2-(0))))\n",
    "    #print (len(X))\n",
    "E_3.append(Es_3(X,Y,Z,i,f3))\n",
    "S_3.append(S2_3(X,Y,Z,i,f3))\n",
    "\n",
    "E_p_3=[]\n",
    "S_p_3=[]\n",
    "for i in range(len(E_3)):\n",
    "    E_p_3.append(E_3[i]*(10-1)*(2-0)*(2-0))\n",
    "    S_p_3.append(S_3[i]*(10-1)*(2-0)*(2-0))\n",
    "    "
   ]
  },
  {
   "cell_type": "code",
   "execution_count": 5,
   "metadata": {},
   "outputs": [
    {
     "name": "stdout",
     "output_type": "stream",
     "text": [
      "[0.481504104230455, 0.4447723595584566, 0.49721111110757926] [4.0211601199334295, 4.302833289404165, 4.332179336898805]\n",
      "[0.05350045602560611, 0.049419151062050734, 0.05524567901195325] [0.4467955688814922, 0.47809258771157387, 0.48135325965542275]\n",
      "[0.01932874070078331, 0.01500478669303989, 0.019787039391667875] [0.013394870938016574, 0.023086416609406243, 0.02558097352597523]\n"
     ]
    }
   ],
   "source": [
    "# Estimados para funcioines 1-D (100,1000,10000) puntos la enrada [0] para f1 y [1] para f2  \n",
    "\n",
    "print(E_p_2[0],E_p_2[1]) \n",
    "print(E_2[0],E_2[1])     \n",
    "print(S_2[0],S_2[1])"
   ]
  },
  {
   "cell_type": "code",
   "execution_count": 6,
   "metadata": {},
   "outputs": [
    {
     "name": "stdout",
     "output_type": "stream",
     "text": [
      "(0.495, 3.33106475941296e-10) (4.32455532033676, 1.6881526376757614e-09)\n"
     ]
    }
   ],
   "source": [
    "#Integracion de ScyPy funciones 1-D\n",
    "\n",
    "I1=quad(f1,1,10)  \n",
    "I2=quad(f2,1,10) \n",
    "print (I1,I2)"
   ]
  },
  {
   "cell_type": "code",
   "execution_count": 7,
   "metadata": {},
   "outputs": [
    {
     "data": {
      "text/plain": [
       "([2.880749598855883], [103.70698555881178], [1.7276129585272062])"
      ]
     },
     "execution_count": 7,
     "metadata": {},
     "output_type": "execute_result"
    }
   ],
   "source": [
    "# Estimados para funcioines 3-D\n",
    "\n",
    "E_3,E_p_3,S_3"
   ]
  },
  {
   "cell_type": "code",
   "execution_count": 8,
   "metadata": {},
   "outputs": [
    {
     "data": {
      "text/plain": [
       "Text(0.5, 1.0, 'Estimado con $f(x)= x^{-1/2}$')"
      ]
     },
     "execution_count": 8,
     "metadata": {},
     "output_type": "execute_result"
    },
    {
     "data": {
      "image/png": "[encoded data removed]",
      "text/plain": [
       "<Figure size 720x360 with 2 Axes>"
      ]
     },
     "metadata": {
      "needs_background": "light"
     },
     "output_type": "display_data"
    }
   ],
   "source": [
    "#Graficas funciones 1-D\n",
    "\n",
    "fig, (ax1, ax2) = plt.subplots(1, 2,figsize=(10,5))\n",
    "#fig.suptitle()\n",
    "ax1.plot(NumDatos,E_p_2[0],'.-')\n",
    "ax1.grid()\n",
    "ax1.set_xlabel('Numero de Datos')\n",
    "ax1.set_ylabel('Estimado')\n",
    "ax1.set_title(r'Estimado con $f(x)= x^{-3}$')\n",
    "\n",
    "ax2.plot(NumDatos,E_p_2[1],'.-')\n",
    "ax2.grid()\n",
    "ax2.set_xlabel('Numero de Datos')\n",
    "ax2.set_ylabel('Estimado')\n",
    "ax2.set_title(r'Estimado con $f(x)= x^{-1/2}$')\n"
   ]
  },
  {
   "cell_type": "code",
   "execution_count": 9,
   "metadata": {},
   "outputs": [],
   "source": [
    "#Stratified sampling"
   ]
  },
  {
   "cell_type": "code",
   "execution_count": 10,
   "metadata": {},
   "outputs": [],
   "source": [
    "I=[]   #Intervalos\n",
    "i=0\n",
    "I.append(1.0)\n",
    "\n",
    "x_max=10\n",
    "x_min=1\n",
    "h=np.abs(x_min-x_max)/10.\n",
    "while i< 10:\n",
    "    i+=1\n",
    "    I.append(1 + i*h)\n",
    "    "
   ]
  },
  {
   "cell_type": "code",
   "execution_count": 11,
   "metadata": {},
   "outputs": [],
   "source": [
    "\n",
    "NumIntervalos=10\n",
    "E_1=[]\n",
    "for i in NumDatos:\n",
    "    #i=100\n",
    "    Xinter=[[],[],[],[],[],[],[],[],[],[]]\n",
    "    #Ej=[[],[],[],[],[],[],[],[],[],[]]\n",
    "    Ej=[]\n",
    "    Nj=i/NumIntervalos\n",
    "    x_max=10\n",
    "    x_min=1\n",
    "    h=np.abs(x_min-x_max)/10.\n",
    "    for j in range(NumIntervalos):\n",
    "   \n",
    "        while len(Xinter[j])<(Nj):\n",
    "            Xinter[j].append(I[j] + (random()*(I[j+1]-I[j])))\n",
    "        ej=0\n",
    "        for k in range(len(Xinter[j])):\n",
    "            ej+=(h/len(Xinter[j]))*f1(Xinter[j][k])\n",
    "        Ej.append(ej)\n",
    "    ej_1=0\n",
    "    for l in range(len(Ej)):\n",
    "        ej_1+=Ej[l]\n",
    "    E_1.append(ej_1)\n",
    "        \n",
    "    \n",
    "\n",
    "\n",
    " \n",
    "    "
   ]
  },
  {
   "cell_type": "code",
   "execution_count": 12,
   "metadata": {},
   "outputs": [
    {
     "data": {
      "text/plain": [
       "[0.4263195548615456, 0.48994086328386904, 0.5078094343014121]"
      ]
     },
     "execution_count": 12,
     "metadata": {},
     "output_type": "execute_result"
    }
   ],
   "source": [
    "E_1 # Estimado usando Stratified sampling para la funcion f1           "
   ]
  },
  {
   "cell_type": "code",
   "execution_count": 13,
   "metadata": {},
   "outputs": [
    {
     "data": {
      "text/plain": [
       "Text(0.5, 1.0, 'Estimado con $f(x)= x^{-3}$ usando stratified sampling ')"
      ]
     },
     "execution_count": 13,
     "metadata": {},
     "output_type": "execute_result"
    },
    {
     "data": {
      "image/png": "[encoded data removed]",
      "text/plain": [
       "<Figure size 432x288 with 1 Axes>"
      ]
     },
     "metadata": {
      "needs_background": "light"
     },
     "output_type": "display_data"
    }
   ],
   "source": [
    "plt.figure(figsize=(6,4))\n",
    "\n",
    "plt.plot(NumDatos,E_1,'.-')\n",
    "plt.grid()\n",
    "plt.xlabel('Numero de Datos')\n",
    "plt.ylabel('Estimado')\n",
    "plt.title(r'Estimado con $f(x)= x^{-3}$ usando stratified sampling ')"
   ]
  },
  {
   "cell_type": "code",
   "execution_count": null,
   "metadata": {},
   "outputs": [],
   "source": []
  },
  {
   "cell_type": "code",
   "execution_count": null,
   "metadata": {},
   "outputs": [],
   "source": [
    "\n",
    "        "
   ]
  },
  {
   "cell_type": "code",
   "execution_count": null,
   "metadata": {},
   "outputs": [],
   "source": []
  },
  {
   "cell_type": "code",
   "execution_count": null,
   "metadata": {},
   "outputs": [],
   "source": []
  },
  {
   "cell_type": "code",
   "execution_count": null,
   "metadata": {},
   "outputs": [],
   "source": []
  }
 ],
 "metadata": {
  "kernelspec": {
   "display_name": "Python 3",
   "language": "python",
   "name": "python3"
  },
  "language_info": {
   "codemirror_mode": {
    "name": "ipython",
    "version": 3
   },
   "file_extension": ".py",
   "mimetype": "text/x-python",
   "name": "python",
   "nbconvert_exporter": "python",
   "pygments_lexer": "ipython3",
   "version": "3.7.4"
  }
 },
 "nbformat": 4,
 "nbformat_minor": 2
}
