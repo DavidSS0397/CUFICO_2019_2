!apt-get install git dpkg-dev cmake g++ gcc binutils libx11-dev libxpm-dev libxft-dev libxext-dev tar gfortran subversion

# Load the Drive helper and mount
from google.colab import drive
# This will prompt for authorization.
drive.mount('/content/drive', force_remount=True)

!tar -xf /content/drive/Shared\ drives/PyROOT_in_Google/root_build_google_yikes.tar

import sys
sys.path.append("/content/root_build/")
sys.path.append("/content/root_build/bin/")
sys.path.append("/content/root_build/include/")
sys.path.append("/content/root_build/lib/")
import ROOT

#ejercicio de los dados con semilla dado2
from array import array
from ROOT import TCanvas, TPad, TFormula, TF1, TPaveLabel, TH1F, TFile, TPaveText
MyTree = ROOT.TTree( 'tree1', 'tree para un par de dados' )
dado1 = array( 'i', [ 0 ] )
dado2 = array( 'i', [ 0 ] )
dado2p= array("f", [0])
MyTree.Branch( 'dado 1', dado1, 'dado1/I' )
MyTree.Branch( 'dado 2', dado2, 'dado2/I' )
MyTree.Branch("dado 2 prima", dado2p, "dado2p/F")


import random
from random import randint

#with one seed we caxll randint multiple times and it generates  diferent seeds automatically
for i in range(1000): #entradas o eventos
  dado1[0] = randint(1,6)
  dado2[0] = randint(1,6)
  #print(dado2[0])
  MyTree.Fill()


#trying to fill with random numbers with dado2 as seed
for j in range(1000):
  MyTree.GetEntry(j)
  #print(MyTree.dado2)
  random.seed(MyTree.dado2)
  dado2p[0]= randint(1,6)
  #print(dado2p[0])
  MyTree.Fill()


c1 = ROOT.TCanvas( 'c1', 'My First Data example', 200, 10, 700, 900 )
c1.SetFillColor( 18 )
MyTree.Draw("dado2>>h1(5,1,6)")
c1.Update()
from ROOT import gROOT 
gROOT.GetListOfCanvases().Draw()

MyTree.Draw("dado2p>>h2(5,1,6)")
c1.Update()
from ROOT import gROOT 
gROOT.GetListOfCanvases().Draw()



##chi cuadrado- incompleto
c1 = ROOT.TCanvas( 'c1', 'My First Data example', 200, 10, 700, 900 )
c1.SetFillColor( 18 )

#B model
BackgroundModel = ROOT.TH1F( 'bkg', 'My background model', 20, 50, 1050 )
expde = ROOT.TF1("expde","([2]*expo)+[3]",50,1050)
expde.SetParameters(0.0,-0.005,100,0.0);
BackgroundModel.FillRandom("expde",100000)
#BackgroundModel.Draw('E')
#c1.Update()
from ROOT import gROOT 
#gROOT.GetListOfCanvases().Draw()

#S model
SignalModel = ROOT.TH1F( 'sig', 'My signal model', 20, 50, 1050 )
signal = ROOT.TF1("signal", "gaus", 50, 1050)
signal.SetParameters(1.0,500.0,50.0)
SignalModel.FillRandom("signal",1000)
#SignalModel.Draw('same E')
SignalModel.SetLineColor(2)
#c1.Update()
#gROOT.GetListOfCanvases().Draw()


#the histogram from the root file to do the fit
DataFile = ROOT.TFile("/content/drive/Shared drives/PyROOT_in_Google/Data5.root","read")
DataHisto=DataFile.Get('data')
#DataHisto.Draw("E")
#c1.Update()
#gROOT.GetListOfCanvases().Draw()
"""
N=1000 #Numero de entradas del histograma
chi2=0
for u in np.arange(0,1,0.0001):
  #adding both Models
    BkgpSigModel = BackgroundModel.Clone("bkgpsig")
    BkgpSigModel.Sumw2()
    BkgpSigModel.Add(SignalModel,u)

    for l in range(N):
       chi2+=(DataHisto[l]-BkgpSigModelchi[l])**2/BkgpSigModel[l]
"""
BkgpSigModel.SetLineColor(40)
BackgroundModel.Draw("E")
SignalModel.Draw("E same")
BkgpSigModel.Draw("E same")
c1.Update()
gROOT.GetListOfCanvases().Draw()
