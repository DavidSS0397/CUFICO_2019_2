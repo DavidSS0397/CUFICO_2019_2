import numpy as np
from random import random 
import matplotlib.pyplot as plt
from scipy import integrate

N=1000

Theta=[]

def ProbabilityFunction(theta,phi,mu): #Ex. de Rutherford
    factor=1/(phi*(np.sqrt(2*np.pi)))
    argumento=-(theta-mu)**2/(2*(phi)**2)

    Probfunc=factor*np.exp(argumento)
    return Probfunc

phi=0.1
mu=0

a=-1*np.pi #limite inferior
b=np.pi #limite superior

#se genera phi0
phi0=(b-a)*random()+a #genera un numero aleatorio en el intervalo (a,b), tan largo como b-a indique y en ese intervalo al sumarle a
Theta.append(phi0)

for i in range(N):
    #generamos phiprima y calculamos delta s
    phip=(b-a)*random()+a 
    deltas=-np.log(ProbabilityFunction(phip,phi,mu)/(ProbabilityFunction(Theta[-1],phi,mu)))
    #condiciones para incluir phi prima
    if (deltas<0):
        thetai=phip
        Theta.append(thetai)

    if (deltas>0):
        P=ProbabilityFunction(phip,phii,muu)/(ProbabilityFunction(Theta[-1],phi,mu))
        x=random()
        if x<P:
            thetai=phip
            Theta.append(thetai)
            
print(Theta)
plt.hist(Theta,bins=100)
plt.show()
