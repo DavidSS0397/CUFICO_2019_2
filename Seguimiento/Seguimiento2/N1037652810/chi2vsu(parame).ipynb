import numpy as np
c1 = ROOT.TCanvas( 'c1', 'My First Data example', 200, 10, 700, 900 )
c1.SetFillColor( 18 )

#B model
BackgroundModel = ROOT.TH1F( 'bkg', 'My background model', 20, 50, 1050 )
expde = ROOT.TF1("expde","([2]*expo)+[3]",50,1050)
expde.SetParameters(0.0,-0.005,100,0.0);
BackgroundModel.FillRandom("expde",100000)
BackgroundModel.Draw('E')
c1.Update()
from ROOT import gROOT 
gROOT.GetListOfCanvases().Draw()


SignalModel = ROOT.TH1F( 'sig', 'My signal model', 20, 50, 1050 )
signal = ROOT.TF1("signal", "gaus", 50, 1050)
signal.SetParameters(1.0,500.0,50.0)
SignalModel.FillRandom("signal",1000)
SignalModel.Draw('same E')
SignalModel.SetLineColor(2)
c1.Update()
gROOT.GetListOfCanvases().Draw()

#the histogram from the root file to do the fit
DataFile = ROOT.TFile("/content/drive/Shared drives/PyROOT_in_Google/Data5.root","read")
DataHisto=DataFile.Get('data')
#DataHisto.Draw("E")
#c1.Update()
#gROOT.GetListOfCanvases().Draw()



import matplotlib.pyplot as plt
N=1000 #Numero de entradas del histograma
chi2=0
chi2allu=[]
for u in np.arange(0,0.5,0.0001):
    #adding both Models
    BkgpSigModel = BackgroundModel.Clone("bkgpsig")
    BkgpSigModel.Sumw2()
    BkgpSigModel.Add(SignalModel,u)

    for l in range(N):
       if (BkgpSigModel.GetBinContent(l)!=0):
           chi2+=(DataHisto.GetBinContent(l)-BkgpSigModel.GetBinContent(l))**2/BkgpSigModel.GetBinContent(l)
    chi2allu.append(chi2)
plt.plot(np.arange(0,0.5,0.0001),chi2allu)
plt.show()
"""
BkgpSigModel.SetLineColor(40)
BackgroundModel.Draw("E")
SignalModel.Draw("E same")
BkgpSigModel.Draw("E same")
c1.Update()
gROOT.GetListOfCanvases().Draw()
"""
