import numpy as np
from random import random 
import matplotlib.pyplot as plt
from scipy import integrate

a=1 #limite inferior
b=10 #limite superior 
c=0
d=2

N=[100,1000,10000]

def F(x):
    return x**-3

def G(x):
    return (x)**-0.5

def H(z,y,x):
    return (x)**-1 +y +z**2

def dpgdx(x): #derivada de G(x)
    return 0.5*x**(-0.5-1)

def Var(N,Fx,E): #error-varianza del metodo de montecarlo
    s=0
    st=0
    for m in range(N): #para calcular el error s**2 de el metodo de montecarlo
        s+=(Fx[m]-E)**2 
    st=np.sqrt((s)/(N-1))
    #print("var",st)
    return st

S21=[] #la varianza para todos los N 
S22=[]
S23=[]
E1all=[] #el estimado para todos los N 
E2all=[]
E3all=[]
RandFx=[] #Valores de la funcion evaluados en los numeros aleatorios para calcular la varianza
RandGx=[]
RandHxyz=[]

for j in range(len(N)):

    I1=0 #variable para la integral F 
    I2=0 #variable para la integral G
    I3=0
    SE2MP=0
    E1=0
    E2=0
    E3=0
    E2MP=0

    for i in range(N[j]): #para calcular el estimado 
   
        x=(b-a)*random() +a 
        y=(d-c)*random() #+c=0
        z=(d-c)*random() #+c=0
        I1+=F(x) #Ii es solo la sumatoria de los f(xm)
        I2+=G(x)
        I3+=H(z,y,x)
        RandFx.append(F(x))
        RandGx.append(G(x))
        RandHxyz.append(H(x,y,z))
        SE2MP+=F(x)/dpgdx(x)

    E2MP=SE2MP*(b-a)/N[j]
    E1=I1*(b-a)/N[j] #estimado, que es el valor de la integral, f(x)
    E2=I2*(b-a)/N[j] #f(x)
    E3=I3*(b-a)*(d-c)**2/N[j] #f(x,y,z)
    print("con N=", N[j])    
    print("integral F",E1)
    print("integral G",E2) 
    print("integral H",E3)
    print("muestreo ponderado", E2MP)
    
    Var1=Var(N[j],RandFx,E1)
    print("Varianza F", Var1)
    Var2=Var(N[j],RandGx,E2)
    print("Varianza G", Var2)
    Var3=Var(N[j],RandHxyz,E3)
    print("Varianza H", Var3)

    S21.append(Var1)
    S22.append(Var2)
    S23.append(Var3)
    E1all.append(E1)
    E2all.append(E2)
    E3all.append(E3)

print("integral F dada por scipy",integrate.quad(F,1,10))
print("integral G dada por scipy",integrate.quad(G,1,10))
print("integral H dada por scipy",integrate.tplquad(H,1,10,0,2,0,2))


fig= plt.figure(figsize=(12,12))
plt.title("Estimados (integrales)")

#Graficas 
ax0= fig.add_subplot(131)
ax1= fig.add_subplot(132)
ax2 = fig.add_subplot(133)


ax0.plot(N,E1all, "p-", label="NvsE1")
ax0.legend()
ax1.plot(N,E2all, "p-", label="NvsE2")
ax1.legend()
ax2.plot(N,E3all, "p-", label="NvsE3")
ax2.legend()


fig1= plt.figure(figsize=(12,12))
plt.title("Varianzas")


ax0= fig1.add_subplot(131)
ax1= fig1.add_subplot(132)
ax2 = fig1.add_subplot(133)


ax0.plot(N,S21, "p-", label="NvsS21")
ax0.legend()
ax1.plot(N,S22, "p-", label="NvsS22")
ax1.legend()
ax2.plot(N,S23, "p-", label="NvsS23")
ax2.legend()

plt.show()
