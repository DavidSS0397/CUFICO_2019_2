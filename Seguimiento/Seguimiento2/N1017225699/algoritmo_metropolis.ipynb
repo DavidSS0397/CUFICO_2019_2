{
  "nbformat": 4,
  "nbformat_minor": 0,
  "metadata": {
    "kernelspec": {
      "display_name": "Python 3",
      "language": "python",
      "name": "python3"
    },
    "language_info": {
      "codemirror_mode": {
        "name": "ipython",
        "version": 3
      },
      "file_extension": ".py",
      "mimetype": "text/x-python",
      "name": "python",
      "nbconvert_exporter": "python",
      "pygments_lexer": "ipython3",
      "version": "3.6.8"
    },
    "colab": {
      "name": "Metropolis.ipynb",
      "provenance": [],
      "collapsed_sections": []
    }
  },
  "cells": [
    {
      "cell_type": "code",
      "metadata": {
        "id": "2WJNp-yXJHZd",
        "colab_type": "code",
        "colab": {}
      },
      "source": [
        "import numpy as np \n",
        "from random import random\n",
        "import matplotlib.pyplot as plt"
      ],
      "execution_count": 0,
      "outputs": []
    },
    {
      "cell_type": "code",
      "metadata": {
        "id": "gtikjvy3JHZk",
        "colab_type": "code",
        "colab": {}
      },
      "source": [
        "a=-np.pi\n",
        "b=np.pi"
      ],
      "execution_count": 0,
      "outputs": []
    },
    {
      "cell_type": "code",
      "metadata": {
        "id": "O8m0p47bJHZn",
        "colab_type": "code",
        "colab": {}
      },
      "source": [
        "def P(phi):\n",
        "    p=(1/(0.1*np.sqrt(2*np.pi)))*np.exp(-(phi)**2/2*(0.1)**2)\n",
        "    #p=phi**2\n",
        "    return p"
      ],
      "execution_count": 0,
      "outputs": []
    },
    {
      "cell_type": "code",
      "metadata": {
        "id": "EjSEnK6UJHZr",
        "colab_type": "code",
        "colab": {}
      },
      "source": [
        ""
      ],
      "execution_count": 0,
      "outputs": []
    },
    {
      "cell_type": "code",
      "metadata": {
        "id": "583UCc2VJHZv",
        "colab_type": "code",
        "colab": {}
      },
      "source": [
        "def DeltaS(P,phi_p,phi_0):\n",
        "    DS=-np.log(P(phi_p)/P(phi_0))\n",
        "    return DS"
      ],
      "execution_count": 0,
      "outputs": []
    },
    {
      "cell_type": "code",
      "metadata": {
        "id": "rpHrGl8rJHZ0",
        "colab_type": "code",
        "colab": {}
      },
      "source": [
        "S=[]\n",
        "phi_0=(b-a)*random()+a\n",
        "for i in range (10000):\n",
        "    phi_p=(b-a)*random()+a\n",
        "    \n",
        "    if DeltaS(P,phi_p,phi_0)<0:\n",
        "        phi=phi_p\n",
        "        S.append(phi)\n",
        "    else:\n",
        "        x=random()\n",
        "        p=(phi_p)/(phi_0)\n",
        "        if x < p:\n",
        "            phi=phi_p\n",
        "            S.append(phi)\n",
        "        else:\n",
        "            pass\n",
        "    phi_0=phi_p\n",
        "\n",
        "#S=np.array(S)\n",
        "        "
      ],
      "execution_count": 0,
      "outputs": []
    },
    {
      "cell_type": "code",
      "metadata": {
        "id": "6Zin8fH_JHZ4",
        "colab_type": "code",
        "colab": {}
      },
      "source": [
        "H=np.histogram(S)\n"
      ],
      "execution_count": 0,
      "outputs": []
    },
    {
      "cell_type": "code",
      "metadata": {
        "id": "U3MpaFOtJHZ7",
        "colab_type": "code",
        "colab": {}
      },
      "source": [
        "X=np.linspace(0,len(H),len(H))"
      ],
      "execution_count": 0,
      "outputs": []
    },
    {
      "cell_type": "code",
      "metadata": {
        "id": "zqD-D5y5JHaO",
        "colab_type": "code",
        "colab": {
          "base_uri": "https://localhost:8080/",
          "height": 350
        },
        "outputId": "00926b69-9dcf-4fd6-ea87-054fd5c0c1b6"
      },
      "source": [
        "#plt.bar(H[1][:10],H[0],width=0.5)\n",
        "plt.hist(S)"
      ],
      "execution_count": 22,
      "outputs": [
        {
          "output_type": "execute_result",
          "data": {
            "text/plain": [
              "(array([544., 646., 742., 868., 974., 912., 823., 782., 630., 563.]),\n",
              " array([-3.14040805e+00, -2.51262632e+00, -1.88484459e+00, -1.25706286e+00,\n",
              "        -6.29281125e-01, -1.49939395e-03,  6.26282337e-01,  1.25406407e+00,\n",
              "         1.88184580e+00,  2.50962753e+00,  3.13740926e+00]),\n",
              " <a list of 10 Patch objects>)"
            ]
          },
          "metadata": {
            "tags": []
          },
          "execution_count": 22
        },
        {
          "output_type": "display_data",
          "data": {
            "image/png": "[encoded data removed]",
            "text/plain": [
              "<Figure size 432x288 with 1 Axes>"
            ]
          },
          "metadata": {
            "tags": []
          }
        }
      ]
    },
    {
      "cell_type": "code",
      "metadata": {
        "id": "WoFBhEjtJHaT",
        "colab_type": "code",
        "colab": {}
      },
      "source": [
        "\n",
        "\n"
      ],
      "execution_count": 0,
      "outputs": []
    },
    {
      "cell_type": "code",
      "metadata": {
        "id": "G7NOhgr3Th1K",
        "colab_type": "code",
        "colab": {}
      },
      "source": [
        ""
      ],
      "execution_count": 0,
      "outputs": []
    },
    {
      "cell_type": "code",
      "metadata": {
        "id": "Yszsbi5QTmKb",
        "colab_type": "code",
        "colab": {}
      },
      "source": [
        ""
      ],
      "execution_count": 0,
      "outputs": []
    },
    {
      "cell_type": "code",
      "metadata": {
        "id": "hd4rh8QnUZFB",
        "colab_type": "code",
        "colab": {}
      },
      "source": [
        ""
      ],
      "execution_count": 0,
      "outputs": []
    }
  ]
}