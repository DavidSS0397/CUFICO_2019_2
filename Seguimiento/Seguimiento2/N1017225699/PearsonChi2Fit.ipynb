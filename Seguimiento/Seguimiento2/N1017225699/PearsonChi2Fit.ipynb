{
  "nbformat": 4,
  "nbformat_minor": 0,
  "metadata": {
    "colab": {
      "name": "Chi2Fitting.ipynb",
      "provenance": [],
      "collapsed_sections": []
    },
    "kernelspec": {
      "name": "python3",
      "display_name": "Python 3"
    }
  },
  "cells": [
    {
      "cell_type": "markdown",
      "metadata": {
        "id": "l2Kx9iqQ4ToX",
        "colab_type": "text"
      },
      "source": [
        "# With this notebook we will:\n",
        "## 1. Install packages needed for root\n",
        "## 2. Download a binary root that compiled in google drive \"colaboratory\" environement\n",
        "## 3. Modify the PATH in order to tell python where to look for pyROOT\n",
        "## 4. Finally, test ROOT installation with a simple example\n",
        "\n",
        "##### Author: Jose Ruiz\n",
        "##### Maintainer: Jose Ruiz\n",
        "##### Developed at: Universidad de Antioquia\n"
      ]
    },
    {
      "cell_type": "markdown",
      "metadata": {
        "id": "C1gPEaTg6fLl",
        "colab_type": "text"
      },
      "source": [
        "### 1. Install packages needed for root"
      ]
    },
    {
      "cell_type": "code",
      "metadata": {
        "id": "gYEA4UKNplb6",
        "colab_type": "code",
        "outputId": "4776dcc5-138e-449a-d9ab-c2e49862208c",
        "colab": {
          "base_uri": "https://localhost:8080/",
          "height": 306
        }
      },
      "source": [
        "!apt-get install git dpkg-dev cmake g++ gcc binutils libx11-dev libxpm-dev libxft-dev libxext-dev tar gfortran subversion"
      ],
      "execution_count": 0,
      "outputs": [
        {
          "output_type": "stream",
          "text": [
            "Reading package lists... Done\n",
            "Building dependency tree       \n",
            "Reading state information... Done\n",
            "libxext-dev is already the newest version (2:1.3.3-1).\n",
            "libxft-dev is already the newest version (2.3.2-1).\n",
            "libxpm-dev is already the newest version (1:3.5.12-1).\n",
            "subversion is already the newest version (1.9.7-4ubuntu1).\n",
            "binutils is already the newest version (2.30-21ubuntu1~18.04.2).\n",
            "cmake is already the newest version (3.10.2-1ubuntu2.18.04.1).\n",
            "dpkg-dev is already the newest version (1.19.0.5ubuntu2.3).\n",
            "g++ is already the newest version (4:7.4.0-1ubuntu2.3).\n",
            "gcc is already the newest version (4:7.4.0-1ubuntu2.3).\n",
            "gfortran is already the newest version (4:7.4.0-1ubuntu2.3).\n",
            "git is already the newest version (1:2.17.1-1ubuntu0.4).\n",
            "libx11-dev is already the newest version (2:1.6.4-3ubuntu0.2).\n",
            "tar is already the newest version (1.29b-2ubuntu0.1).\n",
            "0 upgraded, 0 newly installed, 0 to remove and 33 not upgraded.\n"
          ],
          "name": "stdout"
        }
      ]
    },
    {
      "cell_type": "markdown",
      "metadata": {
        "id": "3i5bTy4x601V",
        "colab_type": "text"
      },
      "source": [
        "### 2. Mount the drive to get the root binary and untar it "
      ]
    },
    {
      "cell_type": "code",
      "metadata": {
        "id": "gMhjqJ9noRcX",
        "colab_type": "code",
        "outputId": "6d2a6be4-aaf9-4acf-e35e-766dee99693f",
        "colab": {
          "base_uri": "https://localhost:8080/",
          "height": 34
        }
      },
      "source": [
        "# Load the Drive helper and mount\n",
        "from google.colab import drive\n",
        "\n",
        "# This will prompt for authorization.\n",
        "drive.mount('/content/drive', force_remount=True)"
      ],
      "execution_count": 0,
      "outputs": [
        {
          "output_type": "stream",
          "text": [
            "Mounted at /content/drive\n"
          ],
          "name": "stdout"
        }
      ]
    },
    {
      "cell_type": "code",
      "metadata": {
        "id": "dt2PEUjQo0RY",
        "colab_type": "code",
        "outputId": "68fccece-511f-45c2-b227-22a973d0b3a3",
        "colab": {
          "base_uri": "https://localhost:8080/",
          "height": 136
        }
      },
      "source": [
        "# After executing the cell above, Drive\n",
        "# files will be present in \"/content/drive/My Drive\".\n",
        "!ls \"/content/drive/Shared drives/PyROOT_in_Google/\""
      ],
      "execution_count": 0,
      "outputs": [
        {
          "output_type": "stream",
          "text": [
            "BasicAnalysis.ipynb\t  HistogrammingInROOT.ipynb\n",
            "BasicPyROOTExample.ipynb  monje-a-lo-bonzo-blanco-y-negro.png\n",
            "Chi2Fitting.ipynb\t  piano-C5.wav\n",
            "Data5.root\t\t  Random2DHistos\n",
            "FFT_imagen.ipynb\t  root_build_google_yikes.tar\n",
            "FFT.ipynb\t\t  TrimmedTree.root\n",
            "FLUTEMI.WAV\t\t  TTreeExcercise.ipynb\n"
          ],
          "name": "stdout"
        }
      ]
    },
    {
      "cell_type": "code",
      "metadata": {
        "id": "tRQGlQ4Hqau9",
        "colab_type": "code",
        "colab": {}
      },
      "source": [
        "!tar -xf /content/drive/Shared\\ drives/PyROOT_in_Google/root_build_google_yikes.tar"
      ],
      "execution_count": 0,
      "outputs": []
    },
    {
      "cell_type": "code",
      "metadata": {
        "id": "DfLQ4DrprjLU",
        "colab_type": "code",
        "outputId": "14cddcdc-c481-4b34-9d53-edc73c1eb7dc",
        "colab": {
          "base_uri": "https://localhost:8080/",
          "height": 85
        }
      },
      "source": [
        "!ls -ltrh"
      ],
      "execution_count": 0,
      "outputs": [
        {
          "output_type": "stream",
          "text": [
            "total 12K\n",
            "drwxr-xr-x 44 root root 4.0K Sep 20  2018 root_build\n",
            "drwxr-xr-x  1 root root 4.0K Nov  6 16:17 sample_data\n",
            "drwx------  4 root root 4.0K Nov 11 20:26 drive\n"
          ],
          "name": "stdout"
        }
      ]
    },
    {
      "cell_type": "markdown",
      "metadata": {
        "id": "1nHFk9y68VVP",
        "colab_type": "text"
      },
      "source": [
        "\n",
        "### 3. Modify the PATH in order to tell python where to look for pyROOT\n"
      ]
    },
    {
      "cell_type": "code",
      "metadata": {
        "id": "N3ndoY6iu6_J",
        "colab_type": "code",
        "colab": {}
      },
      "source": [
        "import sys\n",
        "sys.path.append(\"/content/root_build/\")\n",
        "sys.path.append(\"/content/root_build/bin/\")\n",
        "sys.path.append(\"/content/root_build/include/\")\n",
        "sys.path.append(\"/content/root_build/lib/\")"
      ],
      "execution_count": 0,
      "outputs": []
    },
    {
      "cell_type": "code",
      "metadata": {
        "id": "lTFxGdo6v-vn",
        "colab_type": "code",
        "outputId": "eb25e44d-48e1-45ce-be92-628de522a304",
        "colab": {
          "base_uri": "https://localhost:8080/",
          "height": 34
        }
      },
      "source": [
        "import ROOT"
      ],
      "execution_count": 2,
      "outputs": [
        {
          "output_type": "stream",
          "text": [
            "Welcome to JupyROOT 6.14/04\n"
          ],
          "name": "stdout"
        }
      ]
    },
    {
      "cell_type": "code",
      "metadata": {
        "id": "vjAXfvIGaE3W",
        "colab_type": "code",
        "colab": {}
      },
      "source": [
        "#TH1F(\"hfix\",\"hfix title\",nbins,xlow,xup)\n",
        "BKG = ROOT.TH1F( 'BKG', 'My background model', 20, 50, 1050 )"
      ],
      "execution_count": 0,
      "outputs": []
    },
    {
      "cell_type": "code",
      "metadata": {
        "id": "K5Q84Rog8-Uu",
        "colab_type": "code",
        "outputId": "32410378-146c-4bf1-9008-eb39c5fe70bb",
        "colab": {
          "base_uri": "https://localhost:8080/",
          "height": 889
        }
      },
      "source": [
        "c1 = ROOT.TCanvas( 'c1', 'My First Data example', 200, 10, 700, 900 )\n",
        "c1.SetFillColor( 18 )\n",
        "\n",
        "#This creates a function of variable x with 4 parameters. \n",
        "expde = ROOT.TF1(\"expde\",\"([2]*expo)+[3]\",50,1050)\n",
        "\n",
        "#The parameters must be initialized via\n",
        "expde.SetParameters(0.0,-0.005,100,0.0)\n",
        "\n",
        "expde.Draw()\n",
        "\n",
        "c1.Update()\n",
        "from ROOT import gROOT \n",
        "gROOT.GetListOfCanvases().Draw()"
      ],
      "execution_count": 4,
      "outputs": [
        {
          "output_type": "display_data",
          "data": {
            "image/png": "[encoded data removed]",
            "text/plain": [
              "<IPython.core.display.Image object>"
            ]
          },
          "metadata": {
            "tags": []
          }
        }
      ]
    },
    {
      "cell_type": "code",
      "metadata": {
        "id": "pz0QdzoJgchK",
        "colab_type": "code",
        "colab": {}
      },
      "source": [
        "BKG.FillRandom(\"expde\",100000)"
      ],
      "execution_count": 0,
      "outputs": []
    },
    {
      "cell_type": "code",
      "metadata": {
        "id": "TFR5T97ScgnG",
        "colab_type": "code",
        "outputId": "1f8d0c97-f8f0-4020-b473-5c0b5be7ad9f",
        "colab": {
          "base_uri": "https://localhost:8080/",
          "height": 906
        }
      },
      "source": [
        "c1 = ROOT.TCanvas( 'c1', 'My First Data example', 200, 10, 700, 900 )\n",
        "c1.SetFillColor( 18 )\n",
        "BKG.Draw()\n",
        "c1.Update()\n",
        "from ROOT import gROOT \n",
        "gROOT.GetListOfCanvases().Draw()"
      ],
      "execution_count": 6,
      "outputs": [
        {
          "output_type": "stream",
          "text": [
            "Warning in <TCanvas::Constructor>: Deleting canvas with same name: c1\n"
          ],
          "name": "stderr"
        },
        {
          "output_type": "display_data",
          "data": {
            "image/png": "[encoded data removed]",
            "text/plain": [
              "<IPython.core.display.Image object>"
            ]
          },
          "metadata": {
            "tags": []
          }
        }
      ]
    },
    {
      "cell_type": "code",
      "metadata": {
        "id": "pg5NPkDCkMH_",
        "colab_type": "code",
        "colab": {}
      },
      "source": [
        "SignalModel = ROOT.TH1F( 'sig', 'My signal model', 20, 50, 1050 )"
      ],
      "execution_count": 0,
      "outputs": []
    },
    {
      "cell_type": "code",
      "metadata": {
        "id": "qmKR6xLioJOa",
        "colab_type": "code",
        "colab": {}
      },
      "source": [
        "signal = ROOT.TF1(\"signal\", \"gaus\", 50, 1050)\n",
        "signal.SetParameters(1.0,500.0,50.0)"
      ],
      "execution_count": 0,
      "outputs": []
    },
    {
      "cell_type": "code",
      "metadata": {
        "id": "GVkfu7jokvuf",
        "colab_type": "code",
        "colab": {}
      },
      "source": [
        "SignalModel.FillRandom(\"signal\",10000)"
      ],
      "execution_count": 0,
      "outputs": []
    },
    {
      "cell_type": "code",
      "metadata": {
        "id": "APOzMnsnk_En",
        "colab_type": "code",
        "outputId": "29252e0d-f9e9-4c28-da91-aa2b5c3dac8c",
        "colab": {
          "base_uri": "https://localhost:8080/",
          "height": 889
        }
      },
      "source": [
        "SignalModel.Draw()\n",
        "SignalModel.SetLineColor(2)\n",
        "c1.Update()\n",
        "gROOT.GetListOfCanvases().Draw()"
      ],
      "execution_count": 10,
      "outputs": [
        {
          "output_type": "display_data",
          "data": {
            "image/png": "[encoded data removed]",
            "text/plain": [
              "<IPython.core.display.Image object>"
            ]
          },
          "metadata": {
            "tags": []
          }
        }
      ]
    },
    {
      "cell_type": "code",
      "metadata": {
        "id": "SfKoRpW0miiA",
        "colab_type": "code",
        "colab": {}
      },
      "source": [
        "BkgSig = BKG.Clone(\"bkgpsig\")"
      ],
      "execution_count": 0,
      "outputs": []
    },
    {
      "cell_type": "code",
      "metadata": {
        "id": "Tf7PRDzKmrh_",
        "colab_type": "code",
        "colab": {
          "base_uri": "https://localhost:8080/",
          "height": 34
        },
        "outputId": "92b34191-01b0-446b-c1d8-d9b717fc7d82"
      },
      "source": [
        "BkgSig.Sumw2()\n",
        "\n",
        "'''\n",
        "Add\t(\tTF1 * \tf1,\n",
        "Double_t \tc1 = 1,\n",
        "Option_t * \toption = \"\" \n",
        ")\n",
        "\n",
        "Performs the operation: this = this + c1*f1 if errors are defined (see TH1::Sumw2), errors are also recalculated.\n",
        "\n",
        "'''\t\n",
        "\n",
        "\n",
        "BkgSig.Add(SignalModel,10)"
      ],
      "execution_count": 12,
      "outputs": [
        {
          "output_type": "execute_result",
          "data": {
            "text/plain": [
              "True"
            ]
          },
          "metadata": {
            "tags": []
          },
          "execution_count": 12
        }
      ]
    },
    {
      "cell_type": "code",
      "metadata": {
        "id": "FKgIQBuJehRQ",
        "colab_type": "code",
        "outputId": "7a14f3fc-35b7-4756-9905-0c28ab6f545a",
        "colab": {
          "base_uri": "https://localhost:8080/",
          "height": 889
        }
      },
      "source": [
        "BkgSig.SetLineColor(40)\n",
        "#BKG.Draw()\n",
        "#SignalModel.Draw()\n",
        "BkgSig.Draw(\"E\")\n",
        "c1.Update()\n",
        "gROOT.GetListOfCanvases().Draw()"
      ],
      "execution_count": 14,
      "outputs": [
        {
          "output_type": "display_data",
          "data": {
            "image/png": "[encoded data removed]",
            "text/plain": [
              "<IPython.core.display.Image object>"
            ]
          },
          "metadata": {
            "tags": []
          }
        }
      ]
    },
    {
      "cell_type": "code",
      "metadata": {
        "id": "6mI8eqh9NLLR",
        "colab_type": "code",
        "colab": {}
      },
      "source": [
        "DataFile = ROOT.TFile(\"/content/drive/Shared drives/PyROOT_in_Google/Data5.root\",\"read\")\n"
      ],
      "execution_count": 0,
      "outputs": []
    },
    {
      "cell_type": "code",
      "metadata": {
        "id": "NRoIGA82NVsI",
        "colab_type": "code",
        "outputId": "8ba86861-a713-4e7a-81d5-13b8e0d49797",
        "colab": {
          "base_uri": "https://localhost:8080/",
          "height": 34
        }
      },
      "source": [
        "DataHisto=DataFile.Get('data')\n",
        "DataHisto.ls()"
      ],
      "execution_count": 16,
      "outputs": [
        {
          "output_type": "stream",
          "text": [
            "OBJ: TH1F\tdata\tMy data : 0 at: 0x881c800\n"
          ],
          "name": "stdout"
        }
      ]
    },
    {
      "cell_type": "code",
      "metadata": {
        "id": "MG3ui5o4NnWP",
        "colab_type": "code",
        "outputId": "5bda281d-c6dc-4c61-807b-adc755eb8f5d",
        "colab": {
          "base_uri": "https://localhost:8080/",
          "height": 889
        }
      },
      "source": [
        "DataHisto.Draw(\"E\")\n",
        "c1.Update()\n",
        "gROOT.GetListOfCanvases().Draw()"
      ],
      "execution_count": 17,
      "outputs": [
        {
          "output_type": "display_data",
          "data": {
            "image/png": "[encoded data removed]",
            "text/plain": [
              "<IPython.core.display.Image object>"
            ]
          },
          "metadata": {
            "tags": []
          }
        }
      ]
    },
    {
      "cell_type": "code",
      "metadata": {
        "id": "CaWJEWNH6vrx",
        "colab_type": "code",
        "colab": {
          "base_uri": "https://localhost:8080/",
          "height": 357
        },
        "outputId": "a25573cb-12d8-4c2a-8a4a-69abc4037c84"
      },
      "source": [
        "for j in range(DataHisto.GetNbinsX()):\n",
        "    print(j)"
      ],
      "execution_count": 24,
      "outputs": [
        {
          "output_type": "stream",
          "text": [
            "0\n",
            "1\n",
            "2\n",
            "3\n",
            "4\n",
            "5\n",
            "6\n",
            "7\n",
            "8\n",
            "9\n",
            "10\n",
            "11\n",
            "12\n",
            "13\n",
            "14\n",
            "15\n",
            "16\n",
            "17\n",
            "18\n",
            "19\n"
          ],
          "name": "stdout"
        }
      ]
    },
    {
      "cell_type": "code",
      "metadata": {
        "id": "z3KpOpxLNtEv",
        "colab_type": "code",
        "outputId": "83688403-5ec8-4d91-f59a-bdf95edcc97f",
        "colab": {
          "base_uri": "https://localhost:8080/",
          "height": 54
        }
      },
      "source": [
        "FullChi2 = [] # Sum (Data-Model)**2/Data\n",
        "SignalNormalization = [0.001,0.01,0.1,0.5,0.7,1,2,3,4,5,10,100]\n",
        "for i in SignalNormalization:\n",
        "  BkgpSigModelTemp = BKG.Clone(\"bkgpsig\"+str(i))\n",
        "  BkgpSigModelTemp.Sumw2()\n",
        "  BkgpSigModelTemp.Add(SignalModel,i) #Performs the operation: this = this + c1*f1 if errors are defined (see TH1::Sumw2), errors are also recalculated.\n",
        "  chi2=0.0\n",
        "  for j in range(DataHisto.GetNbinsX()+1):\n",
        "    if DataHisto.GetBinContent(j)!=0: chi2+=((DataHisto.GetBinContent(j)-BkgpSigModelTemp.GetBinContent(j))**2)/DataHisto.GetBinContent(j)\n",
        "  FullChi2.append(chi2)\n",
        "print(FullChi2)"
      ],
      "execution_count": 23,
      "outputs": [
        {
          "output_type": "stream",
          "text": [
            "[307.7619416249779, 293.4867344002038, 236.72567842593216, 1876.0647462213376, 3853.8629857904793, 8268.221172526046, 35529.14279301557, 82092.20943734523, 147957.421105515, 233124.77779752496, 948493.7366151769, 96341804.97224952]\n"
          ],
          "name": "stdout"
        }
      ]
    },
    {
      "cell_type": "code",
      "metadata": {
        "id": "7JvopVtTQl5_",
        "colab_type": "code",
        "colab": {}
      },
      "source": [
        ""
      ],
      "execution_count": 0,
      "outputs": []
    }
  ]
}