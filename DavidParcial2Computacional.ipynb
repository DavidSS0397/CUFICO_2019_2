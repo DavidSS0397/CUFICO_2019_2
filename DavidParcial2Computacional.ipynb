{
  "nbformat": 4,
  "nbformat_minor": 0,
  "metadata": {
    "colab": {
      "name": "DavidParcial2Computacional.ipynb",
      "provenance": [],
      "collapsed_sections": [
        "qvrBhpA49h1g",
        "SiMXsMrfUt5k",
        "VhB3mVEZX9p2",
        "WsuL6nRzX-dj",
        "9abwd9ssX_PX",
        "WLoJgHciYAEv",
        "go4Em9ouYCt_",
        "Cs2RGhOlYFMK",
        "XuPs-fPAYF4e"
      ],
      "include_colab_link": true
    },
    "kernelspec": {
      "name": "python3",
      "display_name": "Python 3"
    }
  },
  "cells": [
    {
      "cell_type": "markdown",
      "metadata": {
        "id": "view-in-github",
        "colab_type": "text"
      },
      "source": [
        "<a href=\"https://colab.research.google.com/github/DavidT005/CUFICO_2019_2/blob/master/DavidParcial2Computacional.ipynb\" target=\"_parent\"><img src=\"https://colab.research.google.com/assets/colab-badge.svg\" alt=\"Open In Colab\"/></a>"
      ]
    },
    {
      "cell_type": "markdown",
      "metadata": {
        "id": "C1gPEaTg6fLl",
        "colab_type": "text"
      },
      "source": [
        "# 0. ROOT"
      ]
    },
    {
      "cell_type": "markdown",
      "metadata": {
        "id": "rYWC_6Gk8e2u",
        "colab_type": "text"
      },
      "source": [
        "Install packages needed for root"
      ]
    },
    {
      "cell_type": "code",
      "metadata": {
        "id": "gYEA4UKNplb6",
        "colab_type": "code",
        "outputId": "d0c7235e-97dc-42c6-a6b8-2470e2708719",
        "colab": {
          "base_uri": "https://localhost:8080/",
          "height": 1000
        }
      },
      "source": [
        "!apt-get install git dpkg-dev cmake g++ gcc binutils libx11-dev libxpm-dev libxft-dev libxext-dev tar gfortran subversion"
      ],
      "execution_count": 2,
      "outputs": [
        {
          "output_type": "stream",
          "text": [
            "Reading package lists... Done\n",
            "Building dependency tree       \n",
            "Reading state information... Done\n",
            "libxext-dev is already the newest version (2:1.3.3-1).\n",
            "libxext-dev set to manually installed.\n",
            "libxft-dev is already the newest version (2.3.2-1).\n",
            "binutils is already the newest version (2.30-21ubuntu1~18.04.2).\n",
            "binutils set to manually installed.\n",
            "cmake is already the newest version (3.10.2-1ubuntu2.18.04.1).\n",
            "g++ is already the newest version (4:7.4.0-1ubuntu2.3).\n",
            "g++ set to manually installed.\n",
            "gcc is already the newest version (4:7.4.0-1ubuntu2.3).\n",
            "gcc set to manually installed.\n",
            "gfortran is already the newest version (4:7.4.0-1ubuntu2.3).\n",
            "git is already the newest version (1:2.17.1-1ubuntu0.4).\n",
            "libx11-dev is already the newest version (2:1.6.4-3ubuntu0.2).\n",
            "libx11-dev set to manually installed.\n",
            "tar is already the newest version (1.29b-2ubuntu0.1).\n",
            "The following additional packages will be installed:\n",
            "  libapr1 libaprutil1 libdpkg-perl libserf-1-1 libsvn1\n",
            "Suggested packages:\n",
            "  debian-keyring bzr db5.3-util libapache2-mod-svn subversion-tools\n",
            "Recommended packages:\n",
            "  fakeroot libalgorithm-merge-perl libfile-fcntllock-perl\n",
            "The following NEW packages will be installed:\n",
            "  libapr1 libaprutil1 libserf-1-1 libsvn1 libxpm-dev subversion\n",
            "The following packages will be upgraded:\n",
            "  dpkg-dev libdpkg-perl\n",
            "2 upgraded, 6 newly installed, 0 to remove and 33 not upgraded.\n",
            "Need to get 3,142 kB of archives.\n",
            "After this operation, 10.1 MB of additional disk space will be used.\n",
            "Get:1 http://archive.ubuntu.com/ubuntu bionic-updates/main amd64 dpkg-dev all 1.19.0.5ubuntu2.3 [607 kB]\n",
            "Get:2 http://archive.ubuntu.com/ubuntu bionic-updates/main amd64 libdpkg-perl all 1.19.0.5ubuntu2.3 [211 kB]\n",
            "Get:3 http://archive.ubuntu.com/ubuntu bionic/main amd64 libapr1 amd64 1.6.3-2 [90.9 kB]\n",
            "Get:4 http://archive.ubuntu.com/ubuntu bionic/main amd64 libaprutil1 amd64 1.6.1-2 [84.4 kB]\n",
            "Get:5 http://archive.ubuntu.com/ubuntu bionic/universe amd64 libserf-1-1 amd64 1.3.9-6 [44.4 kB]\n",
            "Get:6 http://archive.ubuntu.com/ubuntu bionic/universe amd64 libsvn1 amd64 1.9.7-4ubuntu1 [1,183 kB]\n",
            "Get:7 http://archive.ubuntu.com/ubuntu bionic/main amd64 libxpm-dev amd64 1:3.5.12-1 [87.4 kB]\n",
            "Get:8 http://archive.ubuntu.com/ubuntu bionic/universe amd64 subversion amd64 1.9.7-4ubuntu1 [834 kB]\n",
            "Fetched 3,142 kB in 4s (734 kB/s)\n",
            "(Reading database ... 132684 files and directories currently installed.)\n",
            "Preparing to unpack .../0-dpkg-dev_1.19.0.5ubuntu2.3_all.deb ...\n",
            "Unpacking dpkg-dev (1.19.0.5ubuntu2.3) over (1.19.0.5ubuntu2.2) ...\n",
            "Preparing to unpack .../1-libdpkg-perl_1.19.0.5ubuntu2.3_all.deb ...\n",
            "Unpacking libdpkg-perl (1.19.0.5ubuntu2.3) over (1.19.0.5ubuntu2.2) ...\n",
            "Selecting previously unselected package libapr1:amd64.\n",
            "Preparing to unpack .../2-libapr1_1.6.3-2_amd64.deb ...\n",
            "Unpacking libapr1:amd64 (1.6.3-2) ...\n",
            "Selecting previously unselected package libaprutil1:amd64.\n",
            "Preparing to unpack .../3-libaprutil1_1.6.1-2_amd64.deb ...\n",
            "Unpacking libaprutil1:amd64 (1.6.1-2) ...\n",
            "Selecting previously unselected package libserf-1-1:amd64.\n",
            "Preparing to unpack .../4-libserf-1-1_1.3.9-6_amd64.deb ...\n",
            "Unpacking libserf-1-1:amd64 (1.3.9-6) ...\n",
            "Selecting previously unselected package libsvn1:amd64.\n",
            "Preparing to unpack .../5-libsvn1_1.9.7-4ubuntu1_amd64.deb ...\n",
            "Unpacking libsvn1:amd64 (1.9.7-4ubuntu1) ...\n",
            "Selecting previously unselected package libxpm-dev:amd64.\n",
            "Preparing to unpack .../6-libxpm-dev_1%3a3.5.12-1_amd64.deb ...\n",
            "Unpacking libxpm-dev:amd64 (1:3.5.12-1) ...\n",
            "Selecting previously unselected package subversion.\n",
            "Preparing to unpack .../7-subversion_1.9.7-4ubuntu1_amd64.deb ...\n",
            "Unpacking subversion (1.9.7-4ubuntu1) ...\n",
            "Setting up libapr1:amd64 (1.6.3-2) ...\n",
            "Setting up libxpm-dev:amd64 (1:3.5.12-1) ...\n",
            "Setting up libdpkg-perl (1.19.0.5ubuntu2.3) ...\n",
            "Setting up dpkg-dev (1.19.0.5ubuntu2.3) ...\n",
            "Processing triggers for libc-bin (2.27-3ubuntu1) ...\n",
            "Setting up libaprutil1:amd64 (1.6.1-2) ...\n",
            "Processing triggers for man-db (2.8.3-2ubuntu0.1) ...\n",
            "Setting up libserf-1-1:amd64 (1.3.9-6) ...\n",
            "Setting up libsvn1:amd64 (1.9.7-4ubuntu1) ...\n",
            "Setting up subversion (1.9.7-4ubuntu1) ...\n",
            "Processing triggers for libc-bin (2.27-3ubuntu1) ...\n"
          ],
          "name": "stdout"
        }
      ]
    },
    {
      "cell_type": "markdown",
      "metadata": {
        "id": "3i5bTy4x601V",
        "colab_type": "text"
      },
      "source": [
        "Mount the drive to get the root binary and untar it "
      ]
    },
    {
      "cell_type": "code",
      "metadata": {
        "id": "gMhjqJ9noRcX",
        "colab_type": "code",
        "outputId": "3749bf0e-6d89-4b33-fe29-f486bad932b4",
        "colab": {
          "base_uri": "https://localhost:8080/",
          "height": 128
        }
      },
      "source": [
        "# Load the Drive helper and mount\n",
        "from google.colab import drive\n",
        "\n",
        "# This will prompt for authorization.\n",
        "drive.mount('/content/drive', force_remount=True)"
      ],
      "execution_count": 3,
      "outputs": [
        {
          "output_type": "stream",
          "text": [
            "Go to this URL in a browser: https://accounts.google.com/o/oauth2/auth?client_id=947318989803-6bn6qk8qdgf4n4g3pfee6491hc0brc4i.apps.googleusercontent.com&redirect_uri=urn%3aietf%3awg%3aoauth%3a2.0%3aoob&response_type=code&scope=email%20https%3a%2f%2fwww.googleapis.com%2fauth%2fdocs.test%20https%3a%2f%2fwww.googleapis.com%2fauth%2fdrive%20https%3a%2f%2fwww.googleapis.com%2fauth%2fdrive.photos.readonly%20https%3a%2f%2fwww.googleapis.com%2fauth%2fpeopleapi.readonly\n",
            "\n",
            "Enter your authorization code:\n",
            "··········\n",
            "Mounted at /content/drive\n"
          ],
          "name": "stdout"
        }
      ]
    },
    {
      "cell_type": "code",
      "metadata": {
        "id": "dt2PEUjQo0RY",
        "colab_type": "code",
        "outputId": "b99bf859-9558-4c4f-ec1f-e3db61b2a953",
        "colab": {
          "base_uri": "https://localhost:8080/",
          "height": 181
        }
      },
      "source": [
        "# After executing the cell above, Drive\n",
        "# files will be present in \"/content/drive/My Drive\".\n",
        "!ls \"/content/drive/Shared drives/PyROOT_in_Google/\""
      ],
      "execution_count": 4,
      "outputs": [
        {
          "output_type": "stream",
          "text": [
            "BasicAnalysis.ipynb\t  HistogrammingInROOT.ipynb\n",
            "BasicPyROOTExample.ipynb  monje-a-lo-bonzo-blanco-y-negro.png\n",
            "Chi2Fitting.ipynb\t  piano-C5.wav\n",
            "Data5.root\t\t  Random2DHistos\n",
            "DatosParcial2\t\t  root_build_google_yikes.tar\n",
            "DatosResonancia.root\t  Temporal\n",
            "FFT_imagen.ipynb\t  TrimmedTree.root\n",
            "FFT.ipynb\t\t  TTreeExcercise.ipynb\n",
            "FLUTEMI.WAV\n"
          ],
          "name": "stdout"
        }
      ]
    },
    {
      "cell_type": "code",
      "metadata": {
        "id": "tRQGlQ4Hqau9",
        "colab_type": "code",
        "colab": {}
      },
      "source": [
        "!tar -xf /content/drive/Shared\\ drives/PyROOT_in_Google/root_build_google_yikes.tar"
      ],
      "execution_count": 0,
      "outputs": []
    },
    {
      "cell_type": "code",
      "metadata": {
        "id": "DfLQ4DrprjLU",
        "colab_type": "code",
        "outputId": "ccf285b8-1337-4bd8-f768-c2cd9a368cf8",
        "colab": {
          "base_uri": "https://localhost:8080/",
          "height": 90
        }
      },
      "source": [
        "!ls -ltrh"
      ],
      "execution_count": 6,
      "outputs": [
        {
          "output_type": "stream",
          "text": [
            "total 12K\n",
            "drwxr-xr-x 44 root root 4.0K Sep 20  2018 root_build\n",
            "drwxr-xr-x  1 root root 4.0K Nov  6 16:17 sample_data\n",
            "drwx------  4 root root 4.0K Nov 18 00:49 drive\n"
          ],
          "name": "stdout"
        }
      ]
    },
    {
      "cell_type": "markdown",
      "metadata": {
        "id": "1nHFk9y68VVP",
        "colab_type": "text"
      },
      "source": [
        "Modify the PATH in order to tell python where to look for pyROOT\n"
      ]
    },
    {
      "cell_type": "code",
      "metadata": {
        "id": "N3ndoY6iu6_J",
        "colab_type": "code",
        "colab": {}
      },
      "source": [
        "import sys\n",
        "sys.path.append(\"/content/root_build/\")\n",
        "sys.path.append(\"/content/root_build/bin/\")\n",
        "sys.path.append(\"/content/root_build/include/\")\n",
        "sys.path.append(\"/content/root_build/lib/\")\n",
        "del sys #to free RAM"
      ],
      "execution_count": 0,
      "outputs": []
    },
    {
      "cell_type": "code",
      "metadata": {
        "id": "lTFxGdo6v-vn",
        "colab_type": "code",
        "outputId": "e974b2d2-755f-47a2-f37a-32d2f4d940af",
        "colab": {
          "base_uri": "https://localhost:8080/",
          "height": 35
        }
      },
      "source": [
        "import ROOT"
      ],
      "execution_count": 8,
      "outputs": [
        {
          "output_type": "stream",
          "text": [
            "Welcome to JupyROOT 6.14/04\n"
          ],
          "name": "stdout"
        }
      ]
    },
    {
      "cell_type": "markdown",
      "metadata": {
        "id": "YhDPdi6e7G4G",
        "colab_type": "text"
      },
      "source": [
        "# 1. Histograma"
      ]
    },
    {
      "cell_type": "markdown",
      "metadata": {
        "id": "qvrBhpA49h1g",
        "colab_type": "text"
      },
      "source": [
        "## Ubicación de datos"
      ]
    },
    {
      "cell_type": "code",
      "metadata": {
        "id": "oIZtRvPR7nwg",
        "colab_type": "code",
        "outputId": "eeb68614-3f63-47ce-b64c-217136e81a69",
        "colab": {
          "base_uri": "https://localhost:8080/",
          "height": 0
        }
      },
      "source": [
        "%ls"
      ],
      "execution_count": 9,
      "outputs": [
        {
          "output_type": "stream",
          "text": [
            "\u001b[0m\u001b[01;34mdrive\u001b[0m/  \u001b[01;34mroot_build\u001b[0m/  \u001b[01;34msample_data\u001b[0m/\n"
          ],
          "name": "stdout"
        }
      ]
    },
    {
      "cell_type": "code",
      "metadata": {
        "id": "J3_Zd5NY8mo1",
        "colab_type": "code",
        "outputId": "41b1f6f1-c907-41e8-a109-3253ff0edb4c",
        "colab": {
          "base_uri": "https://localhost:8080/",
          "height": 0
        }
      },
      "source": [
        "%cd drive/\n",
        "%ls"
      ],
      "execution_count": 10,
      "outputs": [
        {
          "output_type": "stream",
          "text": [
            "/content/drive\n",
            "\u001b[0m\u001b[01;34m'My Drive'\u001b[0m/  \u001b[01;34m'Shared drives'\u001b[0m/\n"
          ],
          "name": "stdout"
        }
      ]
    },
    {
      "cell_type": "code",
      "metadata": {
        "id": "QHGoNsLM8tNb",
        "colab_type": "code",
        "outputId": "97159516-b7dd-4c34-840e-67119e1fa9fe",
        "colab": {
          "base_uri": "https://localhost:8080/",
          "height": 0
        }
      },
      "source": [
        "%cd Shared\\ drives/\n",
        "%ls"
      ],
      "execution_count": 11,
      "outputs": [
        {
          "output_type": "stream",
          "text": [
            "/content/drive/Shared drives\n",
            "\u001b[0m\u001b[01;34m3erParcialClasica\u001b[0m/  \u001b[01;34mPyROOT_in_Google\u001b[0m/\n"
          ],
          "name": "stdout"
        }
      ]
    },
    {
      "cell_type": "code",
      "metadata": {
        "id": "ZNhOkh-N9HTz",
        "colab_type": "code",
        "outputId": "528a2b19-b30f-4130-c220-00856d2d6567",
        "colab": {
          "base_uri": "https://localhost:8080/",
          "height": 0
        }
      },
      "source": [
        "%cd PyROOT_in_Google/\n",
        "%ls"
      ],
      "execution_count": 12,
      "outputs": [
        {
          "output_type": "stream",
          "text": [
            "/content/drive/Shared drives/PyROOT_in_Google\n",
            "BasicAnalysis.ipynb       HistogrammingInROOT.ipynb\n",
            "BasicPyROOTExample.ipynb  monje-a-lo-bonzo-blanco-y-negro.png\n",
            "Chi2Fitting.ipynb         piano-C5.wav\n",
            "Data5.root                \u001b[0m\u001b[01;34mRandom2DHistos\u001b[0m/\n",
            "\u001b[01;34mDatosParcial2\u001b[0m/            root_build_google_yikes.tar\n",
            "DatosResonancia.root      \u001b[01;34mTemporal\u001b[0m/\n",
            "FFT_imagen.ipynb          TrimmedTree.root\n",
            "FFT.ipynb                 TTreeExcercise.ipynb\n",
            "FLUTEMI.WAV\n"
          ],
          "name": "stdout"
        }
      ]
    },
    {
      "cell_type": "code",
      "metadata": {
        "id": "6C-BawDO9PaL",
        "colab_type": "code",
        "outputId": "3a55c153-1054-40e1-a587-fe7e73204f92",
        "colab": {
          "base_uri": "https://localhost:8080/",
          "height": 0
        }
      },
      "source": [
        "%cd DatosParcial2/\n",
        "%ls"
      ],
      "execution_count": 13,
      "outputs": [
        {
          "output_type": "stream",
          "text": [
            "/content/drive/Shared drives/PyROOT_in_Google/DatosParcial2\n",
            "N1017225699.root  N1036783619.root  N1041328785.root  N1152704745.root\n",
            "N1017248532.root  N1037652810.root  N1044508251.root  N1152706893.root\n",
            "N1017248976.root  N1037658939.root  N1045025129.root  N1214727927.root\n",
            "N1020492516.root  N1037658970.root  N1152216721.root  N1214742154.root\n",
            "N1036401107.root  N1037667562.root  N1152222545.root  N1233192753.root\n"
          ],
          "name": "stdout"
        }
      ]
    },
    {
      "cell_type": "markdown",
      "metadata": {
        "id": "ufGogKyf9rnQ",
        "colab_type": "text"
      },
      "source": [
        "## Carga de datos"
      ]
    },
    {
      "cell_type": "code",
      "metadata": {
        "id": "zbjjqvzIRzqK",
        "colab_type": "code",
        "outputId": "b67fab96-a2f6-44b9-9ea6-4c5e4ae2f1bc",
        "colab": {
          "base_uri": "https://localhost:8080/",
          "height": 35
        }
      },
      "source": [
        "DataChain = ROOT.TChain(\"SystemTree\") #Este nombre se encontró con un TBrowser en una instalación local de ROOT\n",
        "DataChain.Add(\"N1214742154.root\")"
      ],
      "execution_count": 14,
      "outputs": [
        {
          "output_type": "execute_result",
          "data": {
            "text/plain": [
              "1"
            ]
          },
          "metadata": {
            "tags": []
          },
          "execution_count": 14
        }
      ]
    },
    {
      "cell_type": "code",
      "metadata": {
        "id": "_R1ALajgSLpy",
        "colab_type": "code",
        "outputId": "85ecb5dd-5573-4042-a470-5fc443a388ca",
        "colab": {
          "base_uri": "https://localhost:8080/",
          "height": 35
        }
      },
      "source": [
        "DataChain"
      ],
      "execution_count": 15,
      "outputs": [
        {
          "output_type": "execute_result",
          "data": {
            "text/plain": [
              "<ROOT.TChain object (\"SystemTree\") at 0x7e5b200>"
            ]
          },
          "metadata": {
            "tags": []
          },
          "execution_count": 15
        }
      ]
    },
    {
      "cell_type": "code",
      "metadata": {
        "id": "ug1v7uS0we6P",
        "colab_type": "code",
        "outputId": "0a1ec6a7-99bc-4238-adce-32c006c72e7e",
        "colab": {
          "base_uri": "https://localhost:8080/",
          "height": 35
        }
      },
      "source": [
        "N = DataChain.GetEntries()\n",
        "print(\"The number of events is \",N)"
      ],
      "execution_count": 16,
      "outputs": [
        {
          "output_type": "stream",
          "text": [
            "The number of events is  80000\n"
          ],
          "name": "stdout"
        }
      ]
    },
    {
      "cell_type": "markdown",
      "metadata": {
        "id": "VeXORQOYS6q5",
        "colab_type": "text"
      },
      "source": [
        "## Dibujo del histograma"
      ]
    },
    {
      "cell_type": "code",
      "metadata": {
        "id": "rksplXEGSNUP",
        "colab_type": "code",
        "outputId": "4717ea8f-791e-4c05-d4e2-13e70fa0798b",
        "colab": {
          "base_uri": "https://localhost:8080/",
          "height": 889
        }
      },
      "source": [
        "c1 = ROOT.TCanvas( 'c1', 'Data', 200, 10, 700, 900 )#Creates an empty space to graph\n",
        "c1.SetFillColor( 18 )#makes the background gray\n",
        "DataChain.Draw(\"x\")\n",
        "c1.Update()#draws the histogram in buffer\n",
        "from ROOT import gROOT#Imports a pointer that allows getting information of everything that has been created using the ROOT library\n",
        "gROOT.GetListOfCanvases().Draw()#Returns info on all the canvases that have been created and then it graphs them. We have already graphed but this allows graphing in the collab"
      ],
      "execution_count": 17,
      "outputs": [
        {
          "output_type": "display_data",
          "data": {
            "image/png": "[encoded data removed]",
            "text/plain": [
              "<IPython.core.display.Image object>"
            ]
          },
          "metadata": {
            "tags": []
          }
        }
      ]
    },
    {
      "cell_type": "code",
      "metadata": {
        "id": "r483Pam1c2Fb",
        "colab_type": "code",
        "outputId": "f45ce4b3-a3cf-499a-ee1c-6ef468b23a49",
        "colab": {
          "base_uri": "https://localhost:8080/",
          "height": 907
        }
      },
      "source": [
        "c1 = ROOT.TCanvas( 'c1', 'Data', 200, 10, 700, 900 )#Creates an empty space to graph\n",
        "c1.SetFillColor( 18 )#makes the background gray\n",
        "DataChain.Draw(\"x>>h1(250,220,400)\")#Default upper limit by root is 700000\n",
        "c1.Update()#draws the histogram in buffer\n",
        "from ROOT import gROOT#Imports a pointer that allows getting information of everything that has been created using the ROOT library\n",
        "gROOT.GetListOfCanvases().Draw()#Returns info on all the canvases that have been created and then it graphs them. We have already graphed but this allows graphing in the collab"
      ],
      "execution_count": 18,
      "outputs": [
        {
          "output_type": "stream",
          "text": [
            "Warning in <TCanvas::Constructor>: Deleting canvas with same name: c1\n"
          ],
          "name": "stderr"
        },
        {
          "output_type": "display_data",
          "data": {
            "image/png": "[encoded data removed]",
            "text/plain": [
              "<IPython.core.display.Image object>"
            ]
          },
          "metadata": {
            "tags": []
          }
        }
      ]
    },
    {
      "cell_type": "code",
      "metadata": {
        "id": "g_WXhfoRdhFE",
        "colab_type": "code",
        "colab": {}
      },
      "source": [
        "mu_0 = 260 #Initial guess of \"mean\"\n",
        "c_0 = 300-240 #Initial guess of \"deviation\""
      ],
      "execution_count": 0,
      "outputs": []
    },
    {
      "cell_type": "markdown",
      "metadata": {
        "id": "0DtEcexYTBnd",
        "colab_type": "text"
      },
      "source": [
        "# 2. Implementación de metropolis"
      ]
    },
    {
      "cell_type": "markdown",
      "metadata": {
        "id": "CXEEgFe2bkbT",
        "colab_type": "text"
      },
      "source": [
        "## Definición de distribucion de Landau"
      ]
    },
    {
      "cell_type": "code",
      "metadata": {
        "id": "2LFSdg0sdW_S",
        "colab_type": "code",
        "colab": {}
      },
      "source": [
        "import numpy as np\n",
        "from scipy.integrate import quad\n",
        "import matplotlib.pyplot as plt"
      ],
      "execution_count": 0,
      "outputs": []
    },
    {
      "cell_type": "markdown",
      "metadata": {
        "id": "Z46e-RYCj6pg",
        "colab_type": "text"
      },
      "source": [
        "We will write the Landau function and replicate the graph on wikipeida"
      ]
    },
    {
      "cell_type": "code",
      "metadata": {
        "id": "kWu-YyTbTGub",
        "colab_type": "code",
        "outputId": "bf7132e3-ddd1-4c88-fe44-af62655ff711",
        "colab": {
          "base_uri": "https://localhost:8080/",
          "height": 320
        }
      },
      "source": [
        "mu_test, c_test = 0, 1 #Test values for the landau distribution as stated on wikipedia\n",
        "\n",
        "def landau_integrand(t, x, mu, c): #What is going to be integrated\n",
        "  return (1 / (np.pi * c)) * np.exp(-t) * np.cos(t * ((x - mu) / c) + ((2 * t) / np.pi) * np.log(t / c))#Returns the integrand of the PDF\n",
        "\n",
        "\n",
        "x_values = np.linspace(-5,15,100)#We study the probabilities of values between -5 and 15\n",
        "p_vals = []\n",
        "for x_i in x_values:\n",
        "  p_vals.append(quad(landau_integrand, 0, np.inf, args = (x_i, mu_test, c_test))[0]) #We calculate the integral  from 0 to infinity\n",
        "\n",
        "plt.figure(figsize = (10,5))\n",
        "plt.plot(x_values,p_vals)\n",
        "\n",
        "plt.grid()\n",
        "plt.show()"
      ],
      "execution_count": 75,
      "outputs": [
        {
          "output_type": "display_data",
          "data": {
            "image/png": "[encoded data removed]",
            "text/plain": [
              "<Figure size 720x360 with 1 Axes>"
            ]
          },
          "metadata": {
            "tags": []
          }
        }
      ]
    },
    {
      "cell_type": "markdown",
      "metadata": {
        "id": "fZuPkWnmF8zc",
        "colab_type": "text"
      },
      "source": [
        "Cabe resaltar que por errores de integración de scipy.integrate.quad() para valores muchos mayores a 15 la integral presenta valores que analiticamente no tienen sentido debido a que el integrando es un exponencial decreciente que multplica a coseno, que tiene valores entre 1 y -1"
      ]
    },
    {
      "cell_type": "code",
      "metadata": {
        "id": "5tZ_wHhwGc_Y",
        "colab_type": "code",
        "colab": {
          "base_uri": "https://localhost:8080/",
          "height": 484
        },
        "outputId": "4a82ad93-44be-4ef2-99b3-8a0d675c488a"
      },
      "source": [
        "x_values = np.linspace(-5,4000,1000)#We study the probabilities of values between -5 and 15\n",
        "p_vals = []\n",
        "for x_i in x_values:\n",
        "  p_vals.append(quad(landau_integrand, 0, np.inf, args = (x_i, mu_test, c_test))[0]) #We calculate the integral  from 0 to infinity\n",
        "\n",
        "plt.figure(figsize = (10,5))\n",
        "plt.plot(x_values,p_vals)\n",
        "\n",
        "plt.grid()\n",
        "plt.show()"
      ],
      "execution_count": 77,
      "outputs": [
        {
          "output_type": "stream",
          "text": [
            "/usr/local/lib/python3.6/dist-packages/ipykernel_launcher.py:4: IntegrationWarning: The maximum number of subdivisions (50) has been achieved.\n",
            "  If increasing the limit yields no improvement it is advised to analyze \n",
            "  the integrand in order to determine the difficulties.  If the position of a \n",
            "  local difficulty can be determined (singularity, discontinuity) one will \n",
            "  probably gain from splitting up the interval and calling the integrator \n",
            "  on the subranges.  Perhaps a special-purpose integrator should be used.\n",
            "  after removing the cwd from sys.path.\n",
            "/usr/local/lib/python3.6/dist-packages/ipykernel_launcher.py:4: IntegrationWarning: The integral is probably divergent, or slowly convergent.\n",
            "  after removing the cwd from sys.path.\n"
          ],
          "name": "stderr"
        },
        {
          "output_type": "display_data",
          "data": {
            "image/png": "[encoded data removed]",
            "text/plain": [
              "<Figure size 720x360 with 1 Axes>"
            ]
          },
          "metadata": {
            "tags": []
          }
        }
      ]
    },
    {
      "cell_type": "markdown",
      "metadata": {
        "id": "UbThf2adGv9B",
        "colab_type": "text"
      },
      "source": [
        "Se intentó aumentar el parametro \"limit\" del integrador, lo cual disminuye estos errores a cambio de un gran aumento en el tiempo de computo, entonces la cola de la función no se va a considerar en el ajuste de los datos, esto se justifica en que por la forma de los datos y la función, si la colina se ajusta correctamente, debe de ser igual para la cola."
      ]
    },
    {
      "cell_type": "markdown",
      "metadata": {
        "id": "mE9_NH04kSn2",
        "colab_type": "text"
      },
      "source": [
        "Now we will try to give it the shape of the data"
      ]
    },
    {
      "cell_type": "code",
      "metadata": {
        "id": "3mfWnqxpk-O4",
        "colab_type": "code",
        "outputId": "ca3bf87d-ccd1-4cc2-d415-c512e37801a8",
        "colab": {
          "base_uri": "https://localhost:8080/",
          "height": 447
        }
      },
      "source": [
        "mu_test, c_test = mu_0, c_0 #Test values for the landau distribution as stated on wikipedia\n",
        "\n",
        "def landau_integrand(t, x, mu, c): #What is going to be integrated\n",
        "  return (1 / (np.pi * c)) * np.exp(-t) * np.cos(t * ((x - mu) / c) + ((2 * t) / np.pi) * np.log(t / c))#Returns the integrand of the PDF\n",
        "\n",
        "\n",
        "x_values = np.linspace(100,1000,400)#We study the probabilities of values between 100 and 500\n",
        "p_vals = []\n",
        "for x_i in x_values:\n",
        "  p_vals.append(quad(landau_integrand, 0, np.inf, args = (x_i, mu_test, c_test), limit = 6)[0]) #We calculate the integral  from 0 to infinity\n",
        "\n",
        "plt.figure(figsize = (10,5))\n",
        "plt.plot(x_values,p_vals)\n",
        "\n",
        "plt.grid()\n",
        "plt.show()"
      ],
      "execution_count": 108,
      "outputs": [
        {
          "output_type": "stream",
          "text": [
            "/usr/local/lib/python3.6/dist-packages/ipykernel_launcher.py:10: IntegrationWarning: The maximum number of subdivisions (6) has been achieved.\n",
            "  If increasing the limit yields no improvement it is advised to analyze \n",
            "  the integrand in order to determine the difficulties.  If the position of a \n",
            "  local difficulty can be determined (singularity, discontinuity) one will \n",
            "  probably gain from splitting up the interval and calling the integrator \n",
            "  on the subranges.  Perhaps a special-purpose integrator should be used.\n",
            "  # Remove the CWD from sys.path while we load stuff.\n"
          ],
          "name": "stderr"
        },
        {
          "output_type": "display_data",
          "data": {
            "image/png": "[encoded data removed]",
            "text/plain": [
              "<Figure size 720x360 with 1 Axes>"
            ]
          },
          "metadata": {
            "tags": []
          }
        }
      ]
    },
    {
      "cell_type": "markdown",
      "metadata": {
        "id": "9igXxF85l_W-",
        "colab_type": "text"
      },
      "source": [
        "Notese que la forma de la distribución no coincide con lo esperado de los valores de $\\mu$ y $c$, ya que estos no son media y desviacion, si no, parametro de posición y parametro de escala respectivamente."
      ]
    },
    {
      "cell_type": "markdown",
      "metadata": {
        "id": "1q5LDvIJmu9B",
        "colab_type": "text"
      },
      "source": [
        "Definamos la función como un todo y procedamos a implementar el método de Metropolis"
      ]
    },
    {
      "cell_type": "code",
      "metadata": {
        "id": "HglqRo8yqVAS",
        "colab_type": "code",
        "outputId": "dbacc9a2-affd-45f0-f9bf-00ef4152d85e",
        "colab": {
          "base_uri": "https://localhost:8080/",
          "height": 163
        }
      },
      "source": [
        "mu_test, c_test = 0,1\n",
        "def landau(x, mu = mu_test, c = c_test): #La función de landau\n",
        "  return quad(landau_integrand, 0, np.inf, args = (x, mu, c),limit = 10)[0]\n",
        "  \n",
        "\n",
        "landau(0)"
      ],
      "execution_count": 117,
      "outputs": [
        {
          "output_type": "stream",
          "text": [
            "/usr/local/lib/python3.6/dist-packages/ipykernel_launcher.py:3: IntegrationWarning: The maximum number of subdivisions (10) has been achieved.\n",
            "  If increasing the limit yields no improvement it is advised to analyze \n",
            "  the integrand in order to determine the difficulties.  If the position of a \n",
            "  local difficulty can be determined (singularity, discontinuity) one will \n",
            "  probably gain from splitting up the interval and calling the integrator \n",
            "  on the subranges.  Perhaps a special-purpose integrator should be used.\n",
            "  This is separate from the ipykernel package so we can avoid doing imports until\n"
          ],
          "name": "stderr"
        },
        {
          "output_type": "execute_result",
          "data": {
            "text/plain": [
              "0.2622401263777323"
            ]
          },
          "metadata": {
            "tags": []
          },
          "execution_count": 117
        }
      ]
    },
    {
      "cell_type": "markdown",
      "metadata": {
        "id": "LP8gRUrPrW_l",
        "colab_type": "text"
      },
      "source": [
        "## Algoritmo de metropolis"
      ]
    },
    {
      "cell_type": "code",
      "metadata": {
        "id": "1U0Pzw_wrbWi",
        "colab_type": "code",
        "colab": {}
      },
      "source": [
        "def metropolis(distro,N,a,b): #Generates N random values following the distribution between a and b\n",
        "  phi_0 = np.random.random() * (b - a) + a\n",
        "  i = 0\n",
        "  probs = np.array([])\n",
        "\n",
        "  while (i < N):\n",
        "    phi_prime = np.random.random() * (b - a) + a\n",
        "\n",
        "    delta_s = -np.log(distro(phi_prime) / distro(phi_0) )\n",
        "\n",
        "    if delta_s < 0:\n",
        "      i += 1\n",
        "      probs = np.append(probs,phi_prime)\n",
        "      phi_0 = phi_prime\n",
        "    \n",
        "    else:\n",
        "      prob = distro(phi_prime) / distro(phi_0) \n",
        "      if np.random.random() < prob :\n",
        "        i += 1\n",
        "        probs = np.append(probs,phi_prime)\n",
        "        phi_0 = phi_prime\n",
        "\n",
        "  return probs"
      ],
      "execution_count": 0,
      "outputs": []
    },
    {
      "cell_type": "code",
      "metadata": {
        "id": "I-daSQZZsrV9",
        "colab_type": "code",
        "outputId": "585c16c6-7984-4e1c-fb65-2e5469a87886",
        "colab": {
          "base_uri": "https://localhost:8080/",
          "height": 428
        }
      },
      "source": [
        "mu_test = 0\n",
        "c_test = 1\n",
        "Nrands = 100 #Reduced to shorten the execution time of the notebook.\n",
        "\n",
        "a = metropolis(landau, Nrands,-5,15) #Genera numeros aleatorios entre -5 y 15 siguiendo la función de Landau, la cual usa implicitamente mu_test y c_test\n",
        "plt.hist(a, 50, density = True)#Returns the normalized histogram\n",
        "\n",
        "\n",
        "x_vals = np.linspace(-5,15,100)\n",
        "p_vals = []\n",
        "for x in x_vals:\n",
        "  p_vals.append(landau(x))\n",
        "\n",
        "\n",
        "plt.plot(x_vals,p_vals)\n",
        "\n",
        "\n",
        "plt.show()"
      ],
      "execution_count": 119,
      "outputs": [
        {
          "output_type": "stream",
          "text": [
            "/usr/local/lib/python3.6/dist-packages/ipykernel_launcher.py:3: IntegrationWarning: The maximum number of subdivisions (10) has been achieved.\n",
            "  If increasing the limit yields no improvement it is advised to analyze \n",
            "  the integrand in order to determine the difficulties.  If the position of a \n",
            "  local difficulty can be determined (singularity, discontinuity) one will \n",
            "  probably gain from splitting up the interval and calling the integrator \n",
            "  on the subranges.  Perhaps a special-purpose integrator should be used.\n",
            "  This is separate from the ipykernel package so we can avoid doing imports until\n",
            "/usr/local/lib/python3.6/dist-packages/ipykernel_launcher.py:9: RuntimeWarning: invalid value encountered in log\n",
            "  if __name__ == '__main__':\n"
          ],
          "name": "stderr"
        },
        {
          "output_type": "display_data",
          "data": {
            "image/png": "[encoded data removed]",
            "text/plain": [
              "<Figure size 432x288 with 1 Axes>"
            ]
          },
          "metadata": {
            "tags": []
          }
        }
      ]
    },
    {
      "cell_type": "markdown",
      "metadata": {
        "id": "cITFQ5vl4zcx",
        "colab_type": "text"
      },
      "source": [
        "Para la grafica se puede apreciar que los valores sí siguen la distribución"
      ]
    },
    {
      "cell_type": "markdown",
      "metadata": {
        "id": "0yfaP4aHBqBV",
        "colab_type": "text"
      },
      "source": [
        "## Paralelización de metrópolis"
      ]
    },
    {
      "cell_type": "markdown",
      "metadata": {
        "id": "zwO1bQ824_ug",
        "colab_type": "text"
      },
      "source": [
        "Desplazemonos a un directorio donde podamos crear archivos"
      ]
    },
    {
      "cell_type": "code",
      "metadata": {
        "id": "GRxb2lKR01Nt",
        "colab_type": "code",
        "outputId": "21a06f81-68fb-4bd7-e722-a51ef5a42887",
        "colab": {
          "base_uri": "https://localhost:8080/",
          "height": 35
        }
      },
      "source": [
        "%pwd"
      ],
      "execution_count": 26,
      "outputs": [
        {
          "output_type": "execute_result",
          "data": {
            "text/plain": [
              "'/content/drive/Shared drives/PyROOT_in_Google/DatosParcial2'"
            ]
          },
          "metadata": {
            "tags": []
          },
          "execution_count": 26
        }
      ]
    },
    {
      "cell_type": "code",
      "metadata": {
        "id": "t8OD0Arj08lJ",
        "colab_type": "code",
        "outputId": "24c2c3bc-e70a-4842-9c9a-c64b41e61a6d",
        "colab": {
          "base_uri": "https://localhost:8080/",
          "height": 54
        }
      },
      "source": [
        "%cd /content/\n",
        "%ls"
      ],
      "execution_count": 27,
      "outputs": [
        {
          "output_type": "stream",
          "text": [
            "/content\n",
            "\u001b[0m\u001b[01;34mdrive\u001b[0m/  \u001b[01;34mroot_build\u001b[0m/  \u001b[01;34msample_data\u001b[0m/\n"
          ],
          "name": "stdout"
        }
      ]
    },
    {
      "cell_type": "code",
      "metadata": {
        "id": "rqufUnyo1Dki",
        "colab_type": "code",
        "outputId": "1e1f442c-eb0a-48cc-9041-9a44b76cbdb2",
        "colab": {
          "base_uri": "https://localhost:8080/",
          "height": 35
        }
      },
      "source": [
        "try:\n",
        "  %mkdir random_storage\n",
        "  %cd random_storage/\n",
        "except:\n",
        "  %cd random_storage/"
      ],
      "execution_count": 28,
      "outputs": [
        {
          "output_type": "stream",
          "text": [
            "/content/random_storage\n"
          ],
          "name": "stdout"
        }
      ]
    },
    {
      "cell_type": "code",
      "metadata": {
        "id": "oKDPvRzFDuVL",
        "colab_type": "code",
        "colab": {}
      },
      "source": [
        "f = open(\"metro.py\",\"w+\")"
      ],
      "execution_count": 0,
      "outputs": []
    },
    {
      "cell_type": "markdown",
      "metadata": {
        "id": "jqCYhXkQ5KfW",
        "colab_type": "text"
      },
      "source": [
        "Ahora escribimos escribimos la implementación del metodo de Metropolis en un archivo de python para poder correrlo varias veces en el fondo"
      ]
    },
    {
      "cell_type": "code",
      "metadata": {
        "id": "poG38NRiEBir",
        "colab_type": "code",
        "colab": {}
      },
      "source": [
        "'''\n",
        "f.write('import sys\\n')\n",
        "f.write('print(\"mu is \", sys.argv[1])\\n')\n",
        "f.write('print(\"c is \", sys.argv[2])\\n')\n",
        "'''\n",
        "\n",
        "\n",
        "f.write('import sys\\n')\n",
        "f.write('import numpy as np\\n')\n",
        "f.write('from scipy.integrate import quad\\n')\n",
        "f.write('import matplotlib.pyplot as plt\\n')\n",
        "\n",
        "f.write('def landau_integrand(t, x, mu, c):\\n')\n",
        "f.write('  return (1 / (np.pi * c)) * np.exp(-t) * np.cos(t * ((x - mu) / c) + ((2 * t) / np.pi) * np.log(t / c))\\n')\n",
        "\n",
        "f.write('mu_test = int(sys.argv[1])\\n')\n",
        "f.write('c_test = int(sys.argv[2])\\n')\n",
        "f.write('N = int(sys.argv[3])\\n')\n",
        "\n",
        "f.write('def landau(x, mu = mu_test, c = c_test):\\n')\n",
        "f.write('  return quad(landau_integrand, 0, np.inf, args = (x, mu, c), limit = 10)[0]\\n')\n",
        "\n",
        "f.write('def metropolis(distro,N,a,b): #a and b are the lower and upper limits respectively\\n')\n",
        "f.write('  phi_0 = np.random.random() * (b - a) + a\\n')\n",
        "f.write('  i = 0\\n')\n",
        "f.write('  probs = np.array([])\\n')\n",
        "f.write('  while (i < N):\\n')\n",
        "f.write('    phi_prime = np.random.random() * (b - a) + a\\n')\n",
        "f.write('    delta_s = -np.log(distro(phi_prime) / distro(phi_0) )\\n')\n",
        "f.write('    if delta_s < 0:\\n')\n",
        "f.write('      i += 1\\n')\n",
        "f.write('      probs = np.append(probs,phi_prime)\\n')\n",
        "f.write('      phi_0 = phi_prime\\n')\n",
        "f.write('    else:\\n')\n",
        "f.write('      prob = distro(phi_prime) / distro(phi_0) \\n')\n",
        "f.write('      if np.random.random() < prob :\\n')\n",
        "f.write('        i += 1\\n')\n",
        "f.write('        probs = np.append(probs,phi_prime)\\n')\n",
        "f.write('        phi_0 = phi_prime\\n')\n",
        "f.write('  return probs\\n')\n",
        "\n",
        "f.write('M = metropolis(landau, 500,220,900)\\n')# Genera 500 puntos aleatorios entre 0 y 900\n",
        "f.write('np.save(\"mu\"+str(mu_test)+\"c\"+str(c_test)+\"part\"+str(N)+\".npy\",M)')\n",
        "f.close()\n",
        "del f"
      ],
      "execution_count": 0,
      "outputs": []
    },
    {
      "cell_type": "markdown",
      "metadata": {
        "id": "H5xMksfd53sK",
        "colab_type": "text"
      },
      "source": [
        "Ahora definimos una función que corra el script recien escrito varias veces en el fondo"
      ]
    },
    {
      "cell_type": "code",
      "metadata": {
        "id": "At5ptufIJMtx",
        "colab_type": "code",
        "colab": {}
      },
      "source": [
        "import os\n",
        "\n",
        "def parMetro(N, mu = mu_0, c = c_0):#produce N partes del conjunto de datos, cada una con 1000 datos\n",
        "  for i in range(1,N+1): \n",
        "    print(\"Creating mu\"+str(mu)+\"c\"+str(c)+\"part\"+str(i)+\".npy in the background\")\n",
        "    os.system(\"python metro.py \"+str(mu)+\" \"+str(c)+\" \"+str(i)+\"&\")\n"
      ],
      "execution_count": 0,
      "outputs": []
    },
    {
      "cell_type": "markdown",
      "metadata": {
        "id": "gImhgn0c6Eki",
        "colab_type": "text"
      },
      "source": [
        "Ejecutamos la función con la cual 80000 valores toman alrededor de 11 minutos en lugar de una hora"
      ]
    },
    {
      "cell_type": "code",
      "metadata": {
        "id": "G7Bb6AeQKQuI",
        "colab_type": "code",
        "outputId": "fb6517e5-d402-466d-b877-8a5c15569537",
        "colab": {
          "base_uri": "https://localhost:8080/",
          "height": 54
        }
      },
      "source": [
        "'''TAKES 10:30 MINUTES'''\n",
        "Nparts = 2\n",
        "mu = mu_0\n",
        "c = c_0\n",
        "parMetro(Nparts)#160*500 = 80000"
      ],
      "execution_count": 33,
      "outputs": [
        {
          "output_type": "stream",
          "text": [
            "Creating mu260c60part1.npy in the background\n",
            "Creating mu260c60part2.npy in the background\n"
          ],
          "name": "stdout"
        }
      ]
    },
    {
      "cell_type": "markdown",
      "metadata": {
        "id": "QRkI27K-6OVP",
        "colab_type": "text"
      },
      "source": [
        "Escribimos una celda que revise continuamente si todos los scripts en segundo plano han terminado de ejecutar y no continue hasta que se cumpla esto."
      ]
    },
    {
      "cell_type": "code",
      "metadata": {
        "id": "ciKolsby85eE",
        "colab_type": "code",
        "colab": {}
      },
      "source": [
        "Nparts = 2\n",
        "mu = mu_0\n",
        "c = c_0\n",
        "\n",
        "while False == os.path.isfile(\"mu\"+str(mu)+\"c\"+str(c)+\"part\"+str(Nparts)+\".npy\"):\n",
        "  continue"
      ],
      "execution_count": 0,
      "outputs": []
    },
    {
      "cell_type": "markdown",
      "metadata": {
        "id": "ehLHVARx6n5k",
        "colab_type": "text"
      },
      "source": [
        "En esta celda creamos un archivo con todos los datos creados por cada script individual"
      ]
    },
    {
      "cell_type": "code",
      "metadata": {
        "id": "EM59MtJoCG1v",
        "colab_type": "code",
        "outputId": "66f49299-1650-4d7f-fca1-f5c4630381ff",
        "colab": {
          "base_uri": "https://localhost:8080/",
          "height": 35
        }
      },
      "source": [
        "import time\n",
        "\n",
        "a = np.load(\"mu\"+str(mu)+\"c\"+str(c)+\"part\"+str(Nparts)+\".npy\", allow_pickle = True)\n",
        "#os.system(\"rm mu\"+str(mu)+\"c\"+str(c)+\"part\"+str(Nparts)+\".npy\")\n",
        "for j in reversed(range(1, Nparts)):\n",
        "\n",
        "  while False == os.path.isfile(\"mu\"+str(mu)+\"c\"+str(c)+\"part\"+str(j)+\".npy\"):\n",
        "    continue\n",
        "  time.sleep(10/Nparts)\n",
        "  b = np.load(\"mu\"+str(mu)+\"c\"+str(c)+\"part\"+str(j)+\".npy\", allow_pickle = True)\n",
        "  a = np.append(a,b)\n",
        "  #os.system(\"rm mu\"+str(mu)+\"c\"+str(c)+\"part\"+str(j)+\".npy\")\n",
        "  \n",
        "np.save(\"mu\"+str(mu)+\"c\"+str(c)+\"FULL.npy\",a)\n",
        "print(a.size,\" events generated sucessfully\")"
      ],
      "execution_count": 36,
      "outputs": [
        {
          "output_type": "stream",
          "text": [
            "1000  events generated sucessfully\n"
          ],
          "name": "stdout"
        }
      ]
    },
    {
      "cell_type": "code",
      "metadata": {
        "id": "jD1L3h_zJ8ud",
        "colab_type": "code",
        "colab": {}
      },
      "source": [
        "fitArray = np.load(\"mu260c60FULL.npy\")"
      ],
      "execution_count": 0,
      "outputs": []
    },
    {
      "cell_type": "code",
      "metadata": {
        "id": "HZv06-DqOxVz",
        "colab_type": "code",
        "outputId": "98be9605-72a0-44f5-b055-60ce3cb20c39",
        "colab": {
          "base_uri": "https://localhost:8080/",
          "height": 1000
        }
      },
      "source": [
        "plt.hist(fitArray,1000)"
      ],
      "execution_count": 38,
      "outputs": [
        {
          "output_type": "execute_result",
          "data": {
            "text/plain": [
              "(array([1., 0., 0., 0., 0., 0., 0., 0., 0., 0., 0., 0., 0., 0., 0., 0., 0.,\n",
              "        0., 1., 0., 0., 0., 0., 0., 0., 0., 0., 0., 0., 0., 0., 0., 0., 0.,\n",
              "        0., 0., 0., 0., 0., 0., 0., 0., 0., 0., 0., 0., 0., 0., 0., 0., 0.,\n",
              "        0., 0., 0., 0., 0., 0., 0., 0., 0., 0., 0., 0., 0., 0., 0., 0., 0.,\n",
              "        0., 0., 0., 0., 0., 0., 0., 0., 0., 0., 0., 0., 0., 0., 0., 0., 0.,\n",
              "        0., 0., 0., 0., 0., 0., 0., 0., 0., 0., 0., 0., 0., 0., 0., 0., 0.,\n",
              "        0., 0., 0., 0., 0., 0., 0., 0., 0., 0., 0., 0., 0., 0., 0., 0., 0.,\n",
              "        0., 0., 1., 0., 0., 0., 0., 0., 0., 0., 0., 0., 0., 0., 0., 0., 0.,\n",
              "        0., 0., 0., 0., 2., 0., 0., 0., 0., 0., 0., 0., 0., 0., 0., 1., 0.,\n",
              "        0., 0., 0., 0., 1., 1., 0., 0., 1., 0., 0., 0., 0., 0., 0., 0., 0.,\n",
              "        0., 1., 2., 1., 0., 0., 0., 0., 0., 0., 0., 1., 0., 0., 0., 0., 1.,\n",
              "        0., 0., 1., 0., 0., 0., 0., 0., 0., 3., 0., 0., 0., 0., 0., 0., 0.,\n",
              "        0., 0., 0., 0., 0., 0., 1., 1., 0., 0., 1., 0., 0., 0., 0., 1., 0.,\n",
              "        1., 2., 0., 0., 0., 0., 0., 0., 1., 1., 0., 0., 0., 1., 1., 2., 0.,\n",
              "        0., 1., 3., 1., 0., 0., 0., 0., 1., 2., 0., 0., 1., 0., 0., 2., 1.,\n",
              "        2., 0., 0., 0., 2., 2., 0., 0., 1., 2., 2., 0., 3., 1., 0., 3., 0.,\n",
              "        0., 0., 0., 0., 0., 1., 0., 0., 1., 1., 1., 1., 0., 2., 1., 0., 0.,\n",
              "        1., 0., 0., 1., 1., 1., 2., 0., 0., 1., 1., 1., 3., 0., 1., 0., 2.,\n",
              "        0., 2., 0., 0., 0., 0., 0., 0., 1., 1., 1., 1., 1., 1., 2., 2., 0.,\n",
              "        0., 0., 1., 0., 0., 1., 0., 0., 0., 0., 1., 1., 0., 2., 0., 2., 1.,\n",
              "        0., 0., 1., 2., 2., 1., 0., 1., 1., 0., 0., 0., 3., 0., 0., 1., 0.,\n",
              "        1., 1., 1., 0., 1., 1., 0., 1., 0., 2., 1., 0., 1., 1., 1., 2., 2.,\n",
              "        0., 0., 0., 0., 1., 0., 1., 0., 0., 1., 0., 1., 1., 0., 0., 3., 1.,\n",
              "        2., 0., 1., 1., 0., 0., 1., 0., 1., 0., 0., 0., 1., 0., 0., 2., 0.,\n",
              "        1., 1., 0., 1., 0., 1., 0., 0., 2., 2., 1., 2., 2., 2., 1., 1., 0.,\n",
              "        1., 1., 0., 1., 0., 0., 1., 0., 0., 0., 2., 0., 0., 3., 1., 0., 1.,\n",
              "        0., 2., 0., 0., 1., 0., 2., 0., 3., 0., 1., 0., 3., 0., 0., 0., 0.,\n",
              "        0., 0., 0., 2., 0., 2., 0., 0., 2., 0., 0., 0., 3., 1., 1., 2., 0.,\n",
              "        0., 1., 1., 1., 0., 0., 1., 2., 2., 1., 1., 0., 0., 0., 1., 1., 2.,\n",
              "        3., 3., 1., 2., 0., 0., 1., 2., 3., 1., 0., 0., 1., 1., 2., 1., 2.,\n",
              "        1., 2., 0., 0., 1., 2., 1., 0., 3., 2., 0., 1., 2., 0., 2., 3., 0.,\n",
              "        1., 0., 0., 1., 2., 1., 0., 2., 3., 2., 2., 3., 1., 1., 4., 1., 2.,\n",
              "        0., 3., 3., 1., 0., 0., 0., 1., 1., 0., 1., 3., 1., 1., 0., 1., 0.,\n",
              "        1., 3., 1., 4., 1., 3., 4., 2., 4., 0., 0., 1., 1., 2., 0., 1., 1.,\n",
              "        1., 3., 2., 1., 1., 3., 4., 4., 4., 0., 0., 1., 3., 4., 1., 0., 3.,\n",
              "        1., 1., 2., 1., 0., 2., 0., 1., 0., 3., 3., 1., 2., 1., 2., 1., 1.,\n",
              "        1., 1., 1., 3., 3., 1., 1., 1., 3., 4., 1., 1., 0., 2., 2., 1., 3.,\n",
              "        3., 1., 0., 0., 1., 2., 0., 1., 4., 0., 0., 1., 1., 2., 0., 1., 3.,\n",
              "        1., 2., 4., 1., 3., 3., 2., 1., 3., 1., 2., 3., 1., 1., 1., 2., 1.,\n",
              "        2., 3., 1., 3., 1., 2., 3., 2., 1., 2., 1., 1., 3., 3., 1., 2., 1.,\n",
              "        3., 1., 4., 0., 1., 1., 3., 0., 1., 3., 1., 2., 0., 2., 2., 0., 2.,\n",
              "        1., 1., 2., 1., 1., 3., 0., 1., 1., 0., 4., 1., 0., 0., 4., 1., 2.,\n",
              "        2., 1., 1., 0., 2., 1., 2., 0., 1., 0., 3., 4., 0., 2., 0., 1., 1.,\n",
              "        1., 1., 3., 0., 1., 1., 0., 0., 0., 0., 0., 2., 1., 0., 2., 5., 3.,\n",
              "        1., 1., 2., 1., 2., 2., 1., 2., 3., 1., 1., 1., 1., 0., 3., 1., 3.,\n",
              "        3., 3., 5., 3., 1., 0., 3., 1., 1., 3., 1., 0., 0., 2., 0., 4., 1.,\n",
              "        3., 2., 1., 2., 2., 1., 1., 1., 1., 0., 1., 1., 3., 2., 3., 2., 1.,\n",
              "        0., 3., 3., 0., 1., 3., 2., 0., 2., 0., 1., 2., 1., 2., 2., 2., 2.,\n",
              "        2., 4., 0., 2., 3., 2., 1., 0., 0., 1., 0., 3., 2., 1., 2., 2., 1.,\n",
              "        0., 3., 1., 1., 3., 1., 1., 0., 1., 0., 3., 2., 4., 3., 1., 1., 0.,\n",
              "        3., 2., 4., 1., 3., 3., 1., 1., 1., 2., 1., 2., 1., 2., 0., 1., 2.,\n",
              "        4., 1., 0., 1., 1., 1., 2., 0., 1., 1., 3., 3., 3., 0., 0., 1., 3.,\n",
              "        1., 1., 0., 2., 1., 1., 3., 1., 0., 1., 1., 2., 6., 0., 4., 1., 1.,\n",
              "        1., 0., 1., 2., 2., 4., 3., 2., 2., 2., 0., 1., 3., 3., 2., 1., 0.,\n",
              "        0., 3., 2., 2., 1., 1., 2., 1., 1., 0., 4., 2., 1., 0., 2., 5., 0.,\n",
              "        0., 2., 0., 3., 1., 1., 1., 0., 2., 1., 2., 3., 0., 4., 3., 2., 5.,\n",
              "        2., 1., 0., 3., 0., 2., 0., 4., 1., 1., 1., 7., 2., 3., 1., 3., 1.,\n",
              "        2., 2., 0., 0., 2., 2., 0., 2., 0., 6., 0., 1., 2., 2., 2., 0., 1.,\n",
              "        3., 3., 2., 3., 1., 1., 1., 1., 0., 1., 1., 2., 3., 1.]),\n",
              " array([289.24313482, 289.35381396, 289.4644931 , ..., 399.70091466,\n",
              "        399.8115938 , 399.92227294]),\n",
              " <a list of 1000 Patch objects>)"
            ]
          },
          "metadata": {
            "tags": []
          },
          "execution_count": 38
        },
        {
          "output_type": "display_data",
          "data": {
            "image/png": "[encoded data removed]",
            "text/plain": [
              "<Figure size 432x288 with 1 Axes>"
            ]
          },
          "metadata": {
            "tags": []
          }
        }
      ]
    },
    {
      "cell_type": "markdown",
      "metadata": {
        "id": "KULhHVVRLhrW",
        "colab_type": "text"
      },
      "source": [
        ""
      ]
    },
    {
      "cell_type": "markdown",
      "metadata": {
        "id": "nmMMvxfrLqSa",
        "colab_type": "text"
      },
      "source": [
        "# 3. Ajuste de datos"
      ]
    },
    {
      "cell_type": "markdown",
      "metadata": {
        "id": "ZZ2KHxrap5zB",
        "colab_type": "text"
      },
      "source": [
        "Notamos que en el intento anterior de replicar la distribución de datos, con $mu = 260$ obtuvimos una \"media\" de alrededor de $400$, como 260 es el 65% de 400, entonces usando esta relación proponemos $mu_1 = 169$ que es el 65% de 260\n",
        "\n",
        "también notamos que función fue mas ancha que la distribución, por lo cual se recude c a un tercio de el valor anterior"
      ]
    },
    {
      "cell_type": "code",
      "metadata": {
        "id": "J_hEGSIsrxVI",
        "colab_type": "code",
        "colab": {}
      },
      "source": [
        "mu_1 = 169\n",
        "c_1 = 20"
      ],
      "execution_count": 0,
      "outputs": []
    },
    {
      "cell_type": "markdown",
      "metadata": {
        "id": "5cAGWzxLsFxw",
        "colab_type": "text"
      },
      "source": [
        "## Generación de distintas distribuciones"
      ]
    },
    {
      "cell_type": "markdown",
      "metadata": {
        "id": "4TE_7HCDsXCf",
        "colab_type": "text"
      },
      "source": [
        "###"
      ]
    },
    {
      "cell_type": "markdown",
      "metadata": {
        "id": "7sj7W_6IsWkj",
        "colab_type": "text"
      },
      "source": [
        ""
      ]
    },
    {
      "cell_type": "code",
      "metadata": {
        "id": "eh-kx4jQMYQj",
        "colab_type": "code",
        "colab": {}
      },
      "source": [
        "DataHist = ROOT.TH1F( 'DataHist', 'The histogram for the data', 10000, 0, 700000 )\n",
        "dataArray = np.array([])\n",
        "\n",
        "for entry in DataChain:\n",
        "  dataArray = np.append(dataArray,entry.x)"
      ],
      "execution_count": 0,
      "outputs": []
    },
    {
      "cell_type": "code",
      "metadata": {
        "id": "sI5KvbuVtP3E",
        "colab_type": "code",
        "colab": {
          "base_uri": "https://localhost:8080/",
          "height": 265
        },
        "outputId": "a29d44cb-696e-415e-927b-22fe5c1386f2"
      },
      "source": [
        "plt.hist(dataArray,100, range = (220,400))\n",
        "plt.show()"
      ],
      "execution_count": 41,
      "outputs": [
        {
          "output_type": "display_data",
          "data": {
            "image/png": "[encoded data removed]",
            "text/plain": [
              "<Figure size 432x288 with 1 Axes>"
            ]
          },
          "metadata": {
            "tags": []
          }
        }
      ]
    },
    {
      "cell_type": "markdown",
      "metadata": {
        "id": "Wxx6lPwt-pqe",
        "colab_type": "text"
      },
      "source": [
        "A continuación hacemos un ajuste a mano de la función de landau a los datos"
      ]
    },
    {
      "cell_type": "code",
      "metadata": {
        "colab_type": "code",
        "outputId": "be47e91a-bad4-439c-d625-31fe02b7c9f5",
        "id": "ZjHF-nQEu4jL",
        "colab": {
          "base_uri": "https://localhost:8080/",
          "height": 265
        }
      },
      "source": [
        "plt.hist(dataArray,100, range = (220,400),density = True)\n",
        "\n",
        "x_vals = np.linspace(220,400,1000)\n",
        "p_vals = []\n",
        "for x in x_vals:\n",
        "  p_vals.append(landau(x,240.5,14))\n",
        "\n",
        "\n",
        "\n",
        "plt.plot(x_vals,p_vals)\n",
        "\n",
        "plt.show()"
      ],
      "execution_count": 63,
      "outputs": [
        {
          "output_type": "display_data",
          "data": {
            "image/png": "[encoded data removed]",
            "text/plain": [
              "<Figure size 432x288 with 1 Axes>"
            ]
          },
          "metadata": {
            "tags": []
          }
        }
      ]
    },
    {
      "cell_type": "markdown",
      "metadata": {
        "id": "Evbzad6JBMN5",
        "colab_type": "text"
      },
      "source": [
        "Luego de graficas varias veces a mano, deducimos que unos buenos valores para comenzar a estudiar las variaciones de $\\chi^2$ con los parametros es $mu = 240.5$ y $c = 14$"
      ]
    },
    {
      "cell_type": "markdown",
      "metadata": {
        "id": "a-vFh7JlH_lT",
        "colab_type": "text"
      },
      "source": [
        "Revisemos a partir de que valores comienza a aparecer ruido en la función"
      ]
    },
    {
      "cell_type": "code",
      "metadata": {
        "id": "uHhWKI4YBqA9",
        "colab_type": "code",
        "colab": {
          "base_uri": "https://localhost:8080/",
          "height": 428
        },
        "outputId": "15accd28-a7f0-46a2-aa50-951e24de387a"
      },
      "source": [
        "plt.hist(dataArray,100, range = (220,1000),density = True)\n",
        "\n",
        "x_vals = np.linspace(220,1000,1000)\n",
        "p_vals = []\n",
        "for x in x_vals:\n",
        "  p_vals.append(landau(x,240.5,14))\n",
        "\n",
        "\n",
        "\n",
        "plt.plot(x_vals,p_vals)\n",
        "\n",
        "plt.show()"
      ],
      "execution_count": 65,
      "outputs": [
        {
          "output_type": "stream",
          "text": [
            "/usr/local/lib/python3.6/dist-packages/ipykernel_launcher.py:3: IntegrationWarning: The maximum number of subdivisions (50) has been achieved.\n",
            "  If increasing the limit yields no improvement it is advised to analyze \n",
            "  the integrand in order to determine the difficulties.  If the position of a \n",
            "  local difficulty can be determined (singularity, discontinuity) one will \n",
            "  probably gain from splitting up the interval and calling the integrator \n",
            "  on the subranges.  Perhaps a special-purpose integrator should be used.\n",
            "  This is separate from the ipykernel package so we can avoid doing imports until\n",
            "/usr/local/lib/python3.6/dist-packages/ipykernel_launcher.py:3: IntegrationWarning: The integral is probably divergent, or slowly convergent.\n",
            "  This is separate from the ipykernel package so we can avoid doing imports until\n"
          ],
          "name": "stderr"
        },
        {
          "output_type": "display_data",
          "data": {
            "image/png": "[encoded data removed]",
            "text/plain": [
              "<Figure size 432x288 with 1 Axes>"
            ]
          },
          "metadata": {
            "tags": []
          }
        }
      ]
    },
    {
      "cell_type": "markdown",
      "metadata": {
        "id": "7OAz4zFtIIUk",
        "colab_type": "text"
      },
      "source": [
        "Según esta grafica, haremos el fitting de datos hasta $x = 900$"
      ]
    },
    {
      "cell_type": "markdown",
      "metadata": {
        "id": "zOS_OlF7IpAv",
        "colab_type": "text"
      },
      "source": [
        "## Definición de $\\chi^2/ndf$"
      ]
    },
    {
      "cell_type": "code",
      "metadata": {
        "id": "vy9vOscKQsTd",
        "colab_type": "code",
        "colab": {}
      },
      "source": [
        "def get_chi_squared_over_ndf(fit,data,number_bins): #Recives two arrays and calculates the chiSquared between them\n",
        "  fit = np.histogram(fit)[0]\n",
        "  data = np.histogram(data)[0]\n",
        "\n",
        "  chi_squared = 0 #sets the initial value of chi as zero\n",
        "  for i in range(0,number_bins):#iterates over al the posible indexes of the histograms except the fall-offs\n",
        "    chi_squared += ((data[i] - fit[i]) ** 2) / data[i]#Calculates what must be added to the sum\n",
        "  \n",
        "  return chi_squared / number_bins#returns chi squared"
      ],
      "execution_count": 0,
      "outputs": []
    },
    {
      "cell_type": "markdown",
      "metadata": {
        "id": "Ch8uCI8bNTdL",
        "colab_type": "text"
      },
      "source": [
        "## Fitting"
      ]
    },
    {
      "cell_type": "markdown",
      "metadata": {
        "id": "Mgi1xCn7NfG9",
        "colab_type": "text"
      },
      "source": [
        "Debido a lo explicado anteriormente, no vamos a considerar en el fitting los datos con $x > 900$, por lo cual generaremos sólo la misma cantidad de numeros aleatorios para un par $\\mu$ y $c$ que haya de eventos con $x < 900$"
      ]
    },
    {
      "cell_type": "code",
      "metadata": {
        "id": "uSNefVHgNeaa",
        "colab_type": "code",
        "colab": {
          "base_uri": "https://localhost:8080/",
          "height": 35
        },
        "outputId": "e3114466-5841-42fa-b2f1-1599179e23d5"
      },
      "source": [
        "auxData = dataArray[dataArray < 900]\n",
        "print(auxData.size)"
      ],
      "execution_count": 99,
      "outputs": [
        {
          "output_type": "stream",
          "text": [
            "78653\n"
          ],
          "name": "stdout"
        }
      ]
    },
    {
      "cell_type": "markdown",
      "metadata": {
        "id": "VDo6-83mPAJx",
        "colab_type": "text"
      },
      "source": [
        "Debido a que aproximadamente 79000 de los 80000 datos están por debajo del valor 900, la omisión de estos datos para corregir los errores de integración es justa."
      ]
    },
    {
      "cell_type": "markdown",
      "metadata": {
        "id": "1NMc7W79Vszt",
        "colab_type": "text"
      },
      "source": [
        "En el ajuste manual que se realizó posteriormente se notó que la variación cerca a los valores de $\\mu$ y $c$ tomados es lo suficientemente grande para que variaciones de una unidad afecten ajuste, adicionalmente cada dato se demora alrededor de 10 minutos para correr, entonces con esta cantidad de datos se necesitan 90+ minutos de computo, por lo cual se decide no aumentar más."
      ]
    },
    {
      "cell_type": "markdown",
      "metadata": {
        "id": "SiMXsMrfUt5k",
        "colab_type": "text"
      },
      "source": [
        "### Production of random data"
      ]
    },
    {
      "cell_type": "code",
      "metadata": {
        "id": "57cCwP-ie0mD",
        "colab_type": "code",
        "colab": {}
      },
      "source": [
        "mu_vect = np.arange(mu_1-1,mu_1+2,1)\n",
        "c_vect = np.arange(c_1-1,mu_1+2,1)\n",
        "Nparts = 2 #158*500 = 79000"
      ],
      "execution_count": 0,
      "outputs": []
    },
    {
      "cell_type": "code",
      "metadata": {
        "colab_type": "code",
        "outputId": "906d2e79-e52e-49f8-f306-31ea04678c03",
        "id": "WNUxHm-5UzCi",
        "colab": {
          "base_uri": "https://localhost:8080/",
          "height": 54
        }
      },
      "source": [
        "\n",
        "parMetro(Nparts,mu_vect[0],c_vect[0])#160*500 = 80000"
      ],
      "execution_count": 126,
      "outputs": [
        {
          "output_type": "stream",
          "text": [
            "Creating mu168c19part1.npy in the background\n",
            "Creating mu168c19part2.npy in the background\n"
          ],
          "name": "stdout"
        }
      ]
    },
    {
      "cell_type": "code",
      "metadata": {
        "colab_type": "code",
        "id": "x-DSBg3DUzCq",
        "colab": {}
      },
      "source": [
        "while False == os.path.isfile(\"mu\"+str(mu)+\"c\"+str(c)+\"part\"+str(Nparts)+\".npy\"):\n",
        "  continue"
      ],
      "execution_count": 0,
      "outputs": []
    },
    {
      "cell_type": "code",
      "metadata": {
        "colab_type": "code",
        "outputId": "c6e79329-b707-4eb0-cc4a-1fbea9342bb5",
        "id": "RlzLzmjyUzCt",
        "colab": {
          "base_uri": "https://localhost:8080/",
          "height": 35
        }
      },
      "source": [
        "a = np.load(\"mu\"+str(mu)+\"c\"+str(c)+\"part\"+str(Nparts)+\".npy\", allow_pickle = True)\n",
        "#os.system(\"rm mu\"+str(mu)+\"c\"+str(c)+\"part\"+str(Nparts)+\".npy\")\n",
        "for j in reversed(range(1, Nparts)):\n",
        "\n",
        "  while False == os.path.isfile(\"mu\"+str(mu)+\"c\"+str(c)+\"part\"+str(j)+\".npy\"):\n",
        "    continue\n",
        "  time.sleep(10/Nparts)\n",
        "  b = np.load(\"mu\"+str(mu)+\"c\"+str(c)+\"part\"+str(j)+\".npy\", allow_pickle = True)\n",
        "  a = np.append(a,b)\n",
        "  #os.system(\"rm mu\"+str(mu)+\"c\"+str(c)+\"part\"+str(j)+\".npy\")\n",
        "  \n",
        "np.save(\"mu\"+str(mu)+\"c\"+str(c)+\"FULL.npy\",a)\n",
        "print(a.size,\" events generated sucessfully\")"
      ],
      "execution_count": 128,
      "outputs": [
        {
          "output_type": "stream",
          "text": [
            "1000  events generated sucessfully\n"
          ],
          "name": "stdout"
        }
      ]
    },
    {
      "cell_type": "markdown",
      "metadata": {
        "colab_type": "text",
        "id": "VhB3mVEZX9p2"
      },
      "source": [
        "### Production of random data"
      ]
    },
    {
      "cell_type": "code",
      "metadata": {
        "colab_type": "code",
        "outputId": "615965a6-03ca-4701-d058-3190ecb8b334",
        "id": "KJbv_zLbX9qB",
        "colab": {
          "base_uri": "https://localhost:8080/",
          "height": 54
        }
      },
      "source": [
        "\n",
        "parMetro(Nparts,mu_vect[0],c_vect[1])#160*500 = 80000"
      ],
      "execution_count": 130,
      "outputs": [
        {
          "output_type": "stream",
          "text": [
            "Creating mu168c20part1.npy in the background\n",
            "Creating mu168c20part2.npy in the background\n"
          ],
          "name": "stdout"
        }
      ]
    },
    {
      "cell_type": "code",
      "metadata": {
        "colab_type": "code",
        "id": "ocvvwO7_X9qH",
        "colab": {}
      },
      "source": [
        "while False == os.path.isfile(\"mu\"+str(mu)+\"c\"+str(c)+\"part\"+str(Nparts)+\".npy\"):\n",
        "  continue"
      ],
      "execution_count": 0,
      "outputs": []
    },
    {
      "cell_type": "code",
      "metadata": {
        "colab_type": "code",
        "outputId": "a87764a8-bde6-4a1a-f097-13fb72aae770",
        "id": "2uiHXQUtX9qL",
        "colab": {
          "base_uri": "https://localhost:8080/",
          "height": 35
        }
      },
      "source": [
        "a = np.load(\"mu\"+str(mu)+\"c\"+str(c)+\"part\"+str(Nparts)+\".npy\", allow_pickle = True)\n",
        "#os.system(\"rm mu\"+str(mu)+\"c\"+str(c)+\"part\"+str(Nparts)+\".npy\")\n",
        "for j in reversed(range(1, Nparts)):\n",
        "\n",
        "  while False == os.path.isfile(\"mu\"+str(mu)+\"c\"+str(c)+\"part\"+str(j)+\".npy\"):\n",
        "    continue\n",
        "  time.sleep(10/Nparts)\n",
        "  b = np.load(\"mu\"+str(mu)+\"c\"+str(c)+\"part\"+str(j)+\".npy\", allow_pickle = True)\n",
        "  a = np.append(a,b)\n",
        "  #os.system(\"rm mu\"+str(mu)+\"c\"+str(c)+\"part\"+str(j)+\".npy\")\n",
        "  \n",
        "np.save(\"mu\"+str(mu)+\"c\"+str(c)+\"FULL.npy\",a)\n",
        "print(a.size,\" events generated sucessfully\")"
      ],
      "execution_count": 132,
      "outputs": [
        {
          "output_type": "stream",
          "text": [
            "1000  events generated sucessfully\n"
          ],
          "name": "stdout"
        }
      ]
    },
    {
      "cell_type": "markdown",
      "metadata": {
        "colab_type": "text",
        "id": "WsuL6nRzX-dj"
      },
      "source": [
        "### Production of random data"
      ]
    },
    {
      "cell_type": "code",
      "metadata": {
        "colab_type": "code",
        "outputId": "b84f72e7-2d05-4c67-bddd-2381b6c8bb0e",
        "id": "jvgEzQYLX-dl",
        "colab": {
          "base_uri": "https://localhost:8080/",
          "height": 54
        }
      },
      "source": [
        "\n",
        "parMetro(Nparts,mu_vect[0],c_vect[2])#160*500 = 80000"
      ],
      "execution_count": 133,
      "outputs": [
        {
          "output_type": "stream",
          "text": [
            "Creating mu168c21part1.npy in the background\n",
            "Creating mu168c21part2.npy in the background\n"
          ],
          "name": "stdout"
        }
      ]
    },
    {
      "cell_type": "code",
      "metadata": {
        "colab_type": "code",
        "id": "BwjX2ZPaX-dq",
        "colab": {}
      },
      "source": [
        "while False == os.path.isfile(\"mu\"+str(mu)+\"c\"+str(c)+\"part\"+str(Nparts)+\".npy\"):\n",
        "  continue"
      ],
      "execution_count": 0,
      "outputs": []
    },
    {
      "cell_type": "code",
      "metadata": {
        "colab_type": "code",
        "outputId": "d2cef682-7b70-4672-f7b3-2ae21a1175f3",
        "id": "StdBuBF4X-dt",
        "colab": {
          "base_uri": "https://localhost:8080/",
          "height": 35
        }
      },
      "source": [
        "a = np.load(\"mu\"+str(mu)+\"c\"+str(c)+\"part\"+str(Nparts)+\".npy\", allow_pickle = True)\n",
        "#os.system(\"rm mu\"+str(mu)+\"c\"+str(c)+\"part\"+str(Nparts)+\".npy\")\n",
        "for j in reversed(range(1, Nparts)):\n",
        "\n",
        "  while False == os.path.isfile(\"mu\"+str(mu)+\"c\"+str(c)+\"part\"+str(j)+\".npy\"):\n",
        "    continue\n",
        "  time.sleep(10/Nparts)\n",
        "  b = np.load(\"mu\"+str(mu)+\"c\"+str(c)+\"part\"+str(j)+\".npy\", allow_pickle = True)\n",
        "  a = np.append(a,b)\n",
        "  #os.system(\"rm mu\"+str(mu)+\"c\"+str(c)+\"part\"+str(j)+\".npy\")\n",
        "  \n",
        "np.save(\"mu\"+str(mu)+\"c\"+str(c)+\"FULL.npy\",a)\n",
        "print(a.size,\" events generated sucessfully\")"
      ],
      "execution_count": 135,
      "outputs": [
        {
          "output_type": "stream",
          "text": [
            "1000  events generated sucessfully\n"
          ],
          "name": "stdout"
        }
      ]
    },
    {
      "cell_type": "markdown",
      "metadata": {
        "colab_type": "text",
        "id": "9abwd9ssX_PX"
      },
      "source": [
        "### Production of random data"
      ]
    },
    {
      "cell_type": "code",
      "metadata": {
        "colab_type": "code",
        "outputId": "ce80d4d8-547d-4290-886d-04462787c472",
        "id": "FmmRSYvIX_PZ",
        "colab": {
          "base_uri": "https://localhost:8080/",
          "height": 54
        }
      },
      "source": [
        "\n",
        "parMetro(Nparts,mu_vect[1],c_vect[0])#160*500 = 80000"
      ],
      "execution_count": 136,
      "outputs": [
        {
          "output_type": "stream",
          "text": [
            "Creating mu169c19part1.npy in the background\n",
            "Creating mu169c19part2.npy in the background\n"
          ],
          "name": "stdout"
        }
      ]
    },
    {
      "cell_type": "code",
      "metadata": {
        "colab_type": "code",
        "id": "YC4yvDhPX_Pc",
        "colab": {}
      },
      "source": [
        "while False == os.path.isfile(\"mu\"+str(mu)+\"c\"+str(c)+\"part\"+str(Nparts)+\".npy\"):\n",
        "  continue"
      ],
      "execution_count": 0,
      "outputs": []
    },
    {
      "cell_type": "code",
      "metadata": {
        "colab_type": "code",
        "outputId": "e7f7847c-d4a4-40de-a3a7-a8ba2c9c78f5",
        "id": "Ta2rD06QX_Pl",
        "colab": {
          "base_uri": "https://localhost:8080/",
          "height": 35
        }
      },
      "source": [
        "a = np.load(\"mu\"+str(mu)+\"c\"+str(c)+\"part\"+str(Nparts)+\".npy\", allow_pickle = True)\n",
        "#os.system(\"rm mu\"+str(mu)+\"c\"+str(c)+\"part\"+str(Nparts)+\".npy\")\n",
        "for j in reversed(range(1, Nparts)):\n",
        "\n",
        "  while False == os.path.isfile(\"mu\"+str(mu)+\"c\"+str(c)+\"part\"+str(j)+\".npy\"):\n",
        "    continue\n",
        "  time.sleep(10/Nparts)\n",
        "  b = np.load(\"mu\"+str(mu)+\"c\"+str(c)+\"part\"+str(j)+\".npy\", allow_pickle = True)\n",
        "  a = np.append(a,b)\n",
        "  #os.system(\"rm mu\"+str(mu)+\"c\"+str(c)+\"part\"+str(j)+\".npy\")\n",
        "  \n",
        "np.save(\"mu\"+str(mu)+\"c\"+str(c)+\"FULL.npy\",a)\n",
        "print(a.size,\" events generated sucessfully\")"
      ],
      "execution_count": 138,
      "outputs": [
        {
          "output_type": "stream",
          "text": [
            "1000  events generated sucessfully\n"
          ],
          "name": "stdout"
        }
      ]
    },
    {
      "cell_type": "markdown",
      "metadata": {
        "colab_type": "text",
        "id": "WLoJgHciYAEv"
      },
      "source": [
        "### Production of random data"
      ]
    },
    {
      "cell_type": "code",
      "metadata": {
        "colab_type": "code",
        "outputId": "167de009-3465-4605-8c62-4b0c5f47592f",
        "id": "ilaDOk7cYAEx",
        "colab": {
          "base_uri": "https://localhost:8080/",
          "height": 54
        }
      },
      "source": [
        "\n",
        "parMetro(Nparts,mu_vect[1],c_vect[1])#160*500 = 80000"
      ],
      "execution_count": 139,
      "outputs": [
        {
          "output_type": "stream",
          "text": [
            "Creating mu169c20part1.npy in the background\n",
            "Creating mu169c20part2.npy in the background\n"
          ],
          "name": "stdout"
        }
      ]
    },
    {
      "cell_type": "code",
      "metadata": {
        "colab_type": "code",
        "id": "F9HZvpSdYAE0",
        "colab": {}
      },
      "source": [
        "while False == os.path.isfile(\"mu\"+str(mu)+\"c\"+str(c)+\"part\"+str(Nparts)+\".npy\"):\n",
        "  continue"
      ],
      "execution_count": 0,
      "outputs": []
    },
    {
      "cell_type": "code",
      "metadata": {
        "colab_type": "code",
        "outputId": "110624f3-38d9-4275-8a4e-814c0e5507af",
        "id": "qY_1ZTEnYAE4",
        "colab": {
          "base_uri": "https://localhost:8080/",
          "height": 35
        }
      },
      "source": [
        "a = np.load(\"mu\"+str(mu)+\"c\"+str(c)+\"part\"+str(Nparts)+\".npy\", allow_pickle = True)\n",
        "#os.system(\"rm mu\"+str(mu)+\"c\"+str(c)+\"part\"+str(Nparts)+\".npy\")\n",
        "for j in reversed(range(1, Nparts)):\n",
        "\n",
        "  while False == os.path.isfile(\"mu\"+str(mu)+\"c\"+str(c)+\"part\"+str(j)+\".npy\"):\n",
        "    continue\n",
        "  time.sleep(10/Nparts)\n",
        "  b = np.load(\"mu\"+str(mu)+\"c\"+str(c)+\"part\"+str(j)+\".npy\", allow_pickle = True)\n",
        "  a = np.append(a,b)\n",
        "  #os.system(\"rm mu\"+str(mu)+\"c\"+str(c)+\"part\"+str(j)+\".npy\")\n",
        "  \n",
        "np.save(\"mu\"+str(mu)+\"c\"+str(c)+\"FULL.npy\",a)\n",
        "print(a.size,\" events generated sucessfully\")"
      ],
      "execution_count": 141,
      "outputs": [
        {
          "output_type": "stream",
          "text": [
            "1000  events generated sucessfully\n"
          ],
          "name": "stdout"
        }
      ]
    },
    {
      "cell_type": "markdown",
      "metadata": {
        "colab_type": "text",
        "id": "go4Em9ouYCt_"
      },
      "source": [
        "### Production of random data"
      ]
    },
    {
      "cell_type": "code",
      "metadata": {
        "colab_type": "code",
        "outputId": "593a6545-dd6e-4dbf-b76f-5c09c9209e78",
        "id": "e5w7wdQnYCuA",
        "colab": {
          "base_uri": "https://localhost:8080/",
          "height": 54
        }
      },
      "source": [
        "\n",
        "parMetro(Nparts,mu_vect[1],c_vect[2])#160*500 = 80000"
      ],
      "execution_count": 142,
      "outputs": [
        {
          "output_type": "stream",
          "text": [
            "Creating mu169c21part1.npy in the background\n",
            "Creating mu169c21part2.npy in the background\n"
          ],
          "name": "stdout"
        }
      ]
    },
    {
      "cell_type": "code",
      "metadata": {
        "colab_type": "code",
        "id": "PgmrGLkcYCuF",
        "colab": {}
      },
      "source": [
        "while False == os.path.isfile(\"mu\"+str(mu)+\"c\"+str(c)+\"part\"+str(Nparts)+\".npy\"):\n",
        "  continue"
      ],
      "execution_count": 0,
      "outputs": []
    },
    {
      "cell_type": "code",
      "metadata": {
        "colab_type": "code",
        "outputId": "e7df961f-b599-4506-d235-a6acdfcbcbd5",
        "id": "jFZD_94vYCuJ",
        "colab": {
          "base_uri": "https://localhost:8080/",
          "height": 35
        }
      },
      "source": [
        "a = np.load(\"mu\"+str(mu)+\"c\"+str(c)+\"part\"+str(Nparts)+\".npy\", allow_pickle = True)\n",
        "#os.system(\"rm mu\"+str(mu)+\"c\"+str(c)+\"part\"+str(Nparts)+\".npy\")\n",
        "for j in reversed(range(1, Nparts)):\n",
        "\n",
        "  while False == os.path.isfile(\"mu\"+str(mu)+\"c\"+str(c)+\"part\"+str(j)+\".npy\"):\n",
        "    continue\n",
        "  time.sleep(10/Nparts)\n",
        "  b = np.load(\"mu\"+str(mu)+\"c\"+str(c)+\"part\"+str(j)+\".npy\", allow_pickle = True)\n",
        "  a = np.append(a,b)\n",
        "  #os.system(\"rm mu\"+str(mu)+\"c\"+str(c)+\"part\"+str(j)+\".npy\")\n",
        "  \n",
        "np.save(\"mu\"+str(mu)+\"c\"+str(c)+\"FULL.npy\",a)\n",
        "print(a.size,\" events generated sucessfully\")"
      ],
      "execution_count": 144,
      "outputs": [
        {
          "output_type": "stream",
          "text": [
            "1000  events generated sucessfully\n"
          ],
          "name": "stdout"
        }
      ]
    },
    {
      "cell_type": "markdown",
      "metadata": {
        "colab_type": "text",
        "id": "Cs2RGhOlYFMK"
      },
      "source": [
        "### Production of random data"
      ]
    },
    {
      "cell_type": "code",
      "metadata": {
        "colab_type": "code",
        "outputId": "49847a4b-fcfc-48f5-a344-7f84f8e07f2e",
        "id": "st-uPA4QYFML",
        "colab": {
          "base_uri": "https://localhost:8080/",
          "height": 54
        }
      },
      "source": [
        "\n",
        "parMetro(Nparts,mu_vect[2],c_vect[0])#160*500 = 80000"
      ],
      "execution_count": 147,
      "outputs": [
        {
          "output_type": "stream",
          "text": [
            "Creating mu170c19part1.npy in the background\n",
            "Creating mu170c19part2.npy in the background\n"
          ],
          "name": "stdout"
        }
      ]
    },
    {
      "cell_type": "code",
      "metadata": {
        "colab_type": "code",
        "id": "xah0esdTYFMO",
        "colab": {}
      },
      "source": [
        "while False == os.path.isfile(\"mu\"+str(mu)+\"c\"+str(c)+\"part\"+str(Nparts)+\".npy\"):\n",
        "  continue"
      ],
      "execution_count": 0,
      "outputs": []
    },
    {
      "cell_type": "code",
      "metadata": {
        "colab_type": "code",
        "outputId": "d6b8ab13-9caf-4221-ce4f-320c3ea5b0fa",
        "id": "z0nnR97bYFMR",
        "colab": {
          "base_uri": "https://localhost:8080/",
          "height": 35
        }
      },
      "source": [
        "a = np.load(\"mu\"+str(mu)+\"c\"+str(c)+\"part\"+str(Nparts)+\".npy\", allow_pickle = True)\n",
        "#os.system(\"rm mu\"+str(mu)+\"c\"+str(c)+\"part\"+str(Nparts)+\".npy\")\n",
        "for j in reversed(range(1, Nparts)):\n",
        "\n",
        "  while False == os.path.isfile(\"mu\"+str(mu)+\"c\"+str(c)+\"part\"+str(j)+\".npy\"):\n",
        "    continue\n",
        "  time.sleep(10/Nparts)\n",
        "  b = np.load(\"mu\"+str(mu)+\"c\"+str(c)+\"part\"+str(j)+\".npy\", allow_pickle = True)\n",
        "  a = np.append(a,b)\n",
        "  #os.system(\"rm mu\"+str(mu)+\"c\"+str(c)+\"part\"+str(j)+\".npy\")\n",
        "  \n",
        "np.save(\"mu\"+str(mu)+\"c\"+str(c)+\"FULL.npy\",a)\n",
        "print(a.size,\" events generated sucessfully\")"
      ],
      "execution_count": 149,
      "outputs": [
        {
          "output_type": "stream",
          "text": [
            "1000  events generated sucessfully\n"
          ],
          "name": "stdout"
        }
      ]
    },
    {
      "cell_type": "markdown",
      "metadata": {
        "colab_type": "text",
        "id": "XuPs-fPAYF4e"
      },
      "source": [
        "### Production of random data"
      ]
    },
    {
      "cell_type": "code",
      "metadata": {
        "colab_type": "code",
        "outputId": "dc4f5bb3-8c76-409f-c2a8-dd0ecad365bf",
        "id": "AZO_LLMEYF4f",
        "colab": {
          "base_uri": "https://localhost:8080/",
          "height": 54
        }
      },
      "source": [
        "\n",
        "parMetro(Nparts,mu_vect[2],c_vect[1])#160*500 = 80000"
      ],
      "execution_count": 150,
      "outputs": [
        {
          "output_type": "stream",
          "text": [
            "Creating mu170c20part1.npy in the background\n",
            "Creating mu170c20part2.npy in the background\n"
          ],
          "name": "stdout"
        }
      ]
    },
    {
      "cell_type": "code",
      "metadata": {
        "colab_type": "code",
        "id": "1z0n82xtYF4j",
        "colab": {}
      },
      "source": [
        "while False == os.path.isfile(\"mu\"+str(mu)+\"c\"+str(c)+\"part\"+str(Nparts)+\".npy\"):\n",
        "  continue"
      ],
      "execution_count": 0,
      "outputs": []
    },
    {
      "cell_type": "code",
      "metadata": {
        "colab_type": "code",
        "outputId": "4bfa167d-c686-425b-d3a6-5fdc9bcd48d5",
        "id": "zQuCmVlrYF4m",
        "colab": {
          "base_uri": "https://localhost:8080/",
          "height": 35
        }
      },
      "source": [
        "a = np.load(\"mu\"+str(mu)+\"c\"+str(c)+\"part\"+str(Nparts)+\".npy\", allow_pickle = True)\n",
        "#os.system(\"rm mu\"+str(mu)+\"c\"+str(c)+\"part\"+str(Nparts)+\".npy\")\n",
        "for j in reversed(range(1, Nparts)):\n",
        "\n",
        "  while False == os.path.isfile(\"mu\"+str(mu)+\"c\"+str(c)+\"part\"+str(j)+\".npy\"):\n",
        "    continue\n",
        "  time.sleep(10/Nparts)\n",
        "  b = np.load(\"mu\"+str(mu)+\"c\"+str(c)+\"part\"+str(j)+\".npy\", allow_pickle = True)\n",
        "  a = np.append(a,b)\n",
        "  #os.system(\"rm mu\"+str(mu)+\"c\"+str(c)+\"part\"+str(j)+\".npy\")\n",
        "  \n",
        "np.save(\"mu\"+str(mu)+\"c\"+str(c)+\"FULL.npy\",a)\n",
        "print(a.size,\" events generated sucessfully\")"
      ],
      "execution_count": 152,
      "outputs": [
        {
          "output_type": "stream",
          "text": [
            "1000  events generated sucessfully\n"
          ],
          "name": "stdout"
        }
      ]
    },
    {
      "cell_type": "markdown",
      "metadata": {
        "colab_type": "text",
        "id": "iCqSEJGGYGv6"
      },
      "source": [
        "### Production of random data"
      ]
    },
    {
      "cell_type": "code",
      "metadata": {
        "colab_type": "code",
        "outputId": "798a5ad0-a6a0-4cf8-9c81-870f2cb75afb",
        "id": "9AsIkBiNYGv8",
        "colab": {
          "base_uri": "https://localhost:8080/",
          "height": 54
        }
      },
      "source": [
        "\n",
        "parMetro(Nparts,mu_vect[2],c_vect[2])#160*500 = 80000"
      ],
      "execution_count": 153,
      "outputs": [
        {
          "output_type": "stream",
          "text": [
            "Creating mu170c21part1.npy in the background\n",
            "Creating mu170c21part2.npy in the background\n"
          ],
          "name": "stdout"
        }
      ]
    },
    {
      "cell_type": "code",
      "metadata": {
        "colab_type": "code",
        "id": "c4DagaaRYGwA",
        "colab": {}
      },
      "source": [
        "while False == os.path.isfile(\"mu\"+str(mu)+\"c\"+str(c)+\"part\"+str(Nparts)+\".npy\"):\n",
        "  continue"
      ],
      "execution_count": 0,
      "outputs": []
    },
    {
      "cell_type": "code",
      "metadata": {
        "colab_type": "code",
        "outputId": "04f7b97a-ccb1-4913-a156-54d3db411693",
        "id": "_92462vXYGwD",
        "colab": {
          "base_uri": "https://localhost:8080/",
          "height": 35
        }
      },
      "source": [
        "a = np.load(\"mu\"+str(mu)+\"c\"+str(c)+\"part\"+str(Nparts)+\".npy\", allow_pickle = True)\n",
        "#os.system(\"rm mu\"+str(mu)+\"c\"+str(c)+\"part\"+str(Nparts)+\".npy\")\n",
        "for j in reversed(range(1, Nparts)):\n",
        "\n",
        "  while False == os.path.isfile(\"mu\"+str(mu)+\"c\"+str(c)+\"part\"+str(j)+\".npy\"):\n",
        "    continue\n",
        "  time.sleep(10/Nparts)\n",
        "  b = np.load(\"mu\"+str(mu)+\"c\"+str(c)+\"part\"+str(j)+\".npy\", allow_pickle = True)\n",
        "  a = np.append(a,b)\n",
        "  #os.system(\"rm mu\"+str(mu)+\"c\"+str(c)+\"part\"+str(j)+\".npy\")\n",
        "  \n",
        "np.save(\"mu\"+str(mu)+\"c\"+str(c)+\"FULL.npy\",a)\n",
        "print(a.size,\" events generated sucessfully\")"
      ],
      "execution_count": 155,
      "outputs": [
        {
          "output_type": "stream",
          "text": [
            "1000  events generated sucessfully\n"
          ],
          "name": "stdout"
        }
      ]
    },
    {
      "cell_type": "markdown",
      "metadata": {
        "id": "BMKkUySGa2Tz",
        "colab_type": "text"
      },
      "source": [
        "Now we get the values of Chi-Squared"
      ]
    },
    {
      "cell_type": "code",
      "metadata": {
        "id": "KeIhMv8NYd7u",
        "colab_type": "code",
        "colab": {
          "base_uri": "https://localhost:8080/",
          "height": 353
        },
        "outputId": "fe08c6d0-74d1-42e3-b5f5-a5b192c8ce68"
      },
      "source": [
        "chiS = []\n",
        "for mu in mu_vect:\n",
        "  for c in c_vect:\n",
        "    fitArray = np.load(\"mu\"+str(mu)+\"c\"+str(c)+\"FULL.npy\")\n",
        "    chiS.append(get_chi_squared_over_ndf(fitArray,dataArray,1000))"
      ],
      "execution_count": 157,
      "outputs": [
        {
          "output_type": "error",
          "ename": "FileNotFoundError",
          "evalue": "ignored",
          "traceback": [
            "\u001b[0;31m---------------------------------------------------------------------------\u001b[0m",
            "\u001b[0;31mFileNotFoundError\u001b[0m                         Traceback (most recent call last)",
            "\u001b[0;32m<ipython-input-157-8c3844c5dfa9>\u001b[0m in \u001b[0;36m<module>\u001b[0;34m()\u001b[0m\n\u001b[1;32m      2\u001b[0m \u001b[0;32mfor\u001b[0m \u001b[0mmu\u001b[0m \u001b[0;32min\u001b[0m \u001b[0mmu_vect\u001b[0m\u001b[0;34m:\u001b[0m\u001b[0;34m\u001b[0m\u001b[0;34m\u001b[0m\u001b[0m\n\u001b[1;32m      3\u001b[0m   \u001b[0;32mfor\u001b[0m \u001b[0mc\u001b[0m \u001b[0;32min\u001b[0m \u001b[0mc_vect\u001b[0m\u001b[0;34m:\u001b[0m\u001b[0;34m\u001b[0m\u001b[0;34m\u001b[0m\u001b[0m\n\u001b[0;32m----> 4\u001b[0;31m     \u001b[0mfitArray\u001b[0m \u001b[0;34m=\u001b[0m \u001b[0mnp\u001b[0m\u001b[0;34m.\u001b[0m\u001b[0mload\u001b[0m\u001b[0;34m(\u001b[0m\u001b[0;34m\"mu\"\u001b[0m\u001b[0;34m+\u001b[0m\u001b[0mstr\u001b[0m\u001b[0;34m(\u001b[0m\u001b[0mmu\u001b[0m\u001b[0;34m)\u001b[0m\u001b[0;34m+\u001b[0m\u001b[0;34m\"c\"\u001b[0m\u001b[0;34m+\u001b[0m\u001b[0mstr\u001b[0m\u001b[0;34m(\u001b[0m\u001b[0mc\u001b[0m\u001b[0;34m)\u001b[0m\u001b[0;34m+\u001b[0m\u001b[0;34m\"FULL.npy\"\u001b[0m\u001b[0;34m)\u001b[0m\u001b[0;34m\u001b[0m\u001b[0;34m\u001b[0m\u001b[0m\n\u001b[0m\u001b[1;32m      5\u001b[0m     \u001b[0mchiS\u001b[0m\u001b[0;34m.\u001b[0m\u001b[0mappend\u001b[0m\u001b[0;34m(\u001b[0m\u001b[0mget_chi_squared_over_ndf\u001b[0m\u001b[0;34m(\u001b[0m\u001b[0mfitArray\u001b[0m\u001b[0;34m,\u001b[0m\u001b[0mdataArray\u001b[0m\u001b[0;34m,\u001b[0m\u001b[0;36m1000\u001b[0m\u001b[0;34m)\u001b[0m\u001b[0;34m)\u001b[0m\u001b[0;34m\u001b[0m\u001b[0;34m\u001b[0m\u001b[0m\n",
            "\u001b[0;32m/usr/local/lib/python3.6/dist-packages/numpy/lib/npyio.py\u001b[0m in \u001b[0;36mload\u001b[0;34m(file, mmap_mode, allow_pickle, fix_imports, encoding)\u001b[0m\n\u001b[1;32m    426\u001b[0m         \u001b[0mown_fid\u001b[0m \u001b[0;34m=\u001b[0m \u001b[0;32mFalse\u001b[0m\u001b[0;34m\u001b[0m\u001b[0;34m\u001b[0m\u001b[0m\n\u001b[1;32m    427\u001b[0m     \u001b[0;32melse\u001b[0m\u001b[0;34m:\u001b[0m\u001b[0;34m\u001b[0m\u001b[0;34m\u001b[0m\u001b[0m\n\u001b[0;32m--> 428\u001b[0;31m         \u001b[0mfid\u001b[0m \u001b[0;34m=\u001b[0m \u001b[0mopen\u001b[0m\u001b[0;34m(\u001b[0m\u001b[0mos_fspath\u001b[0m\u001b[0;34m(\u001b[0m\u001b[0mfile\u001b[0m\u001b[0;34m)\u001b[0m\u001b[0;34m,\u001b[0m \u001b[0;34m\"rb\"\u001b[0m\u001b[0;34m)\u001b[0m\u001b[0;34m\u001b[0m\u001b[0;34m\u001b[0m\u001b[0m\n\u001b[0m\u001b[1;32m    429\u001b[0m         \u001b[0mown_fid\u001b[0m \u001b[0;34m=\u001b[0m \u001b[0;32mTrue\u001b[0m\u001b[0;34m\u001b[0m\u001b[0;34m\u001b[0m\u001b[0m\n\u001b[1;32m    430\u001b[0m \u001b[0;34m\u001b[0m\u001b[0m\n",
            "\u001b[0;31mFileNotFoundError\u001b[0m: [Errno 2] No such file or directory: 'mu168c19FULL.npy'"
          ]
        }
      ]
    },
    {
      "cell_type": "code",
      "metadata": {
        "id": "kHRzn7x4a0rz",
        "colab_type": "code",
        "colab": {}
      },
      "source": [
        "plt.scatter(np.arange(1,10,1),chiS)"
      ],
      "execution_count": 0,
      "outputs": []
    },
    {
      "cell_type": "code",
      "metadata": {
        "id": "nVG-mRcefGMy",
        "colab_type": "code",
        "colab": {
          "base_uri": "https://localhost:8080/",
          "height": 35
        },
        "outputId": "093e3917-d93e-482e-f2f1-02b6b1ed6e0a"
      },
      "source": [
        "%ls *FULL.npy"
      ],
      "execution_count": 162,
      "outputs": [
        {
          "output_type": "stream",
          "text": [
            "mu260c60FULL.npy\n"
          ],
          "name": "stdout"
        }
      ]
    },
    {
      "cell_type": "code",
      "metadata": {
        "id": "Ou0d_haifG3G",
        "colab_type": "code",
        "colab": {}
      },
      "source": [
        ""
      ],
      "execution_count": 0,
      "outputs": []
    }
  ]
}