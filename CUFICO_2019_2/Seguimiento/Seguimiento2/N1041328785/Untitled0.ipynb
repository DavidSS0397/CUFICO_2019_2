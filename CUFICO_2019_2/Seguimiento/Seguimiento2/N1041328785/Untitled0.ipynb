{
  "nbformat": 4,
  "nbformat_minor": 0,
  "metadata": {
    "colab": {
      "name": "Untitled0.ipynb",
      "provenance": [],
      "collapsed_sections": [],
      "include_colab_link": true
    },
    "kernelspec": {
      "name": "python3",
      "display_name": "Python 3"
    }
  },
  "cells": [
    {
      "cell_type": "markdown",
      "metadata": {
        "id": "view-in-github",
        "colab_type": "text"
      },
      "source": [
        "<a href=\"https://colab.research.google.com/github/lidersamir/CUFICO_2019_2/blob/master/CUFICO_2019_2/Seguimiento/Seguimiento2/N1041328785/Untitled0.ipynb\" target=\"_parent\"><img src=\"https://colab.research.google.com/assets/colab-badge.svg\" alt=\"Open In Colab\"/></a>"
      ]
    },
    {
      "cell_type": "code",
      "metadata": {
        "id": "WwbpGt-HqEkR",
        "colab_type": "code",
        "colab": {}
      },
      "source": [
        ""
      ],
      "execution_count": 0,
      "outputs": []
    },
    {
      "cell_type": "markdown",
      "metadata": {
        "id": "kO3N33qYqHki",
        "colab_type": "text"
      },
      "source": [
        "## ejercicio.\n",
        "\n",
        "escribir un integrador para una dimension  y 3 dimensiones, para verificar los resultados podemos usar algunas librerias como scipy.integrate.quad\n",
        "\n",
        "para las siguientes funciones \n",
        "\n",
        "en una dimension:\n",
        "$$x^{-3}$$\n",
        "$$x^{-\\frac{1}{2}}$$\n",
        "con $x$ en $[1,10]$\n",
        "\n",
        "en tres dimesiones:\n",
        "\n",
        "$$ \\frac{1}{x}+y+z^{2}$$\n",
        "\n",
        "con $x,y,z$ en $[1,10]; [0,2]; [0,2]$ respectivamente.\n",
        "\n",
        "usando $N = 100, 1000, 10000$\n",
        "\n",
        "Nota: Para solucionar este problema debemos tener en cuenta que $E^{*} = (b-a)E$, la varianza para el metodo de montecarlo solo esta bien definido para funciones con cuadrado integrable.\n",
        "\n",
        "\n"
      ]
    },
    {
      "cell_type": "code",
      "metadata": {
        "id": "pgalxAF6r3W6",
        "colab_type": "code",
        "colab": {}
      },
      "source": [
        "import numpy as np\n",
        "from random import random\n",
        "from scipy import integrate\n",
        "import matplotlib.mlab as mlab\n",
        "import matplotlib.pyplot as plt"
      ],
      "execution_count": 0,
      "outputs": []
    },
    {
      "cell_type": "code",
      "metadata": {
        "id": "F65zLH26qqeF",
        "colab_type": "code",
        "outputId": "10b4ba99-7af5-4244-c26c-a164fc403331",
        "colab": {
          "base_uri": "https://localhost:8080/",
          "height": 86
        }
      },
      "source": [
        "#definimos los limites \n",
        "\n",
        "a = 1 #limite inferior\n",
        "b = 10 #limite superior\n",
        "\n",
        "c = 0\n",
        "d = 2 \n",
        "\n",
        "N = 100000\n",
        "\n",
        "#############funciones a integrar\n",
        "\n",
        "##funciones unideimensionales\n",
        "def F(x):\n",
        "  return (x)**(-3)\n",
        "\n",
        "def G(x):\n",
        "  return (x)**-0.5\n",
        "\n",
        "##fuciones tridimensionales\n",
        "def H(x, y, z):\n",
        "  return x**(-1) + y + z**2\n",
        "\n",
        "\n",
        "#metodo de montecarlo\n",
        "\n",
        "I1 = 0\n",
        "I2 = 0\n",
        "I3 = 0\n",
        "\n",
        "S2_1=0\n",
        "S2_2=0\n",
        "\n",
        "for i in range(N):\n",
        "  x = (b-a)*random() + a # genera un numero aleatorio den el intervalo [a,b]\n",
        "  y = (d-c)*random()\n",
        "  z = (d-c)*random()\n",
        "\n",
        "  I1 = I1 + F(x)\n",
        "  I2 = I2 + G(x)\n",
        "  I3 = I3 + H(x, y, z)\n",
        "\n",
        "for i in range(N):\n",
        "\n",
        "  S2_1 = S2_1+(F(x)-I1*(b-a)/N)**2\n",
        "  S2_2 = S2_1+(G(x)-I2*(b-a)/N)**2\n",
        "print(\"estimado de la integral\")\n",
        "print (I1*(b-a)/N, S2_1/N)\n",
        "print (integrate.quad(F, 1, 10))\n",
        "\n",
        "print (I2*(b-a)/N, S2_2/N)\n",
        "print (integrate.quad(G, 1, 10))\n",
        "\n",
        "#print (integrate.quad(H, 1, 10))"
      ],
      "execution_count": 0,
      "outputs": [
        {
          "output_type": "stream",
          "text": [
            "0.4948522791386749 0.09083482036654009\n",
            "(0.495, 3.33106475941296e-10)\n",
            "4.322603082514332 0.09094770741090384\n",
            "(4.32455532033676, 1.6881526376757614e-09)\n"
          ],
          "name": "stdout"
        }
      ]
    },
    {
      "cell_type": "markdown",
      "metadata": {
        "id": "h10_yCQI21BE",
        "colab_type": "text"
      },
      "source": [
        "## metodos para reducir $S^{2}$\n",
        "\n",
        "### 1) muestreo estratificado\n",
        "  se piensa que una integral puede ser calculada como la suma de\n",
        "      otras dos integrales producto de la redeficion de los\n",
        "      intervalos de integracion de la integral original.\n",
        "      $$E = \\sum_{j=1}^k \\frac{ Vol(M_j)}{N_j} \\sum_{m=1}^{N_j}f(x_{jm})$$ \n",
        "\n",
        "   \n",
        "\n",
        "### 2) muestreo ponderado\n",
        "este muestreo puede ser tomado como una generalizacion del caso anterior. \n",
        "$$ E = \\frac{1}{N}\\sum_{m=1}^{N}\\frac{f(x_{m})}{p(x_{m})}$$\n",
        "\n",
        "por tanto $$ S^{2} = \\frac{1}{N}\\sum_{m=1}^{N}(\\frac{f(x_{m})}{p(x_{m})})^2 - E^2$$"
      ]
    },
    {
      "cell_type": "code",
      "metadata": {
        "id": "nJfwf1P8HXbh",
        "colab_type": "code",
        "colab": {
          "base_uri": "https://localhost:8080/",
          "height": 33
        },
        "outputId": "e870c388-0ff3-436e-c848-0137180d9e59"
      },
      "source": [
        "#si tenemos un conjuno de N valores \n",
        "N=100000\n",
        "#definimos k divisiones de N\n",
        "k=10\n",
        "N_k= int(N/k)\n",
        "D_k=(b-a)/k\n",
        "\n",
        "#Usamos el metodo de montecarlos en cada N_k\n",
        "\n",
        "I1=0\n",
        "a=1\n",
        "b=10\n",
        "I1_k = 0\n",
        "#I2_k = 0\n",
        "#I3_k = 0\n",
        "\n",
        "for j in range(k):\n",
        "  a = a + j*D_k\n",
        " \n",
        "  for i in range(N_k):\n",
        "    x = (D_k)*random() + a # genera un numero aleatorio den el intervalo [a,b]\n",
        "    #y = (d-c)*random()\n",
        "    #z = (d-c)*random()\n",
        "\n",
        "    I1_k = I1_k + F(x)\n",
        "    #I2_k = I2_k + G(x)\n",
        "    #I3_k = I3_k + H(x, y, z)\n",
        "  \n",
        "  I1 = I1 + I1_k/N_k\n",
        "\n",
        "\n",
        "print (I1)"
      ],
      "execution_count": 159,
      "outputs": [
        {
          "output_type": "stream",
          "text": [
            "1.0347207212923476e-55\n"
          ],
          "name": "stdout"
        }
      ]
    },
    {
      "cell_type": "markdown",
      "metadata": {
        "id": "EODTLHMs-EDZ",
        "colab_type": "text"
      },
      "source": [
        "## Algoritmo de metropolis :\n",
        "### sistema descrito por  $P(x_1,...,x_n)$ con $x$ aletorio \n",
        "\n",
        "si tenemos un estado $\\phi(x_1,...,x_n)$\n",
        "\n",
        "usamos el siguiente algoritmo:\n",
        "\n",
        "1)Generar aleatoriamente $\\phi_0$\n",
        "\n",
        "2)Generar aleatoriamente $\\phi'$\n",
        "\n",
        "3)Calcular $\\Delta S = -\\ln(\\frac{P(\\phi')}{P(\\phi_0)})$\n",
        "\n",
        "4)si $\\Delta S < 0$, $\\phi_1 = \\phi$\n",
        "\n",
        "5)si $\\Delta S >0$, acepto $\\phi$:\n",
        "con una probabilidad  $\\frac{P(\\phi')}{P(\\phi_1)}$, de lo contrario no acepto $\\phi$\n",
        "\n",
        "6)volver al paso 2\n",
        "\n",
        "aclaracion del paso 5 $x < P$ entonces $\\phi_1 = \\phi$\n",
        "\n",
        "\n",
        "aclaracion del paso 5 $x > P$ entonces $\\phi_1 != \\phi$\n",
        "#### Ejemplo \n",
        "Implementar metrópolis $-\\lambda$ y aplicar para el experimento de Rutherford $$P(\\theta)=\\frac{e^{\\frac{-(\\theta-\\mu)^{2}}{2\\sigma^{2}}}}{\\sqrt{2\\pi}\\sigma}$$ con $\\mu=0$ y $\\sigma=0.1$: Generar 1000 eventos y graficar $\\theta$.\n",
        "\n"
      ]
    },
    {
      "cell_type": "code",
      "metadata": {
        "id": "EVCovchk4s-7",
        "colab_type": "code",
        "colab": {}
      },
      "source": [
        "#Funcion P(x)\n",
        "#constantes de la funcion \n",
        "sigma = 0.1\n",
        "mu = 0\n",
        "\n",
        "#Funcion para el ejercicio de Rutherfor\n",
        "def P(x):\n",
        "  return np.e**(-((x-mu)**2)/(2*sigma**2))/(sigma*np.sqrt(2*np.pi))\n"
      ],
      "execution_count": 0,
      "outputs": []
    },
    {
      "cell_type": "code",
      "metadata": {
        "id": "KmjB6d2LmtJD",
        "colab_type": "code",
        "outputId": "1eaac211-db49-440a-af5b-75fc41fbe465",
        "colab": {
          "base_uri": "https://localhost:8080/",
          "height": 317
        }
      },
      "source": [
        "\n",
        "# Ejemplo algoritmo metropolis\n",
        "def metropolis(func, steps=10000):\n",
        "    \n",
        "    Phi = np.zeros(steps)\n",
        "    phi_0 = random()\n",
        "    prob_0 =P(phi_0)\n",
        "    \n",
        "    for i in range(steps):\n",
        "        phi = random()\n",
        "        prob = P(phi)\n",
        "        aceptacion = prob / prob_0\n",
        "        if aceptacion > np.random.random():\n",
        "            Phi[i] = phi\n",
        "            phi_0 = phi\n",
        "            prob_0 = prob\n",
        "        else:\n",
        "            Phi[i] = phi_0\n",
        "    \n",
        "    return Phi\n",
        "\n",
        "\n",
        "X = metropolis(P, 1000)\n",
        "x = np.linspace(0, 1)\n",
        "num_bins = 20\n",
        "# the histogram of the data\n",
        "n, bins, patches = plt.hist(X, num_bins, normed=1, facecolor='blue', alpha=0.5)\n",
        "\n",
        "plt.plot(x,P(x), \"r\", label= \"P($\\phi$)\")\n",
        "plt.legend(loc=\"best\")\n",
        "plt.show()\n"
      ],
      "execution_count": 123,
      "outputs": [
        {
          "output_type": "stream",
          "text": [
            "/usr/local/lib/python3.6/dist-packages/ipykernel_launcher.py:25: MatplotlibDeprecationWarning: \n",
            "The 'normed' kwarg was deprecated in Matplotlib 2.1 and will be removed in 3.1. Use 'density' instead.\n"
          ],
          "name": "stderr"
        },
        {
          "output_type": "display_data",
          "data": {
            "image/png": "[encoded data removed]",
            "text/plain": [
              "<Figure size 432x288 with 1 Axes>"
            ]
          },
          "metadata": {
            "tags": []
          }
        }
      ]
    }
  ]
}