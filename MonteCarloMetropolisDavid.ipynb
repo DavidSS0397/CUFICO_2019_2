{
  "nbformat": 4,
  "nbformat_minor": 0,
  "metadata": {
    "colab": {
      "name": "MonteCarloMetropolisDavid.ipynb",
      "provenance": [],
      "collapsed_sections": [],
      "include_colab_link": true
    },
    "kernelspec": {
      "name": "python3",
      "display_name": "Python 3"
    }
  },
  "cells": [
    {
      "cell_type": "markdown",
      "metadata": {
        "id": "view-in-github",
        "colab_type": "text"
      },
      "source": [
        "<a href=\"https://colab.research.google.com/github/DavidT005/CUFICO_2019_2/blob/master/MonteCarloMetropolisDavid.ipynb\" target=\"_parent\"><img src=\"https://colab.research.google.com/assets/colab-badge.svg\" alt=\"Open In Colab\"/></a>"
      ]
    },
    {
      "cell_type": "markdown",
      "metadata": {
        "id": "e_WFl-kmm3Wl",
        "colab_type": "text"
      },
      "source": [
        "#Motecarlo"
      ]
    },
    {
      "cell_type": "code",
      "metadata": {
        "id": "c_e1bpL4m-3l",
        "colab_type": "code",
        "colab": {}
      },
      "source": [
        "import numpy as np\n",
        "from scipy import integrate\n",
        "import matplotlib.pyplot as plt"
      ],
      "execution_count": 0,
      "outputs": []
    },
    {
      "cell_type": "code",
      "metadata": {
        "id": "M6AOLCSgn9ra",
        "colab_type": "code",
        "colab": {}
      },
      "source": [
        ""
      ],
      "execution_count": 0,
      "outputs": []
    },
    {
      "cell_type": "code",
      "metadata": {
        "id": "DQWpmKb8q-QY",
        "colab_type": "code",
        "outputId": "5f1c5cb6-544d-4f11-899e-8df18b913163",
        "colab": {
          "base_uri": "https://localhost:8080/",
          "height": 85
        }
      },
      "source": [
        "a = 1 # lower limit\n",
        "b = 10 # upper limit\n",
        "c = 0\n",
        "d = 2\n",
        "N = 100000\n",
        "\n",
        "def F(x):\n",
        "  return 1/x**3\n",
        "\n",
        "def G(x):\n",
        "  return (x)**-0.5\n",
        "\n",
        "def H(x,y,z):\n",
        "  return (1/x)+y+z**2\n",
        "\n",
        "\n",
        "I1,I2,I3=0,0,0 # var to store the integral\n",
        "f_squared_storage = np.array([])\n",
        "g_squared_storage = np.array([])\n",
        "h_squared_storage = np.array([])\n",
        "\n",
        "\n",
        "for i in range(N):\n",
        "  x = (b-a)*np.random.random() +a # generates a random float between a and b\n",
        "  y = (d-c)*np.random.random() +c\n",
        "  z = (d-c)*np.random.random() +c\n",
        "\n",
        "  I1 += F(x)\n",
        "  f_squared_storage = np.append(f_squared_storage, F(x)**2)\n",
        "\n",
        "  I2 += G(x)\n",
        "  g_squared_storage = np.append(g_squared_storage, G(x)**2)\n",
        "\n",
        "\n",
        "  I3 += H(x,y,z)\n",
        "  g_squared_storage = np.append(g_squared_storage, H(x,y,z)**2)\n",
        "\n",
        "\n",
        "E1 = I1\n",
        "E2 = I2\n",
        "E3 = I3\n",
        "\n",
        "I1 = (I1/N)*(b-a)#Se multiplica por (b-a) para extender la integral de [0,1] a [a,b]\n",
        "I2 = (I2/N)*(b-a)#Se multiplica por (b-a) para extender la integral de [0,1] a [a,b]\n",
        "I3 = (I3/N)*(b-a)*(d-c)**2 #Se multiplica por (b-a)(c-d)**2 para extender la integral de [0,1] a [a,b] y dos veces de [0,1] a [c,d]\n",
        "\n",
        "\n",
        "print(I1)\n",
        "print(I2)\n",
        "print(I3)\n",
        "\n",
        "integrate.quad(F,1,10)\n",
        "integrate.quad(G,1,10)\n",
        "\n",
        "\n",
        "\n"
      ],
      "execution_count": 76,
      "outputs": [
        {
          "output_type": "stream",
          "text": [
            "0.49051334938894353\n",
            "4.319911871776048\n",
            "93.1024116981167\n"
          ],
          "name": "stdout"
        },
        {
          "output_type": "execute_result",
          "data": {
            "text/plain": [
              "(4.32455532033676, 1.6881526376757614e-09)"
            ]
          },
          "metadata": {
            "tags": []
          },
          "execution_count": 76
        }
      ]
    },
    {
      "cell_type": "code",
      "metadata": {
        "id": "mlhCKc3-rLag",
        "colab_type": "code",
        "colab": {
          "base_uri": "https://localhost:8080/",
          "height": 34
        },
        "outputId": "d24835e8-55cd-4941-8d06-9d5a3ab0c160"
      },
      "source": [
        "f_s_squared = np.sum(f_squared_storage- (I1** 2)) / N\n",
        "g_s_squared = np.sum(g_squared_storage - (I2 ** 2)) / N\n",
        "h_s_squared = np.sum(h_squared_storage - (I3 ** 2)) / N\n",
        "\n",
        "print(f_s_squared, g_s_squared, h_s_squared)"
      ],
      "execution_count": 84,
      "outputs": [
        {
          "output_type": "stream",
          "text": [
            "-0.21866752109334436 -28.587695842041583 0.0\n"
          ],
          "name": "stdout"
        }
      ]
    },
    {
      "cell_type": "markdown",
      "metadata": {
        "id": "JGeJb9tCoTc-",
        "colab_type": "text"
      },
      "source": [
        "Now we use the stratified sampling"
      ]
    },
    {
      "cell_type": "code",
      "metadata": {
        "id": "49Yag7wTn9c4",
        "colab_type": "code",
        "colab": {
          "base_uri": "https://localhost:8080/",
          "height": 265
        },
        "outputId": "5e55a1f6-a0ad-4e21-c43d-160a2791efa1"
      },
      "source": [
        "a = 1\n",
        "b = 10\n",
        "x_span = np.linspace(a,b,1000)\n",
        "plt.plot(x_span,F(x_span))\n",
        "plt.show()"
      ],
      "execution_count": 54,
      "outputs": [
        {
          "output_type": "display_data",
          "data": {
            "image/png": "[encoded data removed]",
            "text/plain": [
              "<Figure size 432x288 with 1 Axes>"
            ]
          },
          "metadata": {
            "tags": []
          }
        }
      ]
    },
    {
      "cell_type": "code",
      "metadata": {
        "id": "fOBylf8Dn9P7",
        "colab_type": "code",
        "colab": {
          "base_uri": "https://localhost:8080/",
          "height": 51
        },
        "outputId": "f4b9e253-11b3-40b0-8986-8da8f68d0167"
      },
      "source": [
        "I1_1 = 0\n",
        "I1_2 = 0\n",
        "\n",
        "a = 1\n",
        "b = 2\n",
        "N1 = 100000\n",
        "for i in range(N1):\n",
        "  x = (b-a)*np.random.random() +a # generates a random float between a and b\n",
        "  I1_1 += F(x)\n",
        "  \n",
        "I1_1 = (I1_1/N1)*(b-a)\n",
        "\n",
        "\n",
        "a = 2\n",
        "b = 10\n",
        "N2 = 1000\n",
        "for i in range(N2):\n",
        "  x = (b-a)*np.random.random() +a # generates a random float between a and b\n",
        "  I1_2 += F(x)\n",
        "\n",
        "I1_2 = (I1_2/N2)*(b-a)\n",
        "\n",
        "I1 = I1_1+I1_2\n",
        "\n",
        "print(I1)\n",
        "integrate.quad(F,1,10)"
      ],
      "execution_count": 55,
      "outputs": [
        {
          "output_type": "stream",
          "text": [
            "0.4987608973863228\n"
          ],
          "name": "stdout"
        },
        {
          "output_type": "execute_result",
          "data": {
            "text/plain": [
              "(0.4950000000000001, 3.331064937908213e-10)"
            ]
          },
          "metadata": {
            "tags": []
          },
          "execution_count": 55
        }
      ]
    },
    {
      "cell_type": "code",
      "metadata": {
        "id": "PtzyPZ0opK3y",
        "colab_type": "code",
        "colab": {
          "base_uri": "https://localhost:8080/",
          "height": 265
        },
        "outputId": "eec2920a-3ecf-4a16-dac0-6200c72b68f2"
      },
      "source": [
        "a = 1\n",
        "b = 10\n",
        "x_span = np.linspace(a,b,1000)\n",
        "plt.plot(x_span,G(x_span))\n",
        "plt.show()"
      ],
      "execution_count": 56,
      "outputs": [
        {
          "output_type": "display_data",
          "data": {
            "image/png": "[encoded data removed]",
            "text/plain": [
              "<Figure size 432x288 with 1 Axes>"
            ]
          },
          "metadata": {
            "tags": []
          }
        }
      ]
    },
    {
      "cell_type": "code",
      "metadata": {
        "id": "fdbo4iFBphKA",
        "colab_type": "code",
        "colab": {
          "base_uri": "https://localhost:8080/",
          "height": 51
        },
        "outputId": "f7f4209f-7a48-4287-e49a-8ace4ec7e0c5"
      },
      "source": [
        "I2_1 = 0\n",
        "I2_2 = 0\n",
        "\n",
        "a = 1\n",
        "b = 2\n",
        "N1 = 10000\n",
        "for i in range(N1):\n",
        "  x = (b-a)*np.random.random() +a # generates a random float between a and b\n",
        "  I2_1 += G(x)\n",
        "\n",
        "I2_1 = (I2_1/N1)*(b-a)\n",
        "\n",
        "\n",
        "a = 2\n",
        "b = 10\n",
        "N2 = 1000\n",
        "for i in range(N2):\n",
        "  x = (b-a)*np.random.random() +a # generates a random float between a and b\n",
        "  I2_2 += G(x)\n",
        "\n",
        "I2_2 = (I2_2/N2)*(b-a)\n",
        "\n",
        "I2 = I2_1+I2_2\n",
        "\n",
        "print(I2)\n",
        "integrate.quad(G,1,10)"
      ],
      "execution_count": 57,
      "outputs": [
        {
          "output_type": "stream",
          "text": [
            "4.321907340074979\n"
          ],
          "name": "stdout"
        },
        {
          "output_type": "execute_result",
          "data": {
            "text/plain": [
              "(4.32455532033676, 1.6881526376757614e-09)"
            ]
          },
          "metadata": {
            "tags": []
          },
          "execution_count": 57
        }
      ]
    },
    {
      "cell_type": "code",
      "metadata": {
        "id": "tCKZ2IROpnGG",
        "colab_type": "code",
        "colab": {
          "base_uri": "https://localhost:8080/",
          "height": 282
        },
        "outputId": "f4fba460-672d-4d08-9766-4132e6146c2a"
      },
      "source": [
        "a = 1\n",
        "b = 10\n",
        "c = 0\n",
        "d = 2\n",
        "x_span = np.linspace(a,b,1000)\n",
        "y_span = np.linspace(c,d,1000)\n",
        "z_span = np.linspace(c,d,1000)\n",
        "'''\n",
        "As H has the form (1/x)+y+z**2 and the ranges stated above\n",
        "H varies linearly with y so we use chose not to use stratified sampling to reduce the number of volume integrals to compute\n",
        "H varies quadratically with z, so we can use stratified sampling in z[0,1] and z[1,2]\n",
        "H varies with the inverse of x so we use stratified sampling with x[1,5] and x[5,10]\n",
        "These account for two perpedicular cuts in space, resulting in four volumes of integration\n",
        "'''\n",
        "'''\n",
        "Let's analize how much every volume adds to the total integral without considering y\n",
        "\n",
        "vol1: x[1,5] and z[0,1] <- Adds a normal ammout\n",
        "vol2: x[1,5] and z[1,2] <- Adds a great ammount\n",
        "vol3: x[5,10] and z[0,1] <- Adds a little ammount\n",
        "vol4: x[5,10] and z[1,2] <- Adds a normal ammount\n",
        "\n",
        "'''\n",
        "plt.plot(x_span,1/x_span)"
      ],
      "execution_count": 58,
      "outputs": [
        {
          "output_type": "execute_result",
          "data": {
            "text/plain": [
              "[<matplotlib.lines.Line2D at 0x7f9fee50a2e8>]"
            ]
          },
          "metadata": {
            "tags": []
          },
          "execution_count": 58
        },
        {
          "output_type": "display_data",
          "data": {
            "image/png": "[encoded data removed]",
            "text/plain": [
              "<Figure size 432x288 with 1 Axes>"
            ]
          },
          "metadata": {
            "tags": []
          }
        }
      ]
    },
    {
      "cell_type": "code",
      "metadata": {
        "id": "NzjBjQHwtqpC",
        "colab_type": "code",
        "colab": {}
      },
      "source": [
        "I3_1 = 0\n",
        "I3_2 = 0\n",
        "I3_3 = 0\n",
        "I3_4 = 0\n",
        "\n",
        "#Vol1: adds a normal ammount\n",
        "a = 1\n",
        "b = 5\n",
        "c = 0\n",
        "d = 2\n",
        "e = 0\n",
        "f = 1\n",
        "N = int(1e3)\n",
        "\n",
        "for i in range(N):\n",
        "  #print(\"1\",i)\n",
        "  x = (b-a)*np.random.random() +a # generates a random float between a and b\n",
        "  y = (d-c)*np.random.random() +c\n",
        "  z = (f-e)*np.random.random() +e\n",
        "  I3_1 += H(x,y,z)\n",
        "\n",
        "I3_1 = (I3_1/N)*(b-a)*(d-c)*(f-e)\n",
        "\n",
        "#Vol2: adds a huge ammount\n",
        "a = 1\n",
        "b = 5\n",
        "c = 0\n",
        "d = 2\n",
        "e = 1\n",
        "f = 2\n",
        "N = int(1e4)\n",
        "\n",
        "for i in range(N):\n",
        "  #print(\"2\",i)\n",
        "  x = (b-a)*np.random.random() +a # generates a random float between a and b\n",
        "  y = (d-c)*np.random.random() +c\n",
        "  z = (f-e)*np.random.random() +e\n",
        "  I3_2 += H(x,y,z)\n",
        "\n",
        "I3_2 = (I3_2/N)*(b-a)*(d-c)*(f-e)\n",
        "\n",
        "#Vol3: adds a little ammount\n",
        "a = 5\n",
        "b = 10\n",
        "c = 0\n",
        "d = 2\n",
        "e = 0\n",
        "f = 1\n",
        "N = int(1e2)\n",
        "\n",
        "for i in range(N):\n",
        "  #print(\"3\",i)\n",
        "  x = (b-a)*np.random.random() +a # generates a random float between a and b\n",
        "  y = (d-c)*np.random.random() +c\n",
        "  z = (f-e)*np.random.random() +e\n",
        "  I3_3 += H(x,y,z)\n",
        "\n",
        "I3_3 = (I3_3/N)*(b-a)*(d-c)*(f-e)\n",
        "\n",
        "#Vol4: adds a normal ammount\n",
        "a = 5\n",
        "b = 10\n",
        "c = 0\n",
        "d = 2\n",
        "e = 1\n",
        "f = 2\n",
        "N = int(1e3)\n",
        "\n",
        "for i in range(N):\n",
        "  #print(\"4\",i)\n",
        "  x = (b-a)*np.random.random() +a # generates a random float between a and b\n",
        "  y = (d-c)*np.random.random() +c\n",
        "  z = (f-e)*np.random.random() +e\n",
        "  I3_4 += H(x,y,z)\n",
        "\n",
        "I3_4 = (I3_4/N)*(b-a)*(d-c)*(f-e)\n",
        "\n",
        "I3 = I3_1 + I3_2 + I3_3 + I3_4"
      ],
      "execution_count": 0,
      "outputs": []
    },
    {
      "cell_type": "code",
      "metadata": {
        "id": "Q1duvje4ToaY",
        "colab_type": "code",
        "colab": {
          "base_uri": "https://localhost:8080/",
          "height": 34
        },
        "outputId": "95c8ef81-44ed-4d38-c39b-ecd2b6d2b2c8"
      },
      "source": [
        "I3"
      ],
      "execution_count": 60,
      "outputs": [
        {
          "output_type": "execute_result",
          "data": {
            "text/plain": [
              "93.12730178645515"
            ]
          },
          "metadata": {
            "tags": []
          },
          "execution_count": 60
        }
      ]
    },
    {
      "cell_type": "markdown",
      "metadata": {
        "id": "dWh_xNw3mkJc",
        "colab_type": "text"
      },
      "source": [
        "#Metropolis"
      ]
    },
    {
      "cell_type": "code",
      "metadata": {
        "id": "y-4hNQ0DmlJr",
        "colab_type": "code",
        "colab": {}
      },
      "source": [
        "import numpy as np\n",
        "import matplotlib.pyplot as plt"
      ],
      "execution_count": 0,
      "outputs": []
    },
    {
      "cell_type": "code",
      "metadata": {
        "id": "rLKqZmtecEAn",
        "colab_type": "code",
        "colab": {}
      },
      "source": [
        "def PDF(theta, sigma = 0.1, mu = 0):\n",
        "  return (1 / (sigma * np.sqrt(2 * np.pi))) * np.exp( -np.power((theta - mu), 2) / (2 * np.power(sigma, 2)  ))"
      ],
      "execution_count": 0,
      "outputs": []
    },
    {
      "cell_type": "code",
      "metadata": {
        "id": "Ymdz8L3-dNIW",
        "colab_type": "code",
        "colab": {
          "base_uri": "https://localhost:8080/",
          "height": 265
        },
        "outputId": "98a8ae18-1804-496c-bef7-3a73605141e2"
      },
      "source": [
        "plt.plot(np.linspace(-np.pi, np.pi), PDF(np.linspace(-np.pi, np.pi)))\n",
        "plt.show()"
      ],
      "execution_count": 63,
      "outputs": [
        {
          "output_type": "display_data",
          "data": {
            "image/png": "[encoded data removed]",
            "text/plain": [
              "<Figure size 432x288 with 1 Axes>"
            ]
          },
          "metadata": {
            "tags": []
          }
        }
      ]
    },
    {
      "cell_type": "code",
      "metadata": {
        "id": "oblWK_LfdhB-",
        "colab_type": "code",
        "colab": {}
      },
      "source": [
        "def metropolis(distro,N):\n",
        "  phi_0 = np.random.random() * 2 * np.pi - np.pi\n",
        "  i = 0\n",
        "  thetas = np.array([])\n",
        "\n",
        "  while (i < N):\n",
        "    phi_prime = np.random.random() * 2 * np.pi - np.pi\n",
        "\n",
        "    delta_s = -np.log(distro(phi_prime) / distro(phi_0) )\n",
        "\n",
        "    if delta_s < 0:\n",
        "      i += 1\n",
        "      thetas = np.append(thetas,phi_prime)\n",
        "      phi_0 = phi_prime\n",
        "    \n",
        "    else:\n",
        "      prob = distro(phi_prime) / distro(phi_0) \n",
        "      if np.random.random() < prob :\n",
        "        i += 1\n",
        "        thetas = np.append(thetas,phi_prime)\n",
        "        phi_0 = phi_prime\n",
        "\n",
        "  return thetas\n",
        "  "
      ],
      "execution_count": 0,
      "outputs": []
    },
    {
      "cell_type": "code",
      "metadata": {
        "id": "IpoK8ZArejCm",
        "colab_type": "code",
        "colab": {}
      },
      "source": [
        "angles = metropolis(PDF,1000)"
      ],
      "execution_count": 0,
      "outputs": []
    },
    {
      "cell_type": "code",
      "metadata": {
        "id": "hf8gGM-aeoEb",
        "colab_type": "code",
        "colab": {
          "base_uri": "https://localhost:8080/",
          "height": 268
        },
        "outputId": "c6c30acf-be00-4258-d0f6-06f3c1098fd1"
      },
      "source": [
        "plt.hist(angles)\n",
        "plt.show()"
      ],
      "execution_count": 66,
      "outputs": [
        {
          "output_type": "display_data",
          "data": {
            "image/png": "[encoded data removed]",
            "text/plain": [
              "<Figure size 432x288 with 1 Axes>"
            ]
          },
          "metadata": {
            "tags": []
          }
        }
      ]
    },
    {
      "cell_type": "code",
      "metadata": {
        "id": "aGsesEojexrC",
        "colab_type": "code",
        "colab": {}
      },
      "source": [
        ""
      ],
      "execution_count": 0,
      "outputs": []
    }
  ]
}