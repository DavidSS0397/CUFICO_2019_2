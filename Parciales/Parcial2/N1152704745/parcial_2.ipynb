{
 "cells": [
  {
   "cell_type": "code",
   "execution_count": 1,
   "metadata": {},
   "outputs": [
    {
     "name": "stdout",
     "output_type": "stream",
     "text": [
      "Welcome to JupyROOT 6.18/04\n"
     ]
    }
   ],
   "source": [
    "import numpy as np\n",
    "import scipy as sp\n",
    "import ROOT\n",
    "import matplotlib.pyplot as plt\n",
    "from numpy.random import uniform, seed, binomial\n",
    "\n",
    "from IPython.display import clear_output\n",
    "\n",
    "seed(69420666)\n",
    "\n",
    "%matplotlib inline"
   ]
  },
  {
   "cell_type": "code",
   "execution_count": 4,
   "metadata": {},
   "outputs": [],
   "source": [
    "''' Read tree from file '''\n",
    "\n",
    "dat_chain = ROOT.TChain(\"SystemTree\")\n",
    "dat_chain.Add(\"N1152704745.root\")\n",
    "\n",
    "N = dat_chain.GetEntries() # get number of events"
   ]
  },
  {
   "cell_type": "code",
   "execution_count": 5,
   "metadata": {},
   "outputs": [],
   "source": [
    "''' Data histogram '''\n",
    "\n",
    "ndf = 200 # number of bins (and degrees of freedom)\n",
    "\n",
    "dat_hist = ROOT.TH1F(\"data_hist\", \"data histogram\", ndf, 100, 800)\n",
    "\n",
    "# fill out histogram\n",
    "\n",
    "for entry in dat_chain:\n",
    "    dat_hist.Fill(entry.x)\n",
    "    \n",
    "# data entries per bin of histogram (for chi squared)    \n",
    "\n",
    "dat_bin_entries = [dat_hist.GetBinContent(i+1) for i in range(ndf)]"
   ]
  },
  {
   "cell_type": "code",
   "execution_count": 6,
   "metadata": {
    "scrolled": true
   },
   "outputs": [
    {
     "name": "stderr",
     "output_type": "stream",
     "text": [
      "Info in <TCanvas::Print>: png file given_data_hist.png has been created\n"
     ]
    },
    {
     "data": {
      "image/png": "[encoded data removed]",
      "text/plain": [
       "<IPython.core.display.Image object>"
      ]
     },
     "metadata": {},
     "output_type": "display_data"
    }
   ],
   "source": [
    "''' Plot histogram '''\n",
    "\n",
    "c_draw = ROOT.TCanvas(\"c_draw\", \"histogram\", 200, 50, 500, 500)\n",
    "c_draw.SetFillColor(0)\n",
    "dat_hist.Draw()\n",
    "c_draw.Update()\n",
    "ROOT.gROOT.GetListOfCanvases().Draw()\n",
    "\n",
    "c_draw.SaveAs(\"given_data_hist.png\")"
   ]
  },
  {
   "cell_type": "markdown",
   "metadata": {},
   "source": [
    "# Metropolis"
   ]
  },
  {
   "cell_type": "code",
   "execution_count": 7,
   "metadata": {},
   "outputs": [
    {
     "data": {
      "text/plain": [
       "[<matplotlib.lines.Line2D at 0x7f886c01ecd0>]"
      ]
     },
     "execution_count": 7,
     "metadata": {},
     "output_type": "execute_result"
    },
    {
     "data": {
      "image/png": "[encoded data removed]",
      "text/plain": [
       "<Figure size 432x288 with 1 Axes>"
      ]
     },
     "metadata": {
      "needs_background": "light"
     },
     "output_type": "display_data"
    }
   ],
   "source": [
    "''' Roots Landau pdf: ROOT.TMath.Landau(x, mu, c, True), where the first three parameters are as \n",
    "    defined on the exam, and the boolean value determines if the PDF is normalized (True) or not (False)'''\n",
    "\n",
    "# plot the Landau distribution using mu and c from histogram above\n",
    "\n",
    "x_l = np.linspace(0,1000,10000)\n",
    "\n",
    "mu_hist, c_hist = 197.7, 76.51\n",
    "\n",
    "x_land = [ROOT.TMath.Landau(x, mu_hist, c_hist, False) for x in x_l]\n",
    "\n",
    "plt.plot(x_l, x_land, '-k')"
   ]
  },
  {
   "cell_type": "code",
   "execution_count": 8,
   "metadata": {},
   "outputs": [],
   "source": [
    "''' Mepropolis '''\n",
    "\n",
    "def next_state(x_current, x_range, pdfArgs, pdf=ROOT.TMath.Landau):\n",
    "    ''' Function that gets the new state given the current state, the domain, and the PDF of the system '''\n",
    "    \n",
    "    mu, c = pdfArgs # arguments for the Landau distribution as defined by the TMath class\n",
    "    \n",
    "    \n",
    "    # generate a random possible state on the given range\n",
    "    x_prime = uniform(low=x_range[0], high=x_range[1])\n",
    "    \n",
    "    \n",
    "    delta_s = -1*np.log(pdf(x_prime, mu, c, True)/pdf(x_current, mu, c, True))\n",
    "    \n",
    "    if delta_s < 0:\n",
    "        return x_prime\n",
    "\n",
    "    else:\n",
    "\n",
    "        p = pdf(x_prime, mu, c, True)/pdf(x_current, mu, c, True)\n",
    "\n",
    "        accept = 0 if uniform(0,1)>p else 1\n",
    "\n",
    "        return accept*x_prime + (1-accept)*x_current\n",
    "    \n",
    "    \n",
    "def metropolis(x_0, x_range, N, mu, c):\n",
    "    ''' Metropolis implementation. Calculates the N states of a system given the initial state, the domain of \n",
    "        the possible states, the number of states, and mu and c from the Landau distribution'''\n",
    "    \n",
    "    x = [x_0] # list that contains the succesive states of the system\n",
    "                                                 # First state is taken from a uniform distribution on the \n",
    "                                                 # given domain\n",
    "        \n",
    "    for i in range(N-1):\n",
    "        ''' Calculates the next 7999 states of the system by Metropolis algorithm '''\n",
    "        x.append(next_state(x[i], x_range, [mu, c]))\n",
    "        \n",
    "    return x"
   ]
  },
  {
   "cell_type": "code",
   "execution_count": 9,
   "metadata": {},
   "outputs": [],
   "source": [
    "''' Create states from mu and c of the histogram above '''\n",
    "\n",
    "x_range = (100,800) # domain of the states. It is the same as the one taken on the histogram above\n",
    "\n",
    "x_0 = uniform(low=x_range[0], high=[x_range[1]])\n",
    "\n",
    "x_hist = metropolis(x_0, x_range, N, mu_hist, c_hist)"
   ]
  },
  {
   "cell_type": "code",
   "execution_count": 10,
   "metadata": {},
   "outputs": [],
   "source": [
    "''' Histogram of the generated data by metropolis algorithm '''\n",
    "\n",
    "metro_hist = ROOT.TH1F(\"metro_hist\", \"metropolis histogram\", ndf, 100, 800)\n",
    "\n",
    "# fill out histogram\n",
    "\n",
    "for entry in x_hist:\n",
    "    metro_hist.Fill(entry)"
   ]
  },
  {
   "cell_type": "code",
   "execution_count": 11,
   "metadata": {},
   "outputs": [
    {
     "data": {
      "image/png": "[encoded data removed]",
      "text/plain": [
       "<IPython.core.display.Image object>"
      ]
     },
     "metadata": {},
     "output_type": "display_data"
    }
   ],
   "source": [
    "''' Histograms of metropolis generated data and given data '''\n",
    "\n",
    "dat_hist.Draw()\n",
    "metro_hist.Draw(\"Same\")\n",
    "metro_hist.SetLineColor(2)\n",
    "\n",
    "leg = ROOT.TLegend(.4,.32,.97,.53)\n",
    "leg.SetBorderSize(0)\n",
    "leg.SetFillColor(0)\n",
    "leg.SetFillStyle(0)\n",
    "leg.SetTextFont(42)\n",
    "leg.SetTextSize(0.035)\n",
    "leg.AddEntry(metro_hist,\"Metropolis generated data\",\"L\")\n",
    "leg.AddEntry(dat_hist,\"Given data\",\"L\")\n",
    "leg.Draw()\n",
    "\n",
    "c_draw.Update()\n",
    "ROOT.gROOT.GetListOfCanvases().Draw()"
   ]
  },
  {
   "cell_type": "markdown",
   "metadata": {},
   "source": [
    "# χ² parameter fitting"
   ]
  },
  {
   "cell_type": "code",
   "execution_count": 12,
   "metadata": {},
   "outputs": [],
   "source": [
    "def chi_squared(dat, metro, ndf):\n",
    "    ''' Chi-squared function as defined on the statement. \n",
    "    \n",
    "        Note: if the data entry is cero, then a divition by\n",
    "        zero would occur, resulting on an inf value. To avoid this, if dat = 0, then only the squared of the\n",
    "        value of the metropolis generated data is considered: if this datum happens to be cero, it is considered\n",
    "        to be a correct predicition, and will not contribute to the value of the chi-squated; if otherwise it is\n",
    "        different from cero, then the value will contribute to the chi-squared.'''\n",
    "    \n",
    "    c_s = [(dat[i] - metro[i])**2 / dat[i] if dat[i] != 0 else metro[i] for i in range(ndf)]\n",
    "    \n",
    "    return np.sum(np.array(c_s))/ndf\n",
    "\n",
    "\n",
    "\n",
    "def bins_from_hist(x):\n",
    "    ''' gets the bins of a histogram generated with x data '''\n",
    "    \n",
    "    temp_hist = ROOT.TH1F(\"temp_hist\", \" temp data histogram\", ndf, 100, 800)\n",
    "\n",
    "    # fill out histogram\n",
    "\n",
    "    for entry in x:\n",
    "        temp_hist.Fill(entry)\n",
    "    \n",
    "    # data entries per bin of histogram (for chi squared)    \n",
    "\n",
    "    return [temp_hist.GetBinContent(i+1) for i in range(ndf)]    "
   ]
  },
  {
   "cell_type": "code",
   "execution_count": 13,
   "metadata": {},
   "outputs": [],
   "source": [
    "''' Determination of the minimum chi squared by sweeping alog mu ans c parameters over an interval '''\n",
    "\n",
    "mu_int = np.linspace(mu_hist-50, mu_hist+50, 100) # mu interval\n",
    "c_int = np.linspace(0.1, c_hist+100, 100) # c interval\n",
    "\n",
    "\n",
    "# range and initial state to generate data of every\n",
    "\n",
    "x_minchi_range = (100,800)\n",
    "x_minchi_0 = uniform(low=x_minchi_range[0], high=[x_minchi_range[1]])\n",
    "\n",
    "\n",
    "# array with the chi squared values over the mu-c space\n",
    "\n",
    "chi_space = np.zeros((100,100))\n",
    "\n",
    "min_chi = np.inf # chi squared minimum value\n",
    "i_min, j_min = 0,0 # position of chi squared min value on chi_space\n",
    "\n",
    "for i in range(100):\n",
    "    for j in range(100):\n",
    "        print(\"Minimum so far at i: {} j: {}. Currently at i: {} j: {}\".format(i_min,j_min,i,j))\n",
    "        \n",
    "        # bin entries of metro generated data              \n",
    "        metro_bin_entries = bins_from_hist(metropolis(x_0, x_range, N, mu_int[i], c_int[j]))\n",
    "    \n",
    "        # chi squared calculation\n",
    "        chi_space[i,j] = chi_squared(dat_bin_entries, metro_bin_entries, ndf)\n",
    "        \n",
    "        print(chi_space[i,j])\n",
    "        \n",
    "        if chi_space[i,j] < min_chi:\n",
    "            i_min, j_min = i, j\n",
    "            min_chi = chi_space[i,j]\n",
    "              \n",
    "        clear_output()\n"
   ]
  },
  {
   "cell_type": "code",
   "execution_count": 30,
   "metadata": {},
   "outputs": [
    {
     "name": "stdout",
     "output_type": "stream",
     "text": [
      "Minimum X^2/ndf at mu = 160.831313131 c = 10.7915151515 with X^2/ndf = 7.32526457761\n"
     ]
    },
    {
     "data": {
      "image/png": "[encoded data removed]",
      "text/plain": [
       "<Figure size 432x288 with 2 Axes>"
      ]
     },
     "metadata": {
      "needs_background": "light"
     },
     "output_type": "display_data"
    }
   ],
   "source": [
    "''' Plot (color map) of the calculated chi squared '''\n",
    "\n",
    "\n",
    "#save the array of calculated chi squareds\n",
    "np.save(\"chi_space.npy\",chi_space)\n",
    "\n",
    "fig, ax = plt.subplots()\n",
    "\n",
    "c = ax.imshow(chi_space, cmap=\"hot\")\n",
    "fig.colorbar(c)\n",
    "\n",
    "ax.set_xticks(np.arange(0,100,10))\n",
    "ax.set_yticks(np.arange(0,100,10))\n",
    "\n",
    "ax.set_xlim(0,90)\n",
    "ax.set_ylim(0,90)\n",
    "\n",
    "mu_ticklables, c_ticklabels = [str(mu_int[0])[:3]],[str(c_int[0])[:3]]\n",
    "\n",
    "count = 1\n",
    "\n",
    "for mu,c in zip(mu_int, c_int):\n",
    "    if count%10==0:\n",
    "        mu_ticklables.append(str(mu)[:3])\n",
    "        c_ticklabels.append(str(c)[:3])\n",
    "    \n",
    "    count += 1\n",
    "ax.set_xticklabels(mu_ticklables)\n",
    "ax.set_yticklabels(c_ticklabels)\n",
    "\n",
    "ax.plot(i_min,j_min,'xw')\n",
    "\n",
    "ax.set_xlabel(r\"$\\mu$\",fontsize=16)\n",
    "ax.set_ylabel(r\"$c$\",fontsize=16)\n",
    "\n",
    "ax.text(i_min+1.5,j_min-1,r\"$ \\rightarrow \\; Minimum \\; \\; \\chi^{2}$\",color=\"white\",fontsize=12)\n",
    "\n",
    "fig.savefig(\"Chi_squared_plot.png\", format=\"png\")#,bbox_inches=\"Tight\")\n",
    "\n",
    "print(\"Minimum X^2/ndf at mu = {} c = {} with X^2/ndf = {}\".format(mu_int[i_min], c_int[j_min], min_chi))"
   ]
  },
  {
   "cell_type": "code",
   "execution_count": 43,
   "metadata": {},
   "outputs": [
    {
     "name": "stdout",
     "output_type": "stream",
     "text": [
      "Mu and c for minimum chi squared: 160.831313131 10.7915151515\n"
     ]
    }
   ],
   "source": [
    "''' Create states from mu and c of minimum chi squared '''\n",
    "\n",
    "x_range_chmin = (100,800)\n",
    "\n",
    "mu_min = mu_int[i_min]\n",
    "c_min = c_int[j_min]\n",
    "\n",
    "print(\"Mu and c for minimum chi squared: {} {}\".format(mu_min, c_min))\n",
    "\n",
    "x_0_chmin = uniform(low=x_range_chmin[0], high=[x_range_chmin[1]])\n",
    "\n",
    "x_chmin = metropolis(x_0_chmin, x_range_chmin, N, mu_min, c_min)"
   ]
  },
  {
   "cell_type": "code",
   "execution_count": 45,
   "metadata": {},
   "outputs": [
    {
     "name": "stderr",
     "output_type": "stream",
     "text": [
      "Warning in <TROOT::Append>: Replacing existing TH1: metro_hist_min (Potential memory leak).\n"
     ]
    }
   ],
   "source": [
    "''' Histogram of the generated data by metropolis algorithm '''\n",
    "\n",
    "metro_hist_min = ROOT.TH1F(\"metro_hist_min\", \"metropolis ans real data histograms\", ndf, 100, 800)\n",
    "\n",
    "# fill out histogram\n",
    "\n",
    "for entry in x_chmin:\n",
    "    metro_hist_min.Fill(entry)"
   ]
  },
  {
   "cell_type": "code",
   "execution_count": 46,
   "metadata": {},
   "outputs": [
    {
     "name": "stderr",
     "output_type": "stream",
     "text": [
      "Info in <TCanvas::Print>: png file optimal_chi_hist.png has been created\n"
     ]
    },
    {
     "data": {
      "image/png": "[encoded data removed]",
      "text/plain": [
       "<IPython.core.display.Image object>"
      ]
     },
     "metadata": {},
     "output_type": "display_data"
    }
   ],
   "source": [
    "# draw histogram\n",
    "\n",
    "metro_hist_min.Draw()\n",
    "metro_hist_min.SetLineColor(2)\n",
    "dat_hist.Draw(\"Same\")\n",
    "\n",
    "leg2 = ROOT.TLegend(.4,.32,.97,.53)\n",
    "leg2.SetBorderSize(0)\n",
    "leg2.SetFillColor(0)\n",
    "leg2.SetFillStyle(0)\n",
    "leg2.SetTextFont(42)\n",
    "leg2.SetTextSize(0.035)\n",
    "leg2.AddEntry(metro_hist_min,\"Metropolis generated data\",\"L\")\n",
    "leg2.AddEntry(dat_hist,\"Given data\",\"L\")\n",
    "leg2.Draw()\n",
    "\n",
    "c_draw.Update()\n",
    "ROOT.gROOT.GetListOfCanvases().Draw()\n",
    "\n",
    "c_draw.SaveAs(\"optimal_chi_hist.png\")"
   ]
  },
  {
   "cell_type": "code",
   "execution_count": null,
   "metadata": {},
   "outputs": [],
   "source": []
  }
 ],
 "metadata": {
  "kernelspec": {
   "display_name": "Python 2",
   "language": "python",
   "name": "python2"
  },
  "language_info": {
   "codemirror_mode": {
    "name": "ipython",
    "version": 2
   },
   "file_extension": ".py",
   "mimetype": "text/x-python",
   "name": "python",
   "nbconvert_exporter": "python",
   "pygments_lexer": "ipython2",
   "version": "2.7.15+"
  }
 },
 "nbformat": 4,
 "nbformat_minor": 2
}
