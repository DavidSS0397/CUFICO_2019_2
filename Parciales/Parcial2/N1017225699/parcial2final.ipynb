{
  "nbformat": 4,
  "nbformat_minor": 0,
  "metadata": {
    "colab": {
      "name": "Copia de Copia de Chi2Fitting.ipynb",
      "provenance": [],
      "collapsed_sections": []
    },
    "kernelspec": {
      "name": "python3",
      "display_name": "Python 3"
    }
  },
  "cells": [
    {
      "cell_type": "markdown",
      "metadata": {
        "id": "l2Kx9iqQ4ToX",
        "colab_type": "text"
      },
      "source": [
        "# With this notebook we will:\n",
        "## 1. Install packages needed for root\n",
        "## 2. Download a binary root that compiled in google drive \"colaboratory\" environement\n",
        "## 3. Modify the PATH in order to tell python where to look for pyROOT\n",
        "## 4. Finally, test ROOT installation with a simple example\n",
        "\n",
        "##### Author: Jose Ruiz\n",
        "##### Maintainer: Jose Ruiz\n",
        "##### Developed at: Universidad de Antioquia\n"
      ]
    },
    {
      "cell_type": "markdown",
      "metadata": {
        "id": "C1gPEaTg6fLl",
        "colab_type": "text"
      },
      "source": [
        "### 1. Install packages needed for root"
      ]
    },
    {
      "cell_type": "code",
      "metadata": {
        "id": "gYEA4UKNplb6",
        "colab_type": "code",
        "colab": {
          "base_uri": "https://localhost:8080/",
          "height": 306
        },
        "outputId": "8ea19ccd-768b-42f2-f7ef-52855d394a4d"
      },
      "source": [
        "!apt-get install git dpkg-dev cmake g++ gcc binutils libx11-dev libxpm-dev libxft-dev libxext-dev tar gfortran subversion"
      ],
      "execution_count": 1,
      "outputs": [
        {
          "output_type": "stream",
          "text": [
            "Reading package lists... Done\n",
            "Building dependency tree       \n",
            "Reading state information... Done\n",
            "libxext-dev is already the newest version (2:1.3.3-1).\n",
            "libxft-dev is already the newest version (2.3.2-1).\n",
            "libxpm-dev is already the newest version (1:3.5.12-1).\n",
            "subversion is already the newest version (1.9.7-4ubuntu1).\n",
            "binutils is already the newest version (2.30-21ubuntu1~18.04.2).\n",
            "cmake is already the newest version (3.10.2-1ubuntu2.18.04.1).\n",
            "dpkg-dev is already the newest version (1.19.0.5ubuntu2.3).\n",
            "g++ is already the newest version (4:7.4.0-1ubuntu2.3).\n",
            "gcc is already the newest version (4:7.4.0-1ubuntu2.3).\n",
            "gfortran is already the newest version (4:7.4.0-1ubuntu2.3).\n",
            "git is already the newest version (1:2.17.1-1ubuntu0.4).\n",
            "libx11-dev is already the newest version (2:1.6.4-3ubuntu0.2).\n",
            "tar is already the newest version (1.29b-2ubuntu0.1).\n",
            "0 upgraded, 0 newly installed, 0 to remove and 33 not upgraded.\n"
          ],
          "name": "stdout"
        }
      ]
    },
    {
      "cell_type": "markdown",
      "metadata": {
        "id": "3i5bTy4x601V",
        "colab_type": "text"
      },
      "source": [
        "### 2. Mount the drive to get the root binary and untar it "
      ]
    },
    {
      "cell_type": "code",
      "metadata": {
        "id": "gMhjqJ9noRcX",
        "colab_type": "code",
        "outputId": "bfe8b2ff-3a2d-41a1-bd91-938738b57272",
        "colab": {
          "base_uri": "https://localhost:8080/",
          "height": 34
        }
      },
      "source": [
        "# Load the Drive helper and mount\n",
        "from google.colab import drive\n",
        "\n",
        "# This will prompt for authorization.\n",
        "drive.mount('/content/drive', force_remount=True)"
      ],
      "execution_count": 2,
      "outputs": [
        {
          "output_type": "stream",
          "text": [
            "Mounted at /content/drive\n"
          ],
          "name": "stdout"
        }
      ]
    },
    {
      "cell_type": "code",
      "metadata": {
        "id": "dt2PEUjQo0RY",
        "colab_type": "code",
        "outputId": "135bed81-5317-4a86-9d24-dc0376f7482c",
        "colab": {
          "base_uri": "https://localhost:8080/",
          "height": 170
        }
      },
      "source": [
        "# After executing the cell above, Drive\n",
        "# files will be present in \"/content/drive/My Drive\".\n",
        "!ls \"/content/drive/Shared drives/PyROOT_in_Google/\""
      ],
      "execution_count": 3,
      "outputs": [
        {
          "output_type": "stream",
          "text": [
            "BasicAnalysis.ipynb\t  HistogrammingInROOT.ipynb\n",
            "BasicPyROOTExample.ipynb  monje-a-lo-bonzo-blanco-y-negro.png\n",
            "Chi2Fitting.ipynb\t  piano-C5.wav\n",
            "Data5.root\t\t  Random2DHistos\n",
            "DatosParcial2\t\t  root_build_google_yikes.tar\n",
            "DatosResonancia.root\t  Temporal\n",
            "FFT_imagen.ipynb\t  TrimmedTree.root\n",
            "FFT.ipynb\t\t  TTreeExcercise.ipynb\n",
            "FLUTEMI.WAV\n"
          ],
          "name": "stdout"
        }
      ]
    },
    {
      "cell_type": "code",
      "metadata": {
        "id": "tRQGlQ4Hqau9",
        "colab_type": "code",
        "colab": {
          "base_uri": "https://localhost:8080/",
          "height": 34
        },
        "outputId": "4f9c8681-6cf9-4ddd-ba85-933d7138f7f4"
      },
      "source": [
        "!tar -xf /content/drive/Shared\\ drives/PyROOT_in_Google/root_build_google_yikes.tar"
      ],
      "execution_count": 4,
      "outputs": [
        {
          "output_type": "stream",
          "text": [
            "^C\n"
          ],
          "name": "stdout"
        }
      ]
    },
    {
      "cell_type": "code",
      "metadata": {
        "id": "DfLQ4DrprjLU",
        "colab_type": "code",
        "outputId": "2f771ba4-cd39-4ab2-e37c-ad7bcf5d1060",
        "colab": {
          "base_uri": "https://localhost:8080/",
          "height": 85
        }
      },
      "source": [
        "!ls -ltrh"
      ],
      "execution_count": 5,
      "outputs": [
        {
          "output_type": "stream",
          "text": [
            "total 12K\n",
            "drwxr-xr-x 44 root root 4.0K Sep 20  2018 root_build\n",
            "drwxr-xr-x  1 root root 4.0K Nov  6 16:17 sample_data\n",
            "drwx------  4 root root 4.0K Nov 18 02:26 drive\n"
          ],
          "name": "stdout"
        }
      ]
    },
    {
      "cell_type": "markdown",
      "metadata": {
        "id": "1nHFk9y68VVP",
        "colab_type": "text"
      },
      "source": [
        "\n",
        "### 3. Modify the PATH in order to tell python where to look for pyROOT\n"
      ]
    },
    {
      "cell_type": "code",
      "metadata": {
        "id": "N3ndoY6iu6_J",
        "colab_type": "code",
        "colab": {}
      },
      "source": [
        "import sys\n",
        "sys.path.append(\"/content/root_build/\")\n",
        "sys.path.append(\"/content/root_build/bin/\")\n",
        "sys.path.append(\"/content/root_build/include/\")\n",
        "sys.path.append(\"/content/root_build/lib/\")"
      ],
      "execution_count": 0,
      "outputs": []
    },
    {
      "cell_type": "code",
      "metadata": {
        "id": "lTFxGdo6v-vn",
        "colab_type": "code",
        "colab": {
          "base_uri": "https://localhost:8080/",
          "height": 34
        },
        "outputId": "40a4f6e5-fc1f-4ae4-a624-81968a895004"
      },
      "source": [
        "\n",
        "import math\n",
        "import ROOT\n",
        "from ROOT import gROOT "
      ],
      "execution_count": 2,
      "outputs": [
        {
          "output_type": "stream",
          "text": [
            "Welcome to JupyROOT 6.14/04\n"
          ],
          "name": "stdout"
        }
      ]
    },
    {
      "cell_type": "code",
      "metadata": {
        "id": "HSUmSAsyuitL",
        "colab_type": "code",
        "outputId": "1c12fc27-62e5-46f2-856b-fa13e9984eea",
        "colab": {
          "base_uri": "https://localhost:8080/",
          "height": 34
        }
      },
      "source": [
        "DataChain=ROOT.TChain(\"SystemTree\")\n",
        "DataChain.Add(\"/content/drive/Shared drives/PyROOT_in_Google/DatosParcial2/N1017225699.root\")"
      ],
      "execution_count": 3,
      "outputs": [
        {
          "output_type": "execute_result",
          "data": {
            "text/plain": [
              "1"
            ]
          },
          "metadata": {
            "tags": []
          },
          "execution_count": 3
        }
      ]
    },
    {
      "cell_type": "code",
      "metadata": {
        "id": "en-O1RDWutyi",
        "colab_type": "code",
        "outputId": "79f44d69-e917-4d2d-e804-a641d3b2b916",
        "colab": {
          "base_uri": "https://localhost:8080/",
          "height": 34
        }
      },
      "source": [
        "NumberOfEventsToCheck=DataChain.GetEntries()\n",
        "print(\"el archivo tiene\",NumberOfEventsToCheck, \" eventos\")"
      ],
      "execution_count": 4,
      "outputs": [
        {
          "output_type": "stream",
          "text": [
            "el archivo tiene 80000  eventos\n"
          ],
          "name": "stdout"
        }
      ]
    },
    {
      "cell_type": "code",
      "metadata": {
        "id": "7zxsJWbau4T-",
        "colab_type": "code",
        "outputId": "1c0b9111-ba1a-4629-da62-f5aa5ecf37f4",
        "colab": {
          "base_uri": "https://localhost:8080/",
          "height": 889
        }
      },
      "source": [
        "HX = ROOT.TH1F( 'HX', 'Valor de x', 300, 0, 1000 ) #Hsitograma de Root que mostrará la frecuencia de los datos\n",
        "X=[]\n",
        "\n",
        "for entry in DataChain:\n",
        "  xval=entry.x\n",
        "  if xval<=1000:\n",
        "    X.append(xval)\n",
        "    HX.Fill(xval)\n",
        "\n",
        "c1 = ROOT.TCanvas( 'c1', 'The FillRandom example', 200, 10, 700, 900 )\n",
        "c1.SetFillColor( 0 )\n",
        "HX.Draw()\n",
        "c1.Update()\n",
        "ROOT.gROOT.GetListOfCanvases().Draw() "
      ],
      "execution_count": 5,
      "outputs": [
        {
          "output_type": "display_data",
          "data": {
            "image/png": "[encoded data removed]",
            "text/plain": [
              "<IPython.core.display.Image object>"
            ]
          },
          "metadata": {
            "tags": []
          }
        }
      ]
    },
    {
      "cell_type": "code",
      "metadata": {
        "id": "lxDLZiswrCZA",
        "colab_type": "code",
        "outputId": "b92ca439-4c57-418f-e54b-541263dd279b",
        "colab": {
          "base_uri": "https://localhost:8080/",
          "height": 34
        }
      },
      "source": [
        "print(\"el numero de bins es:\", HX.GetNbinsX())\n",
        "HT=[]\n",
        "\n",
        "for i in range(1,HX.GetNbinsX()+1):\n",
        "  #print(i)\n",
        "  #print( HX.GetBinContent(i))\n",
        "  HT.append(HX.GetBinContent(i))\n",
        "\n",
        "#print(HT)\n",
        "#len(HT)\n"
      ],
      "execution_count": 6,
      "outputs": [
        {
          "output_type": "stream",
          "text": [
            "el numero de bins es: 300\n"
          ],
          "name": "stdout"
        }
      ]
    },
    {
      "cell_type": "code",
      "metadata": {
        "id": "5GZjB0YH0_Mg",
        "colab_type": "code",
        "colab": {}
      },
      "source": [
        ""
      ],
      "execution_count": 0,
      "outputs": []
    },
    {
      "cell_type": "code",
      "metadata": {
        "id": "9PqnU7x_VWIY",
        "colab_type": "code",
        "outputId": "cae92ed3-ad8e-4d45-c812-4661e6178dff",
        "colab": {
          "base_uri": "https://localhost:8080/",
          "height": 136
        }
      },
      "source": [
        "HX.Fit(\"landau\",'S')"
      ],
      "execution_count": 7,
      "outputs": [
        {
          "output_type": "execute_result",
          "data": {
            "text/plain": [
              "<ROOT.TFitResultPtr object at 0x9ca4280>"
            ]
          },
          "metadata": {
            "tags": []
          },
          "execution_count": 7
        },
        {
          "output_type": "stream",
          "text": [
            " FCN=293.835 FROM MIGRAD    STATUS=CONVERGED     286 CALLS         287 TOTAL\n",
            "                     EDM=6.81158e-09    STRATEGY= 1      ERROR MATRIX ACCURATE \n",
            "  EXT PARAMETER                                   STEP         FIRST   \n",
            "  NO.   NAME      VALUE            ERROR          SIZE      DERIVATIVE \n",
            "   1  Constant     2.66054e+04   1.42233e+02   7.94659e-01  -5.41861e-07\n",
            "   2  MPV          1.19883e+02   7.73390e-02   5.15792e-04   1.42630e-03\n",
            "   3  Sigma        9.98872e+00   4.03200e-02   2.09753e-06  -4.31497e-01\n"
          ],
          "name": "stdout"
        }
      ]
    },
    {
      "cell_type": "code",
      "metadata": {
        "id": "ZoCXaU_nZhI3",
        "colab_type": "code",
        "colab": {}
      },
      "source": [
        "#This creates a function of variable x with 2 parameters. \n",
        "'''\n",
        "\n",
        "Double_t TMath::Landau\t(\tDouble_t \tx,\n",
        "Double_t \tmu = 0,\n",
        "Double_t \tsigma = 1,\n",
        "Bool_t \tnorm = kFALSE \n",
        ")\t\n",
        "'''\n",
        "\n",
        "# Definicion de la distribucion de Landau utilizando las funciones predefinidas en Root\n",
        "LD = ROOT.TF1('LD',\"TMath::Landau(x,[0],[1])\",0,1000)\n",
        "\n",
        "# inicializacion de los parametro\n",
        "LD.SetParameters(120,10)\n",
        "\n",
        "#LD.Draw('same L')\n",
        "#c1.Update()\n",
        "#from ROOT import gROOT \n",
        "#gROOT.GetListOfCanvases().Draw()"
      ],
      "execution_count": 0,
      "outputs": []
    },
    {
      "cell_type": "code",
      "metadata": {
        "id": "vjAXfvIGaE3W",
        "colab_type": "code",
        "colab": {}
      },
      "source": [
        "#TH1F(\"hfix\",\"hfix title\",nbins,xlow,xup)\n",
        "\n",
        "HisPru = ROOT.TH1F( 'HisPru', 'Histograma de prueba', 300, 0, 1000 ) # histograma para visualzar la distribución de landau LD\n",
        "HisPru.FillRandom(\"LD\",79000) # se genera un Histograma con la funcion FillRandom de root la cual sigue una distribucion de Landau \n"
      ],
      "execution_count": 0,
      "outputs": []
    },
    {
      "cell_type": "code",
      "metadata": {
        "id": "TFR5T97ScgnG",
        "colab_type": "code",
        "outputId": "655a1807-4275-451b-a326-876d8f6ff178",
        "colab": {
          "base_uri": "https://localhost:8080/",
          "height": 889
        }
      },
      "source": [
        "HisPru.Draw('same AC')\n",
        "c1.Update()\n",
        "from ROOT import gROOT \n",
        "gROOT.GetListOfCanvases().Draw()\n",
        "c1.Update()"
      ],
      "execution_count": 10,
      "outputs": [
        {
          "output_type": "display_data",
          "data": {
            "image/png": "[encoded data removed]",
            "text/plain": [
              "<IPython.core.display.Image object>"
            ]
          },
          "metadata": {
            "tags": []
          }
        }
      ]
    },
    {
      "cell_type": "markdown",
      "metadata": {
        "id": "dfX4KW9tLlya",
        "colab_type": "text"
      },
      "source": [
        "# Bloque de codigo que generará una distribucion con el Algoritmo Metropolis"
      ]
    },
    {
      "cell_type": "code",
      "metadata": {
        "id": "iNPr98ol7bJo",
        "colab_type": "code",
        "outputId": "e2a751b9-bd64-4898-ac48-65a4ea964076",
        "colab": {
          "base_uri": "https://localhost:8080/",
          "height": 265
        }
      },
      "source": [
        "import numpy as np \n",
        "from random import random\n",
        "from numpy.random import normal\n",
        "import matplotlib.pyplot as plt\n",
        "\n",
        "# funcion de distribucion de Landau que recibe como parametros mu y c \n",
        "def P(x,mu,c):\n",
        "  #TF1 f1(\"f1\",\",0,1); f1.SetParameters(1,0,0.3);\n",
        "  LD = ROOT.TF1('LD',\"TMath::Landau(x,[0],[1])\",0,1000)\n",
        "\n",
        "  #The parameters must be initialized via\n",
        "  LD.SetParameters(mu,c)\n",
        "\n",
        "  return LD(x)\n",
        "\n",
        "#NLD(100,100,50)\n",
        "\n",
        "\n",
        "\n",
        "#comprobamos que la aterior funcion si retorna la distribucion deseada\n",
        "XP=np.linspace(-100,1000,500)\n",
        "PX=[]\n",
        "for i in XP:\n",
        "  PX.append(P(i,100,50))\n",
        "plt.plot(XP,PX)\n",
        "plt.show()\n",
        "\n"
      ],
      "execution_count": 11,
      "outputs": [
        {
          "output_type": "display_data",
          "data": {
            "image/png": "[encoded data removed]",
            "text/plain": [
              "<Figure size 432x288 with 1 Axes>"
            ]
          },
          "metadata": {
            "tags": []
          }
        }
      ]
    },
    {
      "cell_type": "code",
      "metadata": {
        "id": "cP2sDUF7MPPy",
        "colab_type": "code",
        "colab": {}
      },
      "source": [
        "## LA FUNCION METROHIS RECIBE LOS PARAMETROS mu Y c Y DEVUELVE UNA SECUENCIA DE DATOS QUE SIGUE UNA DISTRIBUCION DE lANDAU CON ESTOS PARAMETROS\n",
        "\n",
        "\n",
        "def MetroHis(mu,c):\n",
        "  b=1000.0\n",
        "  a=0.0\n",
        "\n",
        "  def DeltaS(P,phi_p,phi_0):\n",
        "      DS=-np.log(P(phip,mu,c)/P(phi0,mu,c))\n",
        "      return DS\n",
        "\n",
        "\n",
        "  S=[]\n",
        "  #phi0=(b-a)*random()+a\n",
        "  phi0=mu\n",
        "  while len(S)<79000:\n",
        "      #phip=(b-a)*random()+a\n",
        "      phip=phi0 +normal(0,c)      \n",
        "      if phip>0 and phip<1000:\n",
        "        if DeltaS(P,phip,phi0)<0:\n",
        "            #print (phip)\n",
        "            phi0=phip\n",
        "            S.append(phi0)\n",
        "\n",
        "        else:\n",
        "            x=random()\n",
        "            #print(x)\n",
        "            p=(P(phip,mu,c))/(P(phi0,mu,c))\n",
        "            if x <= p:\n",
        "                phi0=phip\n",
        "                S.append(phi0)\n",
        "            else:\n",
        "                pass\n",
        "      \n",
        "\n",
        "\n",
        "  #print(len(S))\n",
        "  S=np.array(S)\n",
        "  return S\n"
      ],
      "execution_count": 0,
      "outputs": []
    },
    {
      "cell_type": "code",
      "metadata": {
        "id": "zOq2AhhAwl-U",
        "colab_type": "code",
        "colab": {}
      },
      "source": [
        "FullChi2 = np.zeros((5,4)) # Sum (Data-Model)**2/Data\n",
        "MU=[119.,120.,121.,122.,122.5]\n",
        "C=[9.,9.5,10,10.5]\n",
        "#FullChi2.append(1)\n",
        "HT=np.array(HT)\n"
      ],
      "execution_count": 0,
      "outputs": []
    },
    {
      "cell_type": "code",
      "metadata": {
        "id": "WLNCCb0RqtQb",
        "colab_type": "code",
        "outputId": "fdaba909-f3e3-47aa-a9a4-1a693f16c8bf",
        "colab": {
          "base_uri": "https://localhost:8080/",
          "height": 102
        }
      },
      "source": [
        "for i in range(len(MU)):\n",
        "  \n",
        "  for j in range(len(C)):\n",
        "    \n",
        "    HP=np.histogram(MetroHis(MU[i],C[j]),300)\n",
        "    a=np.power((HT-HP[0]),2)\n",
        "    b = np.divide(a, HT, out=np.zeros_like(a), where=HT!=0)\n",
        "    FullChi2[i][j]=np.sum(b)\n",
        "print(FullChi2)"
      ],
      "execution_count": 31,
      "outputs": [
        {
          "output_type": "stream",
          "text": [
            "[[492805.18754139 460560.51724519 478392.75950772 251158.09644765]\n",
            " [508748.89703131 166333.65945034 360543.79600397 406514.64241539]\n",
            " [399803.16946204 311179.18115138 366295.84568649 543139.89856633]\n",
            " [492741.77049496 405321.68830509 184440.71573734 206602.25543271]\n",
            " [459309.87861425 579931.38186944 497492.9617249  455889.64274222]]\n"
          ],
          "name": "stdout"
        }
      ]
    },
    {
      "cell_type": "code",
      "metadata": {
        "id": "BX8z91ARFVz4",
        "colab_type": "code",
        "outputId": "97d30beb-aba8-40f5-a64c-e9900ffe7a18",
        "colab": {
          "base_uri": "https://localhost:8080/",
          "height": 85
        }
      },
      "source": [
        "print(np.amin(FullChi2))\n",
        "print(np.argmin(FullChi2))\n",
        "print(MU)\n",
        "print(C)"
      ],
      "execution_count": 32,
      "outputs": [
        {
          "output_type": "stream",
          "text": [
            "166333.6594503366\n",
            "5\n",
            "[119.0, 120.0, 121.0, 122.0, 122.5]\n",
            "[9.0, 9.5, 10, 10.5]\n"
          ],
          "name": "stdout"
        }
      ]
    },
    {
      "cell_type": "code",
      "metadata": {
        "id": "WmHOzxlE0VOz",
        "colab_type": "code",
        "colab": {}
      },
      "source": [
        "plt.hist(MetroHis(120,9.5),300,label=\"Ajuste\")\n",
        "plt.hist(X,300,histtype ='step',label=\"Teorico\")\n",
        "plt.title(\"Histograma teorico y ajuste\")\n",
        "plt.xlabel('X')\n",
        "plt.xlim(50,400)\n",
        "plt.legend()\n",
        "plt.grid()\n",
        "plt.show()"
      ],
      "execution_count": 0,
      "outputs": []
    },
    {
      "cell_type": "code",
      "metadata": {
        "id": "sBjBFmKm7YLm",
        "colab_type": "code",
        "outputId": "00aecee9-f362-42e7-abe4-73db9d0b69f2",
        "colab": {
          "base_uri": "https://localhost:8080/",
          "height": 295
        }
      },
      "source": [
        "plt.figure()\n",
        "for i in range(len(C)):\n",
        "  plt.plot(MU,FullChi2[:,i]/300.0,label=\"c= %.2f\" %(C[i]))\n",
        "  plt.legend()\n",
        "  plt.xlabel('MU')\n",
        "  plt.ylabel('Chi2/ndf')\n",
        "  plt.grid(True)\n",
        "  plt.title(\"Chi2/ndf vs. MU\")\n",
        "plt.show()"
      ],
      "execution_count": 33,
      "outputs": [
        {
          "output_type": "display_data",
          "data": {
            "image/png": "[encoded data removed]",
            "text/plain": [
              "<Figure size 432x288 with 1 Axes>"
            ]
          },
          "metadata": {
            "tags": []
          }
        }
      ]
    },
    {
      "cell_type": "code",
      "metadata": {
        "id": "8okedYJFA5_g",
        "colab_type": "code",
        "outputId": "f52ab813-5f93-4619-b2b5-66583e35e2ec",
        "colab": {
          "base_uri": "https://localhost:8080/",
          "height": 295
        }
      },
      "source": [
        "plt.figure()\n",
        "for i in range(len(MU)):\n",
        "  plt.plot(C,FullChi2[i,:]/300.0,label=\"mu= %.2f\" %(MU[i]))\n",
        "  plt.legend()\n",
        "  plt.xlabel('C')\n",
        "  plt.ylabel('Chi2/ndf')\n",
        "  plt.grid(True)\n",
        "  plt.title(\"Chi2/ndf vs. C\")\n",
        "plt.show()"
      ],
      "execution_count": 34,
      "outputs": [
        {
          "output_type": "display_data",
          "data": {
            "image/png": "[encoded data removed]",
            "text/plain": [
              "<Figure size 432x288 with 1 Axes>"
            ]
          },
          "metadata": {
            "tags": []
          }
        }
      ]
    },
    {
      "cell_type": "code",
      "metadata": {
        "id": "SeABz14YvKN8",
        "colab_type": "code",
        "outputId": "6bef1f0a-398b-4cb9-c4d0-97b6e1520f19",
        "colab": {
          "base_uri": "https://localhost:8080/",
          "height": 187
        }
      },
      "source": [
        "'''F2=np.array([[431095.74523692, 466796.26329028, 435824.70572559,\n",
        "        548571.77190686],\n",
        "       [427672.22474051, 530993.19328672, 525475.55142104,\n",
        "        601263.94219101],\n",
        "       [322296.72950466, 409608.59361188, 610821.6657626 ,\n",
        "        591590.37925199],\n",
        "       [427577.64803895, 513049.04198829, 406669.73583795,\n",
        "        621813.07143025],\n",
        "       [347108.23946294, 496876.12603521, 488541.10286275,\n",
        "        579391.52496324]])'''\n",
        "F2"
      ],
      "execution_count": 37,
      "outputs": [
        {
          "output_type": "execute_result",
          "data": {
            "text/plain": [
              "array([[431095.74523692, 466796.26329028, 435824.70572559,\n",
              "        548571.77190686],\n",
              "       [427672.22474051, 530993.19328672, 525475.55142104,\n",
              "        601263.94219101],\n",
              "       [322296.72950466, 409608.59361188, 610821.6657626 ,\n",
              "        591590.37925199],\n",
              "       [427577.64803895, 513049.04198829, 406669.73583795,\n",
              "        621813.07143025],\n",
              "       [347108.23946294, 496876.12603521, 488541.10286275,\n",
              "        579391.52496324]])"
            ]
          },
          "metadata": {
            "tags": []
          },
          "execution_count": 37
        }
      ]
    },
    {
      "cell_type": "code",
      "metadata": {
        "id": "UvxI2Pi_an0C",
        "colab_type": "code",
        "colab": {
          "base_uri": "https://localhost:8080/",
          "height": 34
        },
        "outputId": "65304f04-d083-45ec-b943-379e9e5bd201"
      },
      "source": [
        "'''F3=[[391933.95579426 381265.94419289 578069.61250979 570135.70015488]\n",
        " [433232.5217461  532760.88033111 527992.70437843 489302.33518404]\n",
        " [392503.23022278 480690.07043735 598925.5055873  505709.90715376]\n",
        " [432922.70234787 575605.09314471 531378.31522562 465789.05486645]\n",
        " [514921.29706781 485241.40530641 551663.00642901 528952.46811645]]'''"
      ],
      "execution_count": 44,
      "outputs": [
        {
          "output_type": "execute_result",
          "data": {
            "text/plain": [
              "4"
            ]
          },
          "metadata": {
            "tags": []
          },
          "execution_count": 44
        }
      ]
    },
    {
      "cell_type": "code",
      "metadata": {
        "id": "DScm7uDedwfM",
        "colab_type": "code",
        "colab": {}
      },
      "source": [
        "'''F4=[[465097.4648964  368719.66925022 459317.42274669 430830.41942655]\n",
        " [158936.75851868 176395.05361315 522858.96267547 461620.18897236]\n",
        " [239372.0577425  484506.28529235 265664.21322034 386493.33309159]\n",
        " [484829.99268883 515373.55769152 498846.97324127 417177.45474185]\n",
        " [449307.47701442 161485.91750375 329399.07425254 206965.99064645]]'''"
      ],
      "execution_count": 0,
      "outputs": []
    }
  ]
}