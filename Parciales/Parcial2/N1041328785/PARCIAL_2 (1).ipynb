{
  "nbformat": 4,
  "nbformat_minor": 0,
  "metadata": {
    "colab": {
      "name": "PARCIAL#2.ipynb",
      "provenance": [],
      "collapsed_sections": [],
      "toc_visible": true
    },
    "kernelspec": {
      "name": "python3",
      "display_name": "Python 3"
    }
  },
  "cells": [
    {
      "cell_type": "markdown",
      "metadata": {
        "id": "l2Kx9iqQ4ToX",
        "colab_type": "text"
      },
      "source": [
        "# With this notebook we will:\n",
        "## 1. Install packages needed for root\n",
        "## 2. Download a binary root that compiled in google drive \"colaboratory\" environement\n",
        "## 3. Modify the PATH in order to tell python where to look for pyROOT\n",
        "## 4. Finally, a basic analysis example with pyROOT\n",
        "\n",
        "##### Author: Jose Ruiz\n",
        "##### Maintainer: Jose Ruiz\n",
        "##### Developed at: Universidad de Antioquia\n"
      ]
    },
    {
      "cell_type": "markdown",
      "metadata": {
        "id": "C1gPEaTg6fLl",
        "colab_type": "text"
      },
      "source": [
        "### 1. Install packages needed for root"
      ]
    },
    {
      "cell_type": "code",
      "metadata": {
        "id": "gYEA4UKNplb6",
        "colab_type": "code",
        "outputId": "e9a30741-f83b-4744-c8a9-bae39715391f",
        "colab": {
          "base_uri": "https://localhost:8080/",
          "height": 290
        }
      },
      "source": [
        "!apt-get install git dpkg-dev cmake g++ gcc binutils libx11-dev libxpm-dev libxft-dev libxext-dev tar gfortran subversion"
      ],
      "execution_count": 1,
      "outputs": [
        {
          "output_type": "stream",
          "text": [
            "Reading package lists... Done\n",
            "Building dependency tree       \n",
            "Reading state information... Done\n",
            "libxext-dev is already the newest version (2:1.3.3-1).\n",
            "libxft-dev is already the newest version (2.3.2-1).\n",
            "libxpm-dev is already the newest version (1:3.5.12-1).\n",
            "subversion is already the newest version (1.9.7-4ubuntu1).\n",
            "binutils is already the newest version (2.30-21ubuntu1~18.04.2).\n",
            "cmake is already the newest version (3.10.2-1ubuntu2.18.04.1).\n",
            "dpkg-dev is already the newest version (1.19.0.5ubuntu2.3).\n",
            "g++ is already the newest version (4:7.4.0-1ubuntu2.3).\n",
            "gcc is already the newest version (4:7.4.0-1ubuntu2.3).\n",
            "gfortran is already the newest version (4:7.4.0-1ubuntu2.3).\n",
            "git is already the newest version (1:2.17.1-1ubuntu0.4).\n",
            "libx11-dev is already the newest version (2:1.6.4-3ubuntu0.2).\n",
            "tar is already the newest version (1.29b-2ubuntu0.1).\n",
            "0 upgraded, 0 newly installed, 0 to remove and 33 not upgraded.\n"
          ],
          "name": "stdout"
        }
      ]
    },
    {
      "cell_type": "markdown",
      "metadata": {
        "id": "3i5bTy4x601V",
        "colab_type": "text"
      },
      "source": [
        "### 2. Mount the drive to get the root binary and untar it "
      ]
    },
    {
      "cell_type": "code",
      "metadata": {
        "id": "gMhjqJ9noRcX",
        "colab_type": "code",
        "outputId": "5a3b1a89-e35f-44ac-e666-4d8cd5926fe8",
        "colab": {
          "base_uri": "https://localhost:8080/",
          "height": 34
        }
      },
      "source": [
        "# Load the Drive helper and mount\n",
        "from google.colab import drive\n",
        "\n",
        "# This will prompt for authorization.\n",
        "drive.mount('/content/drive', force_remount=True)"
      ],
      "execution_count": 2,
      "outputs": [
        {
          "output_type": "stream",
          "text": [
            "Mounted at /content/drive\n"
          ],
          "name": "stdout"
        }
      ]
    },
    {
      "cell_type": "code",
      "metadata": {
        "id": "dt2PEUjQo0RY",
        "colab_type": "code",
        "outputId": "342d12e9-cb07-4b43-8f25-003768924322",
        "colab": {
          "base_uri": "https://localhost:8080/",
          "height": 162
        }
      },
      "source": [
        "# After executing the cell above, Drive\n",
        "# files will be present in \"/content/drive/My Drive\".\n",
        "!ls \"/content/drive/Shared drives/PyROOT_in_Google/\"\n"
      ],
      "execution_count": 3,
      "outputs": [
        {
          "output_type": "stream",
          "text": [
            "BasicAnalysis.ipynb\t  HistogrammingInROOT.ipynb\n",
            "BasicPyROOTExample.ipynb  monje-a-lo-bonzo-blanco-y-negro.png\n",
            "Chi2Fitting.ipynb\t  piano-C5.wav\n",
            "Data5.root\t\t  Random2DHistos\n",
            "DatosParcial2\t\t  root_build_google_yikes.tar\n",
            "DatosResonancia.root\t  Temporal\n",
            "FFT_imagen.ipynb\t  TrimmedTree.root\n",
            "FFT.ipynb\t\t  TTreeExcercise.ipynb\n",
            "FLUTEMI.WAV\n"
          ],
          "name": "stdout"
        }
      ]
    },
    {
      "cell_type": "code",
      "metadata": {
        "id": "tRQGlQ4Hqau9",
        "colab_type": "code",
        "colab": {}
      },
      "source": [
        "!tar -xf /content/drive/Shared\\ drives/PyROOT_in_Google/root_build_google_yikes.tar"
      ],
      "execution_count": 0,
      "outputs": []
    },
    {
      "cell_type": "code",
      "metadata": {
        "id": "DfLQ4DrprjLU",
        "colab_type": "code",
        "outputId": "6b2cbe35-65ef-4b98-af37-e5c814883c17",
        "colab": {
          "base_uri": "https://localhost:8080/",
          "height": 98
        }
      },
      "source": [
        "!ls -ltrh"
      ],
      "execution_count": 6,
      "outputs": [
        {
          "output_type": "stream",
          "text": [
            "total 332K\n",
            "drwxr-xr-x 44 root root 4.0K Sep 20  2018 root_build\n",
            "drwxr-xr-x  1 root root 4.0K Nov  6 16:17 sample_data\n",
            "-rw-r--r--  1 root root 319K Nov 18 00:44 N1041328785.root\n",
            "drwx------  4 root root 4.0K Nov 18 02:22 drive\n"
          ],
          "name": "stdout"
        }
      ]
    },
    {
      "cell_type": "markdown",
      "metadata": {
        "id": "1nHFk9y68VVP",
        "colab_type": "text"
      },
      "source": [
        "\n",
        "### 3. Modify the PATH in order to tell python where to look for pyROOT\n"
      ]
    },
    {
      "cell_type": "code",
      "metadata": {
        "id": "N3ndoY6iu6_J",
        "colab_type": "code",
        "colab": {}
      },
      "source": [
        "import sys\n",
        "sys.path.append(\"/content/root_build/\")\n",
        "sys.path.append(\"/content/root_build/bin/\")\n",
        "sys.path.append(\"/content/root_build/include/\")\n",
        "sys.path.append(\"/content/root_build/lib/\")"
      ],
      "execution_count": 0,
      "outputs": []
    },
    {
      "cell_type": "markdown",
      "metadata": {
        "id": "T33_3Ad08kEA",
        "colab_type": "text"
      },
      "source": [
        "# Now let's analyze the data contained in TrimmedTree.root file"
      ]
    },
    {
      "cell_type": "markdown",
      "metadata": {
        "id": "yULNnS6nqNhT",
        "colab_type": "text"
      },
      "source": [
        "### Importing necessary libraries"
      ]
    },
    {
      "cell_type": "code",
      "metadata": {
        "id": "rGBwkzJ4DLAY",
        "colab_type": "code",
        "outputId": "e56e47f5-362e-44e6-e134-5ebcbe111dca",
        "colab": {
          "base_uri": "https://localhost:8080/",
          "height": 34
        }
      },
      "source": [
        "import ROOT\n",
        "import numpy as np\n",
        "import numpy.random as rnd\n",
        "import scipy as spy\n",
        "from scipy.integrate import quad, nquad\n",
        "import matplotlib.pyplot as plt\n",
        "import sympy as sp"
      ],
      "execution_count": 8,
      "outputs": [
        {
          "output_type": "stream",
          "text": [
            "Welcome to JupyROOT 6.14/04\n"
          ],
          "name": "stdout"
        }
      ]
    },
    {
      "cell_type": "markdown",
      "metadata": {
        "id": "Uw1iSG5bqSZ6",
        "colab_type": "text"
      },
      "source": [
        "### Reading tree in root file"
      ]
    },
    {
      "cell_type": "markdown",
      "metadata": {
        "id": "OYjoY3-Yqkuo",
        "colab_type": "text"
      },
      "source": [
        "### Getting the number of events contained in the tree"
      ]
    },
    {
      "cell_type": "markdown",
      "metadata": {
        "id": "Lk5lytzKrbFn",
        "colab_type": "text"
      },
      "source": [
        "### Loop over the events"
      ]
    },
    {
      "cell_type": "markdown",
      "metadata": {
        "id": "zs4D9PpZcQxh",
        "colab_type": "text"
      },
      "source": [
        "#Parcial #2 \n",
        "# Lider Samir Galeano Molina\n",
        "# 1041328785\n",
        "distriucion de landau.\n",
        "$$p(x) = \\frac{1}{\\pi c} \\int^{\\infty}_0 e^{-t} \\cos\\left(t \\left( \\frac{x-\\mu}{c} \\right) + \\frac{2t}{\\pi} \\ln \\left( \\frac{t}{c} \\right) \\right) dt$$"
      ]
    },
    {
      "cell_type": "code",
      "metadata": {
        "id": "CwXfyyXsqP1y",
        "colab_type": "code",
        "colab": {}
      },
      "source": [
        "# definimos la funcion de distribucion con la que vamos a trabajar \n",
        "\n",
        "def dP(t, mu, c, x): # funcion de distribucion de landau\n",
        "  return (np.e**(-t)* np.cos(t*((x-mu)/c) + (2*t/np.pi)*np.log(t/c)))*(1/(np.pi*c))\n",
        "\n",
        "# parametros de la funcion\n",
        "mu = 1\n",
        "c = 1\n",
        "\n",
        "# valores de x\n",
        "x = [1, 2, 3, 5]\n",
        "\n",
        "# chekeo del funcionamiento\n",
        "\n",
        "def P(x):\n",
        "  I=spy.integrate.quad(dP, 0, spy.inf, args=(mu, c, x))\n",
        "  return I[0]\n",
        "\n",
        "\n"
      ],
      "execution_count": 0,
      "outputs": []
    },
    {
      "cell_type": "markdown",
      "metadata": {
        "id": "knDMKIPgRGmk",
        "colab_type": "text"
      },
      "source": [
        "## tarea 1\n",
        "\n",
        "lectura de datos e histogramas "
      ]
    },
    {
      "cell_type": "code",
      "metadata": {
        "id": "9wDqMU7LqOiA",
        "colab_type": "code",
        "outputId": "857a9cf8-d887-45a0-f3d5-4d6fbd80dd0e",
        "colab": {
          "base_uri": "https://localhost:8080/",
          "height": 906
        }
      },
      "source": [
        "DataChain = ROOT.TChain(\"SystemTree;1\")#Arbol es el nombre del arbol dentro de cada archivo que vamos a anadir a la cadena\n",
        "DataChain.Add(\"N1041328785.root\")#Añadimos N1041328785 a la cadena\n",
        "\n",
        "Datos = []\n",
        "\n",
        "N = DataChain.GetEntries()#Entradas de la cadena, deberian ser 10000 ya que si usamos TBrowser en root veremos que hay 10000 datosx\n",
        "print (N)\n",
        "\n",
        "Hist = ROOT.TH1F('Hist', 'Distribucion datos entregados', 300, 50, 1500) \n",
        "\n",
        "for entry in (DataChain):\n",
        "  #Qentry.GetEntry()\n",
        "  #QHist.Fill(DataChain.GetEntry(entry))\n",
        "  Hist.Fill(entry.x)\n",
        "  Datos.append(entry.x)\n",
        "\n",
        "\n",
        "c1 = ROOT.TCanvas( 'c1', 'The FillRandom example', 200, 10, 900, 900 )\n",
        "c1.SetFillColor( 0 )\n",
        "Hist.SetFillColor( 0 )\n",
        "\n",
        "Hist.Draw()\n",
        "c1.Update()\n",
        "ROOT.gROOT.GetListOfCanvases().Draw()"
      ],
      "execution_count": 10,
      "outputs": [
        {
          "output_type": "stream",
          "text": [
            "80000\n"
          ],
          "name": "stdout"
        },
        {
          "output_type": "display_data",
          "data": {
            "image/png": "[encoded data removed]",
            "text/plain": [
              "<IPython.core.display.Image object>"
            ]
          },
          "metadata": {
            "tags": []
          }
        }
      ]
    },
    {
      "cell_type": "code",
      "metadata": {
        "id": "-KY-OQFlWdTT",
        "colab_type": "code",
        "colab": {}
      },
      "source": [
        ""
      ],
      "execution_count": 0,
      "outputs": []
    },
    {
      "cell_type": "markdown",
      "metadata": {
        "id": "Xqbg4f8ZcEo9",
        "colab_type": "text"
      },
      "source": [
        "## tarea 2\n"
      ]
    },
    {
      "cell_type": "markdown",
      "metadata": {
        "id": "BasCBDqj4EgU",
        "colab_type": "text"
      },
      "source": [
        "### distribucion de integracion directa."
      ]
    },
    {
      "cell_type": "code",
      "metadata": {
        "id": "VUblh5YXS60q",
        "colab_type": "code",
        "colab": {}
      },
      "source": [
        "# tomando N como el numero de eventos del histograma anterior tenemos \n",
        "N=80000\n",
        "x0 = rnd.random()*(1500-50)+50\n",
        "X = [x0]\n",
        "\n",
        "while len(X) < N:\n",
        "  \n",
        "  xp = rnd.random()*(1500-50)+50\n",
        "  deltaS = -np.log(P(xp)/P(X[-1]))\n",
        "\n",
        "  if deltaS < 0:\n",
        "    X.append(xp)\n",
        "  \n",
        "  else:\n",
        "    x = rnd.random()\n",
        "    if x < P(xp)/P(X[-1]):\n",
        "      X.append(xp)"
      ],
      "execution_count": 0,
      "outputs": []
    },
    {
      "cell_type": "markdown",
      "metadata": {
        "id": "x6VoH5BX4O7t",
        "colab_type": "text"
      },
      "source": [
        "### distrbucion de landau propia de ROOT\n",
        "dado el inconveniente de optimizacion para la integracion directa se uso la funcion de distribucion de ROOT "
      ]
    },
    {
      "cell_type": "code",
      "metadata": {
        "id": "ckDeJ5AnXqDf",
        "colab_type": "code",
        "colab": {}
      },
      "source": [
        "N=80000\n",
        "\n",
        "x0 = rnd.random()*(1500-50)+50\n",
        "X = [x0]\n",
        "u = 1\n",
        "c = 8\n",
        "\n",
        "def PL(x, u, c):\n",
        "\n",
        "  return ROOT.TMath.Landau(x,u,c, True)\n",
        "\n",
        "while len(X) < N:\n",
        "  \n",
        "  xp = rnd.random()*(1500-50)+50\n",
        "  deltaS = -np.log(PL(xp, u, c)/PL(X[-1], u, c))\n",
        "\n",
        "  if deltaS < 0:\n",
        "    X.append(xp)\n",
        "  \n",
        "  else:\n",
        "    x = rnd.random()\n",
        "    if x < PL(xp, 0, 1)/PL(X[-1], u ,c):\n",
        "      X.append(xp)"
      ],
      "execution_count": 0,
      "outputs": []
    },
    {
      "cell_type": "markdown",
      "metadata": {
        "id": "DORmr3r542y7",
        "colab_type": "text"
      },
      "source": [
        "### generacion del histograma para la funcion en ROOT, con $\\mu = 1$ y $c=8$."
      ]
    },
    {
      "cell_type": "code",
      "metadata": {
        "id": "Ac2NMrd3eA9o",
        "colab_type": "code",
        "outputId": "0aa30fae-bfde-4fb0-e643-e7e4bff82c00",
        "colab": {
          "base_uri": "https://localhost:8080/",
          "height": 906
        }
      },
      "source": [
        "Hist2 = ROOT.TH1F('Hist2', 'Metropolis $\\:\\mu=1, c=8$', 300, 50, 1500)\n",
        "\n",
        "for i in X:\n",
        "  Hist2.Fill(i)\n",
        "\n",
        "c2 = ROOT.TCanvas( 'c2', 'The FillRandom example', 200, 10, 900, 900 )\n",
        "c2.SetFillColor( 0 )\n",
        "Hist2.SetFillColor( 0 )\n",
        "\n",
        "Hist2.Draw()\n",
        "c2.Update()\n",
        "ROOT.gROOT.GetListOfCanvases().Draw()\n",
        "\n",
        "print(len(X))"
      ],
      "execution_count": 12,
      "outputs": [
        {
          "output_type": "stream",
          "text": [
            "80000\n"
          ],
          "name": "stdout"
        },
        {
          "output_type": "display_data",
          "data": {
            "image/png": "[encoded data removed]",
            "text/plain": [
              "<IPython.core.display.Image object>"
            ]
          },
          "metadata": {
            "tags": []
          }
        }
      ]
    },
    {
      "cell_type": "code",
      "metadata": {
        "id": "8AtKFgRbCbKY",
        "colab_type": "code",
        "colab": {}
      },
      "source": [
        ""
      ],
      "execution_count": 0,
      "outputs": []
    },
    {
      "cell_type": "markdown",
      "metadata": {
        "id": "yAoooPwxcJ2J",
        "colab_type": "text"
      },
      "source": [
        "## tarea 3 \n",
        "implementacion  de $\\frac{\\chi^2}{ndf}$\n",
        "\n",
        "### definimos una funcion con base en metropolis que permita variar $\\mu$ y $c$: $$metropolis(N, P(x), c, \\mu)$$\n",
        "\n"
      ]
    },
    {
      "cell_type": "markdown",
      "metadata": {
        "id": "7tw_w4YoG7vC",
        "colab_type": "text"
      },
      "source": [
        "metodo para el proceso de integracion directa"
      ]
    },
    {
      "cell_type": "code",
      "metadata": {
        "id": "wNJrLdnOS7k8",
        "colab_type": "code",
        "colab": {}
      },
      "source": [
        "# defino el numero de bins en cada uno de los histogramas anteriores distribucion de integracion diracta\n",
        "\n",
        "def metropolis(n, P, a, b, C, U):\n",
        "\n",
        "  u = U\n",
        "  c = C\n",
        "  y0 = rnd.random()*(b-a) + a\n",
        "  Y =[y0]\n",
        "  counter = 0\n",
        "\n",
        "  \n",
        "  while len(Y) < n:\n",
        "    yp = rnd.random()*(b-a) + a\n",
        "    ds = -np.log(P(yp)/P(Y[-1]))\n",
        "\n",
        "    if ds < 0:\n",
        "      Y.append(yp)\n",
        "      \n",
        "    else:\n",
        "       y = rnd.random() \n",
        "       if y < P(yp)/P(Y[-1]):\n",
        "         Y.append(yp)\n",
        "  return Y\n",
        "\n",
        "\n"
      ],
      "execution_count": 0,
      "outputs": []
    },
    {
      "cell_type": "markdown",
      "metadata": {
        "id": "AQMvUPBeHEMz",
        "colab_type": "text"
      },
      "source": [
        "metodo para la distribucion de Landau en ROOT"
      ]
    },
    {
      "cell_type": "code",
      "metadata": {
        "id": "DaBkm1rXHEPC",
        "colab_type": "code",
        "colab": {}
      },
      "source": [
        "#para ROOT landau\n",
        "\n",
        "def metropolisL(n, P, a, b, C, U):\n",
        "\n",
        "  y0 = rnd.random()*(b-a) + a\n",
        "  Y =[y0]\n",
        "  counter = 0\n",
        "\n",
        "  \n",
        "  while len(Y) < n:\n",
        "    yp = rnd.random()*(b-a) + a\n",
        "    if P(Y[-1], U, C)!=0:\n",
        "      ds = -np.log(P(yp, U, C)/P(Y[-1], U, C))\n",
        "\n",
        "      if ds < 0:\n",
        "        Y.append(yp)\n",
        "      \n",
        "      else:\n",
        "        y = rnd.random() \n",
        "        if y < P(yp, U, C)/P(Y[-1], U, C):\n",
        "          Y.append(yp)\n",
        "  return Y\n"
      ],
      "execution_count": 0,
      "outputs": []
    },
    {
      "cell_type": "markdown",
      "metadata": {
        "id": "Jnktw18P6b3l",
        "colab_type": "text"
      },
      "source": [
        "### ahora estudiamos el comportamiento del $\\frac{\\chi^2}{ndf}$ mediante la definicion:$$ \\chi ^2 = \\sum_{i=1}^{ndf} \\frac{(Datos_i-Metroplis_i)^2}{Datos_i}$$"
      ]
    },
    {
      "cell_type": "code",
      "metadata": {
        "id": "up3slLp91YhP",
        "colab_type": "code",
        "colab": {}
      },
      "source": [
        "N = 80000\n",
        "\n",
        "def chi2(u_var, c_var):\n",
        "\n",
        "  memoria = []\n",
        "  memoriahist = []\n",
        "  memoria_ij = [] # matriz de valores (mu, c)\n",
        "  \n",
        "\n",
        "  for i in u_var:\n",
        "    for j in c_var:\n",
        "      memoria.append(metropolisL(N, PL, 50, 1500, i, j))\n",
        "      memoriahist.append(ROOT.TH1F(\"hist_ij(%f,%f)\"%(i,j), 'optimos  $\\:(\\mu = {}, c = {})$'.format(i,j), 300, 50, 1500 ))\n",
        "      memoria_ij.append([i,j])\n",
        "\n",
        "  chi_2 = []\n",
        "  for k in range(len(memoria)):\n",
        "    for elemento in memoria[k]:\n",
        "      memoriahist[k].Fill(elemento)\n",
        "\n",
        "   \n",
        "   \n",
        "    chi= 0.\n",
        "\n",
        "    for j in range(Hist.GetNbinsX()+1):\n",
        "      if Hist.GetBinContent(j) != 0:\n",
        "        chi += ((Hist.GetBinContent(j) - memoriahist[k].GetBinContent(j))**2) / Hist.GetBinContent(j)\n",
        "    chi_2.append(chi)\n",
        "  optimos=chi_2.index(min(chi_2))\n",
        "  print (\"este es el mejor $\\chi ^2$\", min(chi_2)/300)\n",
        "\n",
        "  Result = [memoriahist[optimos], memoria_ij, np.array(chi_2)/300]\n",
        "  return  Result\n",
        "\n",
        "\n"
      ],
      "execution_count": 0,
      "outputs": []
    },
    {
      "cell_type": "markdown",
      "metadata": {
        "id": "LqzoF5_6JMpc",
        "colab_type": "text"
      },
      "source": [
        "el metodo anterior tambien puede ser aplicado a la funcion de integracion directa de la distribucion"
      ]
    },
    {
      "cell_type": "code",
      "metadata": {
        "id": "Yg_lGB6sA61R",
        "colab_type": "code",
        "outputId": "d104215a-f3c9-4880-c4a5-42086ead3e3a",
        "colab": {
          "base_uri": "https://localhost:8080/",
          "height": 1000
        }
      },
      "source": [
        "u_var =[2.6, 2.7, 2.8, 2.9, 3., 3.2 ]\n",
        "c_var =[82.2, 82.3, 82.4]\n",
        "CHI=chi2(u_var, c_var)\n",
        "\n",
        "c5 = ROOT.TCanvas( 'c5', 'The FillRandom example', 200, 10, 900, 900 )\n",
        "c5.SetFillColor(0 )\n",
        "CHI[0].SetFillColor( 0 )\n",
        "Hist.SetLineColor(2)\n",
        "\n",
        "CHI[0].Draw(\"E\")\n",
        "Hist.Draw(\"same E\")\n",
        "\n",
        "c5.Update()\n",
        "ROOT.gROOT.GetListOfCanvases().Draw()\n",
        "\n"
      ],
      "execution_count": 15,
      "outputs": [
        {
          "output_type": "stream",
          "text": [
            "/usr/local/lib/python3.6/dist-packages/ipykernel_launcher.py:12: RuntimeWarning: divide by zero encountered in log\n",
            "  if sys.path[0] == '':\n"
          ],
          "name": "stderr"
        },
        {
          "output_type": "stream",
          "text": [
            "este es el mejor $\\chi ^2$ 390.7220359769528\n"
          ],
          "name": "stdout"
        },
        {
          "output_type": "display_data",
          "data": {
            "image/png": "[encoded data removed]",
            "text/plain": [
              "<IPython.core.display.Image object>"
            ]
          },
          "metadata": {
            "tags": []
          }
        },
        {
          "output_type": "display_data",
          "data": {
            "image/png": "[encoded data removed]",
            "text/plain": [
              "<IPython.core.display.Image object>"
            ]
          },
          "metadata": {
            "tags": []
          }
        }
      ]
    },
    {
      "cell_type": "markdown",
      "metadata": {
        "id": "Vc2cMLF3v1LO",
        "colab_type": "text"
      },
      "source": [
        "### grafica $\\frac{\\chi^2(\\mu,c)}{ndf}$:\n"
      ]
    },
    {
      "cell_type": "code",
      "metadata": {
        "id": "uk1r3K69wY4S",
        "colab_type": "code",
        "outputId": "4f50f33f-2199-436b-dd89-112337f450b6",
        "colab": {
          "base_uri": "https://localhost:8080/",
          "height": 336
        }
      },
      "source": [
        "MU = []\n",
        "C = []\n",
        "for i in range(len(CHI[1])):\n",
        "  MU.append(CHI[1][i][0])\n",
        "  C.append(CHI[1][i][1])\n",
        "\n",
        "from mpl_toolkits.mplot3d import Axes3D\n",
        "\n",
        "fig = plt.figure()\n",
        "Axes3D(fig)\n",
        "plt.xlabel(\"$\\mu$\")\n",
        "plt.ylabel(\"c\")\n",
        "plt.title(\"$\\chi^2(\\mu,c)/(ndf)$\")\n",
        "plt.plot(MU, C, CHI[2], \".\")"
      ],
      "execution_count": 27,
      "outputs": [
        {
          "output_type": "execute_result",
          "data": {
            "text/plain": [
              "[<mpl_toolkits.mplot3d.art3d.Line3D at 0x7f04e22192e8>]"
            ]
          },
          "metadata": {
            "tags": []
          },
          "execution_count": 27
        },
        {
          "output_type": "display_data",
          "data": {
            "image/png": "[encoded data removed]",
            "text/plain": [
              "<Figure size 432x288 with 1 Axes>"
            ]
          },
          "metadata": {
            "tags": []
          }
        }
      ]
    },
    {
      "cell_type": "code",
      "metadata": {
        "id": "6760Ik9hR1WR",
        "colab_type": "code",
        "colab": {}
      },
      "source": [
        "\n"
      ],
      "execution_count": 0,
      "outputs": []
    },
    {
      "cell_type": "code",
      "metadata": {
        "id": "wWhlRacyA5q-",
        "colab_type": "code",
        "colab": {}
      },
      "source": [
        "c1 = ROOT.TCanvas( 'c1', 'The FillRandom example', 200, 10, 700, 900 )\n",
        "c1.SetFillColor( 0 )\n",
        "C.SetFillColor( 0 )\n",
        "\n",
        "C.Draw()\n",
        "Hist.Draw()\n",
        "c1.Update()\n",
        "ROOT.gROOT.GetListOfCanvases().Draw()"
      ],
      "execution_count": 0,
      "outputs": []
    },
    {
      "cell_type": "code",
      "metadata": {
        "id": "cGhFNkx11rPU",
        "colab_type": "code",
        "colab": {}
      },
      "source": [
        "118768.55630453392/300"
      ],
      "execution_count": 0,
      "outputs": []
    }
  ]
}