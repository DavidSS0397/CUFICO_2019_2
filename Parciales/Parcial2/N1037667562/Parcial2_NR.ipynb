{
  "nbformat": 4,
  "nbformat_minor": 0,
  "metadata": {
    "colab": {
      "name": "Parcial2_NR.ipynb",
      "provenance": [],
      "collapsed_sections": []
    },
    "kernelspec": {
      "name": "python3",
      "display_name": "Python 3"
    },
    "accelerator": "GPU"
  },
  "cells": [
    {
      "cell_type": "markdown",
      "metadata": {
        "id": "l2Kx9iqQ4ToX",
        "colab_type": "text"
      },
      "source": [
        "# With this notebook we will:\n",
        "## 1. Install packages needed for root\n",
        "## 2. Download a binary root that compiled in google drive \"colaboratory\" environement\n",
        "## 3. Modify the PATH in order to tell python where to look for pyROOT\n",
        "## 4. Finally, a basic analysis example with pyROOT\n",
        "\n",
        "##### Author: Jose Ruiz\n",
        "##### Maintainer: Jose Ruiz\n",
        "##### Developed at: Universidad de Antioquia\n"
      ]
    },
    {
      "cell_type": "markdown",
      "metadata": {
        "id": "C1gPEaTg6fLl",
        "colab_type": "text"
      },
      "source": [
        "### 1. Install packages needed for root"
      ]
    },
    {
      "cell_type": "code",
      "metadata": {
        "id": "gYEA4UKNplb6",
        "colab_type": "code",
        "outputId": "b5f155fb-f70a-481e-aa71-5cacb78ad405",
        "colab": {
          "base_uri": "https://localhost:8080/",
          "height": 1000
        }
      },
      "source": [
        "!apt-get install git dpkg-dev cmake g++ gcc binutils libx11-dev libxpm-dev libxft-dev libxext-dev tar gfortran subversion"
      ],
      "execution_count": 1,
      "outputs": [
        {
          "output_type": "stream",
          "text": [
            "Reading package lists... Done\n",
            "Building dependency tree       \n",
            "Reading state information... Done\n",
            "libxext-dev is already the newest version (2:1.3.3-1).\n",
            "libxext-dev set to manually installed.\n",
            "libxft-dev is already the newest version (2.3.2-1).\n",
            "binutils is already the newest version (2.30-21ubuntu1~18.04.2).\n",
            "binutils set to manually installed.\n",
            "cmake is already the newest version (3.10.2-1ubuntu2.18.04.1).\n",
            "g++ is already the newest version (4:7.4.0-1ubuntu2.3).\n",
            "g++ set to manually installed.\n",
            "gcc is already the newest version (4:7.4.0-1ubuntu2.3).\n",
            "gcc set to manually installed.\n",
            "gfortran is already the newest version (4:7.4.0-1ubuntu2.3).\n",
            "git is already the newest version (1:2.17.1-1ubuntu0.4).\n",
            "libx11-dev is already the newest version (2:1.6.4-3ubuntu0.2).\n",
            "libx11-dev set to manually installed.\n",
            "tar is already the newest version (1.29b-2ubuntu0.1).\n",
            "The following additional packages will be installed:\n",
            "  libapr1 libaprutil1 libdpkg-perl libserf-1-1 libsvn1\n",
            "Suggested packages:\n",
            "  debian-keyring bzr db5.3-util libapache2-mod-svn subversion-tools\n",
            "Recommended packages:\n",
            "  fakeroot libalgorithm-merge-perl libfile-fcntllock-perl\n",
            "The following NEW packages will be installed:\n",
            "  libapr1 libaprutil1 libserf-1-1 libsvn1 libxpm-dev subversion\n",
            "The following packages will be upgraded:\n",
            "  dpkg-dev libdpkg-perl\n",
            "2 upgraded, 6 newly installed, 0 to remove and 33 not upgraded.\n",
            "Need to get 3,142 kB of archives.\n",
            "After this operation, 10.1 MB of additional disk space will be used.\n",
            "Get:1 http://archive.ubuntu.com/ubuntu bionic-updates/main amd64 dpkg-dev all 1.19.0.5ubuntu2.3 [607 kB]\n",
            "Get:2 http://archive.ubuntu.com/ubuntu bionic-updates/main amd64 libdpkg-perl all 1.19.0.5ubuntu2.3 [211 kB]\n",
            "Get:3 http://archive.ubuntu.com/ubuntu bionic/main amd64 libapr1 amd64 1.6.3-2 [90.9 kB]\n",
            "Get:4 http://archive.ubuntu.com/ubuntu bionic/main amd64 libaprutil1 amd64 1.6.1-2 [84.4 kB]\n",
            "Get:5 http://archive.ubuntu.com/ubuntu bionic/universe amd64 libserf-1-1 amd64 1.3.9-6 [44.4 kB]\n",
            "Get:6 http://archive.ubuntu.com/ubuntu bionic/universe amd64 libsvn1 amd64 1.9.7-4ubuntu1 [1,183 kB]\n",
            "Get:7 http://archive.ubuntu.com/ubuntu bionic/main amd64 libxpm-dev amd64 1:3.5.12-1 [87.4 kB]\n",
            "Get:8 http://archive.ubuntu.com/ubuntu bionic/universe amd64 subversion amd64 1.9.7-4ubuntu1 [834 kB]\n",
            "Fetched 3,142 kB in 12s (255 kB/s)\n",
            "(Reading database ... 132684 files and directories currently installed.)\n",
            "Preparing to unpack .../0-dpkg-dev_1.19.0.5ubuntu2.3_all.deb ...\n",
            "Unpacking dpkg-dev (1.19.0.5ubuntu2.3) over (1.19.0.5ubuntu2.2) ...\n",
            "Preparing to unpack .../1-libdpkg-perl_1.19.0.5ubuntu2.3_all.deb ...\n",
            "Unpacking libdpkg-perl (1.19.0.5ubuntu2.3) over (1.19.0.5ubuntu2.2) ...\n",
            "Selecting previously unselected package libapr1:amd64.\n",
            "Preparing to unpack .../2-libapr1_1.6.3-2_amd64.deb ...\n",
            "Unpacking libapr1:amd64 (1.6.3-2) ...\n",
            "Selecting previously unselected package libaprutil1:amd64.\n",
            "Preparing to unpack .../3-libaprutil1_1.6.1-2_amd64.deb ...\n",
            "Unpacking libaprutil1:amd64 (1.6.1-2) ...\n",
            "Selecting previously unselected package libserf-1-1:amd64.\n",
            "Preparing to unpack .../4-libserf-1-1_1.3.9-6_amd64.deb ...\n",
            "Unpacking libserf-1-1:amd64 (1.3.9-6) ...\n",
            "Selecting previously unselected package libsvn1:amd64.\n",
            "Preparing to unpack .../5-libsvn1_1.9.7-4ubuntu1_amd64.deb ...\n",
            "Unpacking libsvn1:amd64 (1.9.7-4ubuntu1) ...\n",
            "Selecting previously unselected package libxpm-dev:amd64.\n",
            "Preparing to unpack .../6-libxpm-dev_1%3a3.5.12-1_amd64.deb ...\n",
            "Unpacking libxpm-dev:amd64 (1:3.5.12-1) ...\n",
            "Selecting previously unselected package subversion.\n",
            "Preparing to unpack .../7-subversion_1.9.7-4ubuntu1_amd64.deb ...\n",
            "Unpacking subversion (1.9.7-4ubuntu1) ...\n",
            "Setting up libapr1:amd64 (1.6.3-2) ...\n",
            "Setting up libxpm-dev:amd64 (1:3.5.12-1) ...\n",
            "Setting up libdpkg-perl (1.19.0.5ubuntu2.3) ...\n",
            "Setting up dpkg-dev (1.19.0.5ubuntu2.3) ...\n",
            "Processing triggers for libc-bin (2.27-3ubuntu1) ...\n",
            "Setting up libaprutil1:amd64 (1.6.1-2) ...\n",
            "Processing triggers for man-db (2.8.3-2ubuntu0.1) ...\n",
            "Setting up libserf-1-1:amd64 (1.3.9-6) ...\n",
            "Setting up libsvn1:amd64 (1.9.7-4ubuntu1) ...\n",
            "Setting up subversion (1.9.7-4ubuntu1) ...\n",
            "Processing triggers for libc-bin (2.27-3ubuntu1) ...\n"
          ],
          "name": "stdout"
        }
      ]
    },
    {
      "cell_type": "markdown",
      "metadata": {
        "id": "3i5bTy4x601V",
        "colab_type": "text"
      },
      "source": [
        "### 2. Mount the drive to get the root binary and untar it "
      ]
    },
    {
      "cell_type": "code",
      "metadata": {
        "id": "gMhjqJ9noRcX",
        "colab_type": "code",
        "outputId": "943af377-8e02-4c04-ca17-52d8ceaf7ad0",
        "colab": {
          "base_uri": "https://localhost:8080/",
          "height": 122
        }
      },
      "source": [
        "# Load the Drive helper and mount\n",
        "from google.colab import drive\n",
        "\n",
        "# This will prompt for authorization.\n",
        "drive.mount('/content/drive')"
      ],
      "execution_count": 2,
      "outputs": [
        {
          "output_type": "stream",
          "text": [
            "Go to this URL in a browser: https://accounts.google.com/o/oauth2/auth?client_id=947318989803-6bn6qk8qdgf4n4g3pfee6491hc0brc4i.apps.googleusercontent.com&redirect_uri=urn%3aietf%3awg%3aoauth%3a2.0%3aoob&response_type=code&scope=email%20https%3a%2f%2fwww.googleapis.com%2fauth%2fdocs.test%20https%3a%2f%2fwww.googleapis.com%2fauth%2fdrive%20https%3a%2f%2fwww.googleapis.com%2fauth%2fdrive.photos.readonly%20https%3a%2f%2fwww.googleapis.com%2fauth%2fpeopleapi.readonly\n",
            "\n",
            "Enter your authorization code:\n",
            "··········\n",
            "Mounted at /content/drive\n"
          ],
          "name": "stdout"
        }
      ]
    },
    {
      "cell_type": "code",
      "metadata": {
        "id": "dt2PEUjQo0RY",
        "colab_type": "code",
        "outputId": "a84ac682-b077-4d96-84d2-ddef8de90799",
        "colab": {
          "base_uri": "https://localhost:8080/",
          "height": 170
        }
      },
      "source": [
        "# After executing the cell above, Drive\n",
        "# files will be present in \"/content/drive/My Drive\".\n",
        "!ls \"/content/drive/Shared drives/PyROOT_in_Google/\""
      ],
      "execution_count": 3,
      "outputs": [
        {
          "output_type": "stream",
          "text": [
            "BasicAnalysis.ipynb\t  HistogrammingInROOT.ipynb\n",
            "BasicPyROOTExample.ipynb  monje-a-lo-bonzo-blanco-y-negro.png\n",
            "Chi2Fitting.ipynb\t  piano-C5.wav\n",
            "Data5.root\t\t  Random2DHistos\n",
            "DatosParcial2\t\t  root_build_google_yikes.tar\n",
            "DatosResonancia.root\t  Temporal\n",
            "FFT_imagen.ipynb\t  TrimmedTree.root\n",
            "FFT.ipynb\t\t  TTreeExcercise.ipynb\n",
            "FLUTEMI.WAV\n"
          ],
          "name": "stdout"
        }
      ]
    },
    {
      "cell_type": "code",
      "metadata": {
        "id": "tRQGlQ4Hqau9",
        "colab_type": "code",
        "colab": {}
      },
      "source": [
        "!tar -xf /content/drive/Shared\\ drives/PyROOT_in_Google/root_build_google_yikes.tar"
      ],
      "execution_count": 0,
      "outputs": []
    },
    {
      "cell_type": "code",
      "metadata": {
        "id": "DfLQ4DrprjLU",
        "colab_type": "code",
        "outputId": "ad970316-705f-44ad-f0fd-123145a9df0e",
        "colab": {
          "base_uri": "https://localhost:8080/",
          "height": 85
        }
      },
      "source": [
        "!ls -ltrh"
      ],
      "execution_count": 5,
      "outputs": [
        {
          "output_type": "stream",
          "text": [
            "total 12K\n",
            "drwxr-xr-x 44 root root 4.0K Sep 20  2018 root_build\n",
            "drwxr-xr-x  1 root root 4.0K Nov  6 16:17 sample_data\n",
            "drwx------  4 root root 4.0K Nov 17 15:39 drive\n"
          ],
          "name": "stdout"
        }
      ]
    },
    {
      "cell_type": "markdown",
      "metadata": {
        "id": "1nHFk9y68VVP",
        "colab_type": "text"
      },
      "source": [
        "\n",
        "### 3. Modify the PATH in order to tell python where to look for pyROOT\n"
      ]
    },
    {
      "cell_type": "code",
      "metadata": {
        "id": "N3ndoY6iu6_J",
        "colab_type": "code",
        "colab": {}
      },
      "source": [
        "import sys\n",
        "sys.path.append(\"/content/root_build/\")\n",
        "sys.path.append(\"/content/root_build/bin/\")\n",
        "sys.path.append(\"/content/root_build/include/\")\n",
        "sys.path.append(\"/content/root_build/lib/\")"
      ],
      "execution_count": 0,
      "outputs": []
    },
    {
      "cell_type": "markdown",
      "metadata": {
        "id": "T33_3Ad08kEA",
        "colab_type": "text"
      },
      "source": [
        "# Now let's analyze the data contained in NXX.root file"
      ]
    },
    {
      "cell_type": "markdown",
      "metadata": {
        "id": "yULNnS6nqNhT",
        "colab_type": "text"
      },
      "source": [
        "### Importing necessary libraries"
      ]
    },
    {
      "cell_type": "code",
      "metadata": {
        "id": "rGBwkzJ4DLAY",
        "colab_type": "code",
        "outputId": "0d9c3b9c-1f0a-4d86-b34b-e14835dcfa6a",
        "colab": {
          "base_uri": "https://localhost:8080/",
          "height": 34
        }
      },
      "source": [
        "import ROOT"
      ],
      "execution_count": 7,
      "outputs": [
        {
          "output_type": "stream",
          "text": [
            "Welcome to JupyROOT 6.14/04\n"
          ],
          "name": "stdout"
        }
      ]
    },
    {
      "cell_type": "code",
      "metadata": {
        "id": "5or3fVFR6vR-",
        "colab_type": "code",
        "colab": {}
      },
      "source": [
        "import numpy as np\n",
        "import matplotlib.pyplot as plt\n",
        "from scipy import integrate\n",
        "import time "
      ],
      "execution_count": 0,
      "outputs": []
    },
    {
      "cell_type": "markdown",
      "metadata": {
        "id": "Uw1iSG5bqSZ6",
        "colab_type": "text"
      },
      "source": [
        "### Reading the file \n"
      ]
    },
    {
      "cell_type": "code",
      "metadata": {
        "id": "7zsARHNbqKnY",
        "colab_type": "code",
        "outputId": "d64cd139-f221-4e54-a2db-a2e5438276dc",
        "colab": {
          "base_uri": "https://localhost:8080/",
          "height": 34
        }
      },
      "source": [
        "DataN = ROOT.TChain('SystemTree')\n",
        "DataN.Add(\"/content/drive/Shared drives/PyROOT_in_Google/DatosParcial2/N1037667562.root\")"
      ],
      "execution_count": 9,
      "outputs": [
        {
          "output_type": "execute_result",
          "data": {
            "text/plain": [
              "1"
            ]
          },
          "metadata": {
            "tags": []
          },
          "execution_count": 9
        }
      ]
    },
    {
      "cell_type": "markdown",
      "metadata": {
        "id": "OYjoY3-Yqkuo",
        "colab_type": "text"
      },
      "source": [
        "### Getting the number of events contained in the tree"
      ]
    },
    {
      "cell_type": "code",
      "metadata": {
        "id": "0xu0PEvRqev9",
        "colab_type": "code",
        "outputId": "826338ae-c51b-44e9-e3dd-5c417c669464",
        "colab": {
          "base_uri": "https://localhost:8080/",
          "height": 34
        }
      },
      "source": [
        "NumberOfEventsToCheck=DataN.GetEntries() #cuenta cuantas entradas hay en la cadena \n",
        "print(\"We are going to analyze \", NumberOfEventsToCheck, \" events\")"
      ],
      "execution_count": 10,
      "outputs": [
        {
          "output_type": "stream",
          "text": [
            "We are going to analyze  85000  events\n"
          ],
          "name": "stdout"
        }
      ]
    },
    {
      "cell_type": "markdown",
      "metadata": {
        "id": "Lk5lytzKrbFn",
        "colab_type": "text"
      },
      "source": [
        "### 1) Creating histogram for the data"
      ]
    },
    {
      "cell_type": "code",
      "metadata": {
        "id": "woFnYYNKyoR9",
        "colab_type": "code",
        "colab": {}
      },
      "source": [
        "DMP = ROOT.TH1F( 'DMP', 'Parcial2 Data', 200, 100, 1100 ) #crea histograma\n",
        "\n",
        "for entry in DataN:\n",
        "  DMP.Fill(entry.x) # Llena el histograma con los eventos del TTree"
      ],
      "execution_count": 0,
      "outputs": []
    },
    {
      "cell_type": "code",
      "metadata": {
        "id": "CV1APNiP1r_y",
        "colab_type": "code",
        "outputId": "2ed68641-9271-4c79-c50a-8d230a4adabe",
        "colab": {
          "base_uri": "https://localhost:8080/",
          "height": 389
        }
      },
      "source": [
        "# TCanvas crea ventana para las gráficas\n",
        "c1 = ROOT.TCanvas( 'c1', 'first canvas', 100, 10, 700, 400 ) \n",
        "c1.SetFillColor( 0 )\n",
        "DMP.Draw()\n",
        "c1.Update()\n",
        "ROOT.gROOT.GetListOfCanvases().Draw()"
      ],
      "execution_count": 12,
      "outputs": [
        {
          "output_type": "display_data",
          "data": {
            "image/png": "[encoded data removed]",
            "text/plain": [
              "<IPython.core.display.Image object>"
            ]
          },
          "metadata": {
            "tags": []
          }
        }
      ]
    },
    {
      "cell_type": "markdown",
      "metadata": {
        "id": "pENjuyUr71xV",
        "colab_type": "text"
      },
      "source": [
        "Creando funciones que necesitaremos para el método de Metropolis y el método de chi cuadrado"
      ]
    },
    {
      "cell_type": "code",
      "metadata": {
        "id": "-rQhBuQ_7aan",
        "colab_type": "code",
        "colab": {}
      },
      "source": [
        "# =========== Método de Metropolis siguiendo distribución de Landau  ========\n",
        "#--- Entradas: tupla con argumentos (mu, c), limites del histograma y N de eventos\n",
        "def Metr_code(fargs, upp, down, N):\n",
        "  ''' Crea Histograma con el método de metropolis para la distribución de Landau '''\n",
        "  mu, c = fargs  # Argumentos \n",
        "  phi0 = (upp-down)*np.random.random_sample() + down # Inicializando phi0\n",
        "  \n",
        "  n=0 #contador número de eventos\n",
        "  PHI = [] #lista donde llenaremos los eventos aprobados \n",
        "  while n<N:\n",
        "    phip = (upp-down)*np.random.random_sample() + down # Tomando phip por iteración\n",
        "\n",
        "    if ROOT.TMath.Landau( phi0, mu, c, True) != 0: #evita error de division por cero\n",
        "      ds = -np.log(ROOT.TMath.Landau( phip, mu, c, True)/ROOT.TMath.Landau( phi0, mu, c, True))\n",
        "      \n",
        "      if ds<0: #condición aprobado 1\n",
        "        phi0=phip\n",
        "        PHI.append(phi0)\n",
        "        n+=1\n",
        "      elif ds>0: \n",
        "        comp = np.random.random_sample()\n",
        "        pr = ROOT.TMath.Landau( phip, mu, c, True)/ROOT.TMath.Landau( phi0, mu, c, True)\n",
        "        if pr>comp: #condición aprobado 2 \n",
        "          phi0=phip\n",
        "          PHI.append(phi0)\n",
        "          n+=1\n",
        "        elif pr<comp: # no aprobado \n",
        "          continue\n",
        "  return PHI"
      ],
      "execution_count": 0,
      "outputs": []
    },
    {
      "cell_type": "code",
      "metadata": {
        "id": "C0JpkCsB7ah-",
        "colab_type": "code",
        "colab": {}
      },
      "source": [
        "#======== Definimos calculo de Chi-Cuadrado entre dos histogramas de ROOT =======\n",
        "#---- Entradas: Los histogramas que se desean comparar \n",
        "\n",
        "def chi_hist(X, Y):\n",
        "  num = X.GetSize() #obtenemos número de bines \n",
        "  if num == Y.GetSize(): # Verificamos que si tenga el mismo nbin \n",
        "    ssum = 0\n",
        "    for i in range(1, num+1):\n",
        "      if X.GetBinContent(i) == 0: # no contamos los bines en data iguales a 0\n",
        "        pass # evita división por cero \n",
        "      else:\n",
        "        ssum += (X.GetBinContent(i) - Y.GetBinContent(i))**2 / X.GetBinContent(i)\n",
        "\n",
        "    return ssum/num #Devuelve valor de Chi2 dividido por el numero de bins\n",
        "    \n",
        "  else: # Informamos al usuario cuando no tengan el mismo nbin los X Y ingresados\n",
        "    print(\"No tienen el mismo número de bins\")\n",
        "    return False"
      ],
      "execution_count": 0,
      "outputs": []
    },
    {
      "cell_type": "markdown",
      "metadata": {
        "id": "q7pPcuqnYP70",
        "colab_type": "text"
      },
      "source": [
        "Note que el valor que retorna mi función para calcular $\\chi^2$ es en realidad $\\frac{\\chi^2}{ndf}$ de manera que, de aquí en adelante, cuando se hable de $\\chi^2$ se estará haciendo referencia a $\\frac{\\chi^2}{ndf}$, que es el valor que calculo"
      ]
    },
    {
      "cell_type": "code",
      "metadata": {
        "id": "5Wq-Z7vQ9HbG",
        "colab_type": "code",
        "colab": {}
      },
      "source": [
        "#======== Función para crear histograma de ROOT con Metodo de Metropolis ======\n",
        "#---- Entradas: Argumentos en tupla (mu, c); numero de bines; numero de eventos\n",
        "\n",
        "def nw_hist(argsL, bbin, num_ev):\n",
        "  upp = 1100 #fijamos los límites del histograma \n",
        "  down = 100\n",
        "\n",
        "  HIST = ROOT.TH1F( 'HIST', \"Landau's histogram\", bbin, down, upp ) #crea histograma ROOT\n",
        "\n",
        "  datf = Metr_code(argsL, upp, down, num_ev) # Crea histograma Metropolis\n",
        "\n",
        "  for jj in datf: #Llenamos histograma ROOT con datos de metropolis \n",
        "    HIST.Fill(jj)\n",
        "\n",
        "  return HIST"
      ],
      "execution_count": 0,
      "outputs": []
    },
    {
      "cell_type": "markdown",
      "metadata": {
        "id": "VNcyPQqOx09I",
        "colab_type": "text"
      },
      "source": [
        "A continuación generaremos un primer histograma con el método propuesto usando valor de $\\mu$ cercano a la media y c aproximadamente un orden de magnitud menor a la desviación estandar."
      ]
    },
    {
      "cell_type": "code",
      "metadata": {
        "id": "WVkXBY7HPLGf",
        "colab_type": "code",
        "outputId": "0bbc66e3-140c-4306-b39e-ae524049e7af",
        "colab": {
          "base_uri": "https://localhost:8080/",
          "height": 71
        }
      },
      "source": [
        "#==== Generando primer histograma ====\n",
        "#--- el numero de bines y de entradas definidos en esta celda,\n",
        "#--- son los que se usarán en el resto del código\n",
        "\n",
        "arg1 = (280, 15) #argumentos del primer histograma \n",
        "bines = 200  # número de bines \n",
        "n_ent = DataN.GetEntries() # número de eventos \n",
        "\n",
        "Hist1 = nw_hist(arg1, bines, n_ent) # Genera histograma "
      ],
      "execution_count": 16,
      "outputs": [
        {
          "output_type": "stream",
          "text": [
            "/usr/local/lib/python3.6/dist-packages/ipykernel_launcher.py:12: RuntimeWarning: divide by zero encountered in log\n",
            "  if sys.path[0] == '':\n"
          ],
          "name": "stderr"
        }
      ]
    },
    {
      "cell_type": "code",
      "metadata": {
        "id": "u0Xa9PZBcLNK",
        "colab_type": "code",
        "outputId": "2d639fce-34f4-43a8-fcc3-2ff4eb81ba70",
        "colab": {
          "base_uri": "https://localhost:8080/",
          "height": 389
        }
      },
      "source": [
        "#======= Graficamos el primer histograma generado =======\n",
        "\n",
        "Hist1.Draw()\n",
        "c1.Update()\n",
        "ROOT.gROOT.GetListOfCanvases().Draw()"
      ],
      "execution_count": 17,
      "outputs": [
        {
          "output_type": "display_data",
          "data": {
            "image/png": "[encoded data removed]",
            "text/plain": [
              "<IPython.core.display.Image object>"
            ]
          },
          "metadata": {
            "tags": []
          }
        }
      ]
    },
    {
      "cell_type": "markdown",
      "metadata": {
        "id": "pkWE2Hd4SDso",
        "colab_type": "text"
      },
      "source": [
        "Comparando este primer intento con los datos\n"
      ]
    },
    {
      "cell_type": "code",
      "metadata": {
        "id": "iD4naGtwTY59",
        "colab_type": "code",
        "outputId": "cf32b109-90e2-4afa-b954-979b6a5f5dee",
        "colab": {
          "base_uri": "https://localhost:8080/",
          "height": 34
        }
      },
      "source": [
        "chi1 = chi_hist(DMP, Hist1)\n",
        "\n",
        "print(\"El valor de Chi2 entre el primer histograma y los datos es:\", round(chi1, 4))"
      ],
      "execution_count": 18,
      "outputs": [
        {
          "output_type": "stream",
          "text": [
            "El valor de Chi2 entre el primer histograma y los datos es: 800.5338\n"
          ],
          "name": "stdout"
        }
      ]
    },
    {
      "cell_type": "markdown",
      "metadata": {
        "id": "goPPmxoPe9ep",
        "colab_type": "text"
      },
      "source": [
        "Ahora, para hallar los valores que mejor ajusten los datos, haremos un barrido sobre posibles valores de $\\mu$ y c de acuerdo a lo que se ha notado graficamente. \n",
        "\n",
        "Primero haremos análisis sobre el parámetro $\\mu$ para ver cual es el más aproximado. \n",
        "\n",
        "NOTA: La celda puede demorar poco (30 o 50 segundos aproximadamente) o mucho más. Esto se debe a los números aleatorios que se rechacen y no cuenten en la generación de los 85000 eventos, a veces son más, a veces son menos. Si la celda se está demorando mucho, es prefereible interrumpirla y volverla a correr."
      ]
    },
    {
      "cell_type": "code",
      "metadata": {
        "id": "3dkDyjGCeGjM",
        "colab_type": "code",
        "outputId": "d7e82c34-fd66-4140-8fcf-0578b3ee5d73",
        "colab": {
          "base_uri": "https://localhost:8080/",
          "height": 224
        }
      },
      "source": [
        "begin = time.perf_counter() # contaremos el tiempo \n",
        "\n",
        "mu_par = np.arange(160.0, 320.0, 20.0) # barrido sobre posibles valores de mu \n",
        "c_fijo = 15.0 # fijamos c arbitrariamente \n",
        "\n",
        "Chi_mu = [] # lista de chi2 en funcion de mu \n",
        "for mu_v in mu_par:\n",
        "  YY = nw_hist((mu_v, c_fijo), bines, n_ent)\n",
        "  ch_uv = chi_hist(DMP, YY) \n",
        "  Chi_mu.append(ch_uv)\n",
        "\n",
        "end = time.perf_counter()\n",
        "\n",
        "print(f'Tomó {round(end-begin, 2)} segundos ')"
      ],
      "execution_count": 77,
      "outputs": [
        {
          "output_type": "stream",
          "text": [
            "/usr/local/lib/python3.6/dist-packages/ipykernel_launcher.py:12: RuntimeWarning: divide by zero encountered in log\n",
            "  if sys.path[0] == '':\n"
          ],
          "name": "stderr"
        },
        {
          "output_type": "stream",
          "text": [
            "Tomó 29.01 segundos \n"
          ],
          "name": "stdout"
        },
        {
          "output_type": "stream",
          "text": [
            "Warning in <TROOT::Append>: Replacing existing TH1: HIST (Potential memory leak).\n",
            "Warning in <TROOT::Append>: Replacing existing TH1: HIST (Potential memory leak).\n",
            "Warning in <TROOT::Append>: Replacing existing TH1: HIST (Potential memory leak).\n",
            "Warning in <TROOT::Append>: Replacing existing TH1: HIST (Potential memory leak).\n",
            "Warning in <TROOT::Append>: Replacing existing TH1: HIST (Potential memory leak).\n",
            "Warning in <TROOT::Append>: Replacing existing TH1: HIST (Potential memory leak).\n",
            "Warning in <TROOT::Append>: Replacing existing TH1: HIST (Potential memory leak).\n",
            "Warning in <TROOT::Append>: Replacing existing TH1: HIST (Potential memory leak).\n"
          ],
          "name": "stderr"
        }
      ]
    },
    {
      "cell_type": "code",
      "metadata": {
        "id": "jJ0qKYARCWMV",
        "colab_type": "code",
        "colab": {
          "base_uri": "https://localhost:8080/",
          "height": 34
        },
        "outputId": "38eb4f40-5cf5-4d53-9462-b90ea421959f"
      },
      "source": [
        "minmu = min(Chi_mu)\n",
        "indexmu = Chi_mu.index(minmu)\n",
        "\n",
        "print(\"mu mínimo es:\", mu_par[indexmu])"
      ],
      "execution_count": 79,
      "outputs": [
        {
          "output_type": "stream",
          "text": [
            "mu mínimo es: 240.0\n"
          ],
          "name": "stdout"
        }
      ]
    },
    {
      "cell_type": "code",
      "metadata": {
        "id": "WUfyK9-5f8iv",
        "colab_type": "code",
        "outputId": "b8b67954-76b8-4f46-b92e-7846a85038c3",
        "colab": {
          "base_uri": "https://localhost:8080/",
          "height": 298
        }
      },
      "source": [
        "plt.plot(mu_par, Chi_mu)\n",
        "plt.xlabel(r'$\\mu$')\n",
        "plt.ylabel(r'$\\chi^2$')"
      ],
      "execution_count": 21,
      "outputs": [
        {
          "output_type": "execute_result",
          "data": {
            "text/plain": [
              "Text(0, 0.5, '$\\\\chi^2$')"
            ]
          },
          "metadata": {
            "tags": []
          },
          "execution_count": 21
        },
        {
          "output_type": "display_data",
          "data": {
            "image/png": "[encoded data removed]",
            "text/plain": [
              "<Figure size 432x288 with 1 Axes>"
            ]
          },
          "metadata": {
            "tags": []
          }
        }
      ]
    },
    {
      "cell_type": "markdown",
      "metadata": {
        "id": "yC07LGeqgcKz",
        "colab_type": "text"
      },
      "source": [
        "Encontramos un primer mínimo en $\\mu$ = 240; probaremos con este valor fijo para hallar mejor c"
      ]
    },
    {
      "cell_type": "code",
      "metadata": {
        "id": "bdiXaMrdga-q",
        "colab_type": "code",
        "outputId": "8773ff34-7b7b-48a7-f7fc-384680141356",
        "colab": {
          "base_uri": "https://localhost:8080/",
          "height": 190
        }
      },
      "source": [
        "begin = time.perf_counter() # contaremos el tiempo\n",
        "\n",
        "mu_fijo = 240.0 #Fijamos mu en valor encontrado \n",
        "c_par = np.arange(1, 15, 2.5)  #hacemos barrido sobre posibles valores de c\n",
        "\n",
        "Chi_c = [] # lista de chi2 en función de c\n",
        "for c_v in c_par:\n",
        "  YY = nw_hist((mu_fijo, c_v), bines, n_ent)\n",
        "  ch_cv = chi_hist(DMP, YY) \n",
        "  Chi_c.append(ch_cv)\n",
        "\n",
        "end = time.perf_counter()\n",
        "\n",
        "print(f'Tomó {round(end-begin, 2)} segundos ')"
      ],
      "execution_count": 22,
      "outputs": [
        {
          "output_type": "stream",
          "text": [
            "/usr/local/lib/python3.6/dist-packages/ipykernel_launcher.py:12: RuntimeWarning: divide by zero encountered in log\n",
            "  if sys.path[0] == '':\n"
          ],
          "name": "stderr"
        },
        {
          "output_type": "stream",
          "text": [
            "Tomó 74.74 segundos \n"
          ],
          "name": "stdout"
        },
        {
          "output_type": "stream",
          "text": [
            "Warning in <TROOT::Append>: Replacing existing TH1: HIST (Potential memory leak).\n",
            "Warning in <TROOT::Append>: Replacing existing TH1: HIST (Potential memory leak).\n",
            "Warning in <TROOT::Append>: Replacing existing TH1: HIST (Potential memory leak).\n",
            "Warning in <TROOT::Append>: Replacing existing TH1: HIST (Potential memory leak).\n",
            "Warning in <TROOT::Append>: Replacing existing TH1: HIST (Potential memory leak).\n",
            "Warning in <TROOT::Append>: Replacing existing TH1: HIST (Potential memory leak).\n"
          ],
          "name": "stderr"
        }
      ]
    },
    {
      "cell_type": "code",
      "metadata": {
        "id": "F8aQlfS5CuD1",
        "colab_type": "code",
        "colab": {
          "base_uri": "https://localhost:8080/",
          "height": 34
        },
        "outputId": "eb428788-8c97-44d7-9a14-90afbac429bf"
      },
      "source": [
        "minc = min(Chi_c)\n",
        "indexc = Chi_c.index(minc)\n",
        "\n",
        "print(\"c mínimo es:\", c_par[indexc])"
      ],
      "execution_count": 23,
      "outputs": [
        {
          "output_type": "stream",
          "text": [
            "c mínimo es: 6.0\n"
          ],
          "name": "stdout"
        }
      ]
    },
    {
      "cell_type": "code",
      "metadata": {
        "id": "8kqiuSYsg_LT",
        "colab_type": "code",
        "outputId": "187c3779-dfd8-4d4e-812a-d150f2a0ac06",
        "colab": {
          "base_uri": "https://localhost:8080/",
          "height": 296
        }
      },
      "source": [
        "plt.plot(c_par, Chi_c)\n",
        "plt.xlabel(r'$c$')\n",
        "plt.ylabel(r'$\\chi^2$')"
      ],
      "execution_count": 24,
      "outputs": [
        {
          "output_type": "execute_result",
          "data": {
            "text/plain": [
              "Text(0, 0.5, '$\\\\chi^2$')"
            ]
          },
          "metadata": {
            "tags": []
          },
          "execution_count": 24
        },
        {
          "output_type": "display_data",
          "data": {
            "image/png": "[encoded data removed]",
            "text/plain": [
              "<Figure size 432x288 with 1 Axes>"
            ]
          },
          "metadata": {
            "tags": []
          }
        }
      ]
    },
    {
      "cell_type": "markdown",
      "metadata": {
        "id": "LyX0yNHIiWBW",
        "colab_type": "text"
      },
      "source": [
        "En este caso, encontramos un mínimo en c=6. \n",
        "\n",
        "Por lo anterior, tenemos como candidatos a parámetros optimos: $\\mu$ = 240 y c = 6. \n",
        "\n",
        "Graficamos para ver que tan cerca estamos."
      ]
    },
    {
      "cell_type": "code",
      "metadata": {
        "id": "gsSzpvT_ixJH",
        "colab_type": "code",
        "outputId": "f3a9776a-fdbd-4ce3-c6cf-8c41518bf7e3",
        "colab": {
          "base_uri": "https://localhost:8080/",
          "height": 88
        }
      },
      "source": [
        "#------- Histograma con parámetros candidatos -------\n",
        "Hist_pre = nw_hist((240.0, 6.0), bines, n_ent)"
      ],
      "execution_count": 25,
      "outputs": [
        {
          "output_type": "stream",
          "text": [
            "/usr/local/lib/python3.6/dist-packages/ipykernel_launcher.py:12: RuntimeWarning: divide by zero encountered in log\n",
            "  if sys.path[0] == '':\n",
            "Warning in <TROOT::Append>: Replacing existing TH1: HIST (Potential memory leak).\n"
          ],
          "name": "stderr"
        }
      ]
    },
    {
      "cell_type": "code",
      "metadata": {
        "id": "G2yXLM_reGUt",
        "colab_type": "code",
        "outputId": "4b041efa-98f9-4b7b-ace3-3559c52d1a11",
        "colab": {
          "base_uri": "https://localhost:8080/",
          "height": 389
        }
      },
      "source": [
        "#======== Gráfica superpuesta del ajuste preliminar y los datos =======\n",
        "\n",
        "DMP.Draw()\n",
        "DMP.SetLineColor(30) # Datos en Verde\n",
        "Hist_pre.Draw(\"same\") # Ajuste en azul\n",
        "c1.Update()\n",
        "ROOT.gROOT.GetListOfCanvases().Draw()"
      ],
      "execution_count": 26,
      "outputs": [
        {
          "output_type": "display_data",
          "data": {
            "image/png": "[encoded data removed]",
            "text/plain": [
              "<IPython.core.display.Image object>"
            ]
          },
          "metadata": {
            "tags": []
          }
        }
      ]
    },
    {
      "cell_type": "markdown",
      "metadata": {
        "id": "IyJcU3k6jk7v",
        "colab_type": "text"
      },
      "source": [
        "Notamos que estamos cerca, por lo tanto haremos un nuevo ajuste con parámetros alrededor de estos puntos con una separación más baja. Es decir, aumentamos la resolución en el barrido de cada parámetro de acuerdo a lo que se nota gráficamente. "
      ]
    },
    {
      "cell_type": "code",
      "metadata": {
        "id": "JUBa7cVKjxT6",
        "colab_type": "code",
        "outputId": "0a6c6dcd-b4c1-42b9-d539-c3f922da7c42",
        "colab": {
          "base_uri": "https://localhost:8080/",
          "height": 224
        }
      },
      "source": [
        "begin = time.perf_counter()\n",
        "\n",
        "mu_par = np.arange(217.0, 221.0, 0.5) # Variamos mu con mayor resolución en rango más pequeño \n",
        "c_fijo = 6.0 # Trabajamos con c optimo hallado \n",
        "\n",
        "Chi_mu = []\n",
        "for mu_v in mu_par:\n",
        "  YY = nw_hist((mu_v, c_fijo), bines, n_ent)\n",
        "  ch_uv = chi_hist(DMP, YY) \n",
        "  Chi_mu.append(ch_uv)\n",
        "\n",
        "end = time.perf_counter()\n",
        "\n",
        "print(f'Tomó {round(end-begin, 2)} segundos ')"
      ],
      "execution_count": 29,
      "outputs": [
        {
          "output_type": "stream",
          "text": [
            "/usr/local/lib/python3.6/dist-packages/ipykernel_launcher.py:12: RuntimeWarning: divide by zero encountered in log\n",
            "  if sys.path[0] == '':\n"
          ],
          "name": "stderr"
        },
        {
          "output_type": "stream",
          "text": [
            "Tomó 63.17 segundos \n"
          ],
          "name": "stdout"
        },
        {
          "output_type": "stream",
          "text": [
            "Warning in <TROOT::Append>: Replacing existing TH1: HIST (Potential memory leak).\n",
            "Warning in <TROOT::Append>: Replacing existing TH1: HIST (Potential memory leak).\n",
            "Warning in <TROOT::Append>: Replacing existing TH1: HIST (Potential memory leak).\n",
            "Warning in <TROOT::Append>: Replacing existing TH1: HIST (Potential memory leak).\n",
            "Warning in <TROOT::Append>: Replacing existing TH1: HIST (Potential memory leak).\n",
            "Warning in <TROOT::Append>: Replacing existing TH1: HIST (Potential memory leak).\n",
            "Warning in <TROOT::Append>: Replacing existing TH1: HIST (Potential memory leak).\n",
            "Warning in <TROOT::Append>: Replacing existing TH1: HIST (Potential memory leak).\n"
          ],
          "name": "stderr"
        }
      ]
    },
    {
      "cell_type": "code",
      "metadata": {
        "id": "neXQrXTkDwQA",
        "colab_type": "code",
        "colab": {
          "base_uri": "https://localhost:8080/",
          "height": 34
        },
        "outputId": "b4b6d21e-ad22-4ae6-9f00-fc2202b859d9"
      },
      "source": [
        "minmu = min(Chi_mu)\n",
        "indexmu = Chi_mu.index(minmu)\n",
        "\n",
        "print(\"mu mínimo es:\", mu_par[indexmu])"
      ],
      "execution_count": 30,
      "outputs": [
        {
          "output_type": "stream",
          "text": [
            "mu mínimo es: 218.0\n"
          ],
          "name": "stdout"
        }
      ]
    },
    {
      "cell_type": "code",
      "metadata": {
        "id": "jsQVpXMTjxQZ",
        "colab_type": "code",
        "outputId": "48bfe67f-5994-4454-dbdf-3ab0f9543711",
        "colab": {
          "base_uri": "https://localhost:8080/",
          "height": 298
        }
      },
      "source": [
        "plt.plot(mu_par, Chi_mu)\n",
        "plt.xlabel(r'$\\mu$')\n",
        "plt.ylabel(r'$\\chi^2$')"
      ],
      "execution_count": 31,
      "outputs": [
        {
          "output_type": "execute_result",
          "data": {
            "text/plain": [
              "Text(0, 0.5, '$\\\\chi^2$')"
            ]
          },
          "metadata": {
            "tags": []
          },
          "execution_count": 31
        },
        {
          "output_type": "display_data",
          "data": {
            "image/png": "[encoded data removed]",
            "text/plain": [
              "<Figure size 432x288 with 1 Axes>"
            ]
          },
          "metadata": {
            "tags": []
          }
        }
      ]
    },
    {
      "cell_type": "markdown",
      "metadata": {
        "id": "lP9zNrU_ot9b",
        "colab_type": "text"
      },
      "source": [
        "Probaremos que tan bien se ajustan las gráficas con el cambio $\\mu$ = 218.0"
      ]
    },
    {
      "cell_type": "code",
      "metadata": {
        "id": "WD3v4PDsjxOv",
        "colab_type": "code",
        "outputId": "91ee62e8-91b0-464a-c7a5-d08b80c981b6",
        "colab": {
          "base_uri": "https://localhost:8080/",
          "height": 88
        }
      },
      "source": [
        "#---- Generamos Histograma con parámetros refinados\n",
        "\n",
        "Hist_post = nw_hist((218.0, 6.0), bines, n_ent)"
      ],
      "execution_count": 32,
      "outputs": [
        {
          "output_type": "stream",
          "text": [
            "/usr/local/lib/python3.6/dist-packages/ipykernel_launcher.py:12: RuntimeWarning: divide by zero encountered in log\n",
            "  if sys.path[0] == '':\n",
            "Warning in <TROOT::Append>: Replacing existing TH1: HIST (Potential memory leak).\n"
          ],
          "name": "stderr"
        }
      ]
    },
    {
      "cell_type": "code",
      "metadata": {
        "id": "ZjAfXhqDjxLO",
        "colab_type": "code",
        "outputId": "f755c986-443c-43d4-c76e-7fcac1c80f54",
        "colab": {
          "base_uri": "https://localhost:8080/",
          "height": 389
        }
      },
      "source": [
        "#======== Gráfica superpuesta del ajuste posterior y los datos =======\n",
        "\n",
        "#--- legenda para gráfica ROOT\n",
        "legend = ROOT.TLegend(0.1, 0.2)\n",
        "legend.AddEntry(DMP, \"Datos\", \"l\")\n",
        "legend.AddEntry(Hist_post, \"Ajuste\", \"l\")\n",
        "\n",
        "DMP.Draw()\n",
        "DMP.SetLineColor(30) # Datos en Verde\n",
        "Hist_post.Draw(\"same\") # Ajuste en Azul\n",
        "legend.Draw(\"same\")\n",
        "c1.Update()\n",
        "ROOT.gROOT.GetListOfCanvases().Draw()"
      ],
      "execution_count": 75,
      "outputs": [
        {
          "output_type": "display_data",
          "data": {
            "image/png": "[encoded data removed]",
            "text/plain": [
              "<IPython.core.display.Image object>"
            ]
          },
          "metadata": {
            "tags": []
          }
        }
      ]
    },
    {
      "cell_type": "markdown",
      "metadata": {
        "id": "J2xEwjil1iOe",
        "colab_type": "text"
      },
      "source": [
        "De esta manera, obtenemos un ajuste a los datos con los parametros $\\mu$=218.0 y c=6.0 en la distribución de Landau. "
      ]
    },
    {
      "cell_type": "code",
      "metadata": {
        "id": "lM7OobYj9Hev",
        "colab_type": "code",
        "colab": {}
      },
      "source": [
        ""
      ],
      "execution_count": 0,
      "outputs": []
    },
    {
      "cell_type": "markdown",
      "metadata": {
        "id": "PiojKbO0Fb0S",
        "colab_type": "text"
      },
      "source": [
        "Haciendo gráfica de $\\chi^2$ en función de $\\mu$ y c. \n",
        "\n",
        "Esta gráfica demora mucho en su elaboración, y se hace solo para cumplir con el entregable, pues el análisis para los parámetros optimos fue el mostrado anteriormente. "
      ]
    },
    {
      "cell_type": "code",
      "metadata": {
        "id": "psUUTl4wFinb",
        "colab_type": "code",
        "colab": {}
      },
      "source": [
        "begin = time.perf_counter()\n",
        "\n",
        "mus = np.arange(150, 260, 20) # Variamos mu a grandes pasos en rango grande \n",
        "cs = np.arange(1, 20, 3) # Variamos c a grandes pasos en rango grande  \n",
        "\n",
        "Chi2 = []\n",
        "for mu_v in mus:\n",
        "  subchi = []\n",
        "  for c_v in cs:\n",
        "    YY = nw_hist((mu_v, c_v), bines, n_ent)\n",
        "    ch_uv = chi_hist(DMP, YY) \n",
        "    subchi.append(ch_uv)\n",
        "  Chi2.append(subchi)\n",
        "\n",
        "end = time.perf_counter()\n",
        "\n",
        "print(f'Tomó {round(end-begin, 2)} segundos ')"
      ],
      "execution_count": 0,
      "outputs": []
    },
    {
      "cell_type": "code",
      "metadata": {
        "id": "rfipKSv7Fie4",
        "colab_type": "code",
        "colab": {
          "base_uri": "https://localhost:8080/",
          "height": 34
        },
        "outputId": "4421fd17-2cfe-47dd-86b3-43986cf7b8fd"
      },
      "source": [
        "CHI2 = np.array(Chi2)\n",
        "\n",
        "print(CHI2.shape)"
      ],
      "execution_count": 47,
      "outputs": [
        {
          "output_type": "stream",
          "text": [
            "(4, 6)\n"
          ],
          "name": "stdout"
        }
      ]
    },
    {
      "cell_type": "markdown",
      "metadata": {
        "id": "aNlQXCPmHnj5",
        "colab_type": "text"
      },
      "source": [
        "Haremos mapa de color con el barrido de $\\chi^2$ sobre los parámetros $\\mu$ y c."
      ]
    },
    {
      "cell_type": "code",
      "metadata": {
        "id": "f0zPQVQ7Fh4_",
        "colab_type": "code",
        "colab": {}
      },
      "source": [
        "#====== Importamos librería necesaria =======\n",
        "from matplotlib import cm\n",
        "from matplotlib.colors import ListedColormap, LinearSegmentedColormap"
      ],
      "execution_count": 0,
      "outputs": []
    },
    {
      "cell_type": "code",
      "metadata": {
        "id": "54duvjiCH0az",
        "colab_type": "code",
        "colab": {}
      },
      "source": [
        "viridis = cm.get_cmap('Oranges_r', 128)\n",
        "newcolors = viridis(np.linspace(0, 1, 128))\n",
        "newcmp = ListedColormap(newcolors)"
      ],
      "execution_count": 0,
      "outputs": []
    },
    {
      "cell_type": "code",
      "metadata": {
        "id": "OaF2z0xkH4yx",
        "colab_type": "code",
        "colab": {
          "base_uri": "https://localhost:8080/",
          "height": 355
        },
        "outputId": "66f623ac-54b4-43c4-9c42-14d867580456"
      },
      "source": [
        "fig, ax = plt.subplots(1, 1, figsize=(8, 5))\n",
        "\n",
        "psm = ax.pcolormesh(CHI2, cmap=newcmp, rasterized=True)\n",
        "fig.colorbar(psm, ax=ax, label=r'$\\chi^2$')\n",
        "ax.set_xticks(np.arange(len(cs))); ax.set_xticklabels(cs)\n",
        "ax.set_yticks(np.arange(len(mus[:-1]))); ax.set_yticklabels(mus[:-1])\n",
        "ax.set_title(r'Mapa de color para $\\chi^2 $')\n",
        "ax.set_xlabel(r'$c_{value}$')\n",
        "ax.set_ylabel(r'$\\mu_{value}$')\n",
        "plt.show()"
      ],
      "execution_count": 69,
      "outputs": [
        {
          "output_type": "display_data",
          "data": {
            "image/png": "[encoded data removed]",
            "text/plain": [
              "<Figure size 576x360 with 2 Axes>"
            ]
          },
          "metadata": {
            "tags": []
          }
        }
      ]
    },
    {
      "cell_type": "code",
      "metadata": {
        "id": "P2KHen1SH_D5",
        "colab_type": "code",
        "colab": {}
      },
      "source": [
        "*"
      ],
      "execution_count": 0,
      "outputs": []
    }
  ]
}