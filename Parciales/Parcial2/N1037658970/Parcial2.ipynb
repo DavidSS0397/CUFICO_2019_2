{
 "cells": [
  {
   "cell_type": "code",
   "execution_count": 1,
   "metadata": {
    "colab": {
     "base_uri": "https://localhost:8080/",
     "height": 1000
    },
    "colab_type": "code",
    "id": "gYEA4UKNplb6",
    "outputId": "33593370-ef7d-4997-8372-4e1a9d3e337c"
   },
   "outputs": [
    {
     "name": "stdout",
     "output_type": "stream",
     "text": [
      "Reading package lists... Done\n",
      "Building dependency tree       \n",
      "Reading state information... Done\n",
      "libxext-dev is already the newest version (2:1.3.3-1).\n",
      "libxext-dev set to manually installed.\n",
      "libxft-dev is already the newest version (2.3.2-1).\n",
      "binutils is already the newest version (2.30-21ubuntu1~18.04.2).\n",
      "binutils set to manually installed.\n",
      "cmake is already the newest version (3.10.2-1ubuntu2.18.04.1).\n",
      "g++ is already the newest version (4:7.4.0-1ubuntu2.3).\n",
      "g++ set to manually installed.\n",
      "gcc is already the newest version (4:7.4.0-1ubuntu2.3).\n",
      "gcc set to manually installed.\n",
      "gfortran is already the newest version (4:7.4.0-1ubuntu2.3).\n",
      "git is already the newest version (1:2.17.1-1ubuntu0.4).\n",
      "libx11-dev is already the newest version (2:1.6.4-3ubuntu0.2).\n",
      "libx11-dev set to manually installed.\n",
      "tar is already the newest version (1.29b-2ubuntu0.1).\n",
      "The following additional packages will be installed:\n",
      "  libapr1 libaprutil1 libdpkg-perl libserf-1-1 libsvn1\n",
      "Suggested packages:\n",
      "  debian-keyring bzr db5.3-util libapache2-mod-svn subversion-tools\n",
      "Recommended packages:\n",
      "  fakeroot libalgorithm-merge-perl libfile-fcntllock-perl\n",
      "The following NEW packages will be installed:\n",
      "  libapr1 libaprutil1 libserf-1-1 libsvn1 libxpm-dev subversion\n",
      "The following packages will be upgraded:\n",
      "  dpkg-dev libdpkg-perl\n",
      "2 upgraded, 6 newly installed, 0 to remove and 33 not upgraded.\n",
      "Need to get 3,142 kB of archives.\n",
      "After this operation, 10.1 MB of additional disk space will be used.\n",
      "Get:1 http://archive.ubuntu.com/ubuntu bionic-updates/main amd64 dpkg-dev all 1.19.0.5ubuntu2.3 [607 kB]\n",
      "Get:2 http://archive.ubuntu.com/ubuntu bionic-updates/main amd64 libdpkg-perl all 1.19.0.5ubuntu2.3 [211 kB]\n",
      "Get:3 http://archive.ubuntu.com/ubuntu bionic/main amd64 libapr1 amd64 1.6.3-2 [90.9 kB]\n",
      "Get:4 http://archive.ubuntu.com/ubuntu bionic/main amd64 libaprutil1 amd64 1.6.1-2 [84.4 kB]\n",
      "Get:5 http://archive.ubuntu.com/ubuntu bionic/universe amd64 libserf-1-1 amd64 1.3.9-6 [44.4 kB]\n",
      "Get:6 http://archive.ubuntu.com/ubuntu bionic/universe amd64 libsvn1 amd64 1.9.7-4ubuntu1 [1,183 kB]\n",
      "Get:7 http://archive.ubuntu.com/ubuntu bionic/main amd64 libxpm-dev amd64 1:3.5.12-1 [87.4 kB]\n",
      "Get:8 http://archive.ubuntu.com/ubuntu bionic/universe amd64 subversion amd64 1.9.7-4ubuntu1 [834 kB]\n",
      "Fetched 3,142 kB in 13s (241 kB/s)\n",
      "(Reading database ... 132684 files and directories currently installed.)\n",
      "Preparing to unpack .../0-dpkg-dev_1.19.0.5ubuntu2.3_all.deb ...\n",
      "Unpacking dpkg-dev (1.19.0.5ubuntu2.3) over (1.19.0.5ubuntu2.2) ...\n",
      "Preparing to unpack .../1-libdpkg-perl_1.19.0.5ubuntu2.3_all.deb ...\n",
      "Unpacking libdpkg-perl (1.19.0.5ubuntu2.3) over (1.19.0.5ubuntu2.2) ...\n",
      "Selecting previously unselected package libapr1:amd64.\n",
      "Preparing to unpack .../2-libapr1_1.6.3-2_amd64.deb ...\n",
      "Unpacking libapr1:amd64 (1.6.3-2) ...\n",
      "Selecting previously unselected package libaprutil1:amd64.\n",
      "Preparing to unpack .../3-libaprutil1_1.6.1-2_amd64.deb ...\n",
      "Unpacking libaprutil1:amd64 (1.6.1-2) ...\n",
      "Selecting previously unselected package libserf-1-1:amd64.\n",
      "Preparing to unpack .../4-libserf-1-1_1.3.9-6_amd64.deb ...\n",
      "Unpacking libserf-1-1:amd64 (1.3.9-6) ...\n",
      "Selecting previously unselected package libsvn1:amd64.\n",
      "Preparing to unpack .../5-libsvn1_1.9.7-4ubuntu1_amd64.deb ...\n",
      "Unpacking libsvn1:amd64 (1.9.7-4ubuntu1) ...\n",
      "Selecting previously unselected package libxpm-dev:amd64.\n",
      "Preparing to unpack .../6-libxpm-dev_1%3a3.5.12-1_amd64.deb ...\n",
      "Unpacking libxpm-dev:amd64 (1:3.5.12-1) ...\n",
      "Selecting previously unselected package subversion.\n",
      "Preparing to unpack .../7-subversion_1.9.7-4ubuntu1_amd64.deb ...\n",
      "Unpacking subversion (1.9.7-4ubuntu1) ...\n",
      "Setting up libapr1:amd64 (1.6.3-2) ...\n",
      "Setting up libxpm-dev:amd64 (1:3.5.12-1) ...\n",
      "Setting up libdpkg-perl (1.19.0.5ubuntu2.3) ...\n",
      "Setting up dpkg-dev (1.19.0.5ubuntu2.3) ...\n",
      "Processing triggers for libc-bin (2.27-3ubuntu1) ...\n",
      "Setting up libaprutil1:amd64 (1.6.1-2) ...\n",
      "Processing triggers for man-db (2.8.3-2ubuntu0.1) ...\n",
      "Setting up libserf-1-1:amd64 (1.3.9-6) ...\n",
      "Setting up libsvn1:amd64 (1.9.7-4ubuntu1) ...\n",
      "Setting up subversion (1.9.7-4ubuntu1) ...\n",
      "Processing triggers for libc-bin (2.27-3ubuntu1) ...\n"
     ]
    }
   ],
   "source": [
    "!apt-get install git dpkg-dev cmake g++ gcc binutils libx11-dev libxpm-dev libxft-dev libxext-dev tar gfortran subversion"
   ]
  },
  {
   "cell_type": "code",
   "execution_count": 2,
   "metadata": {
    "colab": {
     "base_uri": "https://localhost:8080/",
     "height": 125
    },
    "colab_type": "code",
    "id": "gMhjqJ9noRcX",
    "outputId": "0bb917e6-7d9d-4fb3-b78a-25ae10b574a9"
   },
   "outputs": [
    {
     "name": "stdout",
     "output_type": "stream",
     "text": [
      "Go to this URL in a browser: https://accounts.google.com/o/oauth2/auth?client_id=947318989803-6bn6qk8qdgf4n4g3pfee6491hc0brc4i.apps.googleusercontent.com&redirect_uri=urn%3aietf%3awg%3aoauth%3a2.0%3aoob&response_type=code&scope=email%20https%3a%2f%2fwww.googleapis.com%2fauth%2fdocs.test%20https%3a%2f%2fwww.googleapis.com%2fauth%2fdrive%20https%3a%2f%2fwww.googleapis.com%2fauth%2fdrive.photos.readonly%20https%3a%2f%2fwww.googleapis.com%2fauth%2fpeopleapi.readonly\n",
      "\n",
      "Enter your authorization code:\n",
      "··········\n",
      "Mounted at /content/drive\n"
     ]
    }
   ],
   "source": [
    "# Load the Drive helper and mount\n",
    "from google.colab import drive\n",
    "\n",
    "# This will prompt for authorization.\n",
    "drive.mount('/content/drive')"
   ]
  },
  {
   "cell_type": "code",
   "execution_count": 3,
   "metadata": {
    "colab": {
     "base_uri": "https://localhost:8080/",
     "height": 176
    },
    "colab_type": "code",
    "id": "dt2PEUjQo0RY",
    "outputId": "b4486aaa-ab3e-4731-ccae-e9d7c02fbc9d"
   },
   "outputs": [
    {
     "name": "stdout",
     "output_type": "stream",
     "text": [
      "BasicAnalysis.ipynb\t  HistogrammingInROOT.ipynb\n",
      "BasicPyROOTExample.ipynb  monje-a-lo-bonzo-blanco-y-negro.png\n",
      "Chi2Fitting.ipynb\t  piano-C5.wav\n",
      "Data5.root\t\t  Random2DHistos\n",
      "DatosParcial2\t\t  root_build_google_yikes.tar\n",
      "DatosResonancia.root\t  Temporal\n",
      "FFT_imagen.ipynb\t  TrimmedTree.root\n",
      "FFT.ipynb\t\t  TTreeExcercise.ipynb\n",
      "FLUTEMI.WAV\n"
     ]
    }
   ],
   "source": [
    "# After executing the cell above, Drive\n",
    "# files will be present in \"/content/drive/My Drive\".\n",
    "!ls \"/content/drive/Shared drives/PyROOT_in_Google/\""
   ]
  },
  {
   "cell_type": "code",
   "execution_count": 0,
   "metadata": {
    "colab": {},
    "colab_type": "code",
    "id": "tRQGlQ4Hqau9"
   },
   "outputs": [],
   "source": [
    "!tar -xf /content/drive/Shared\\ drives/PyROOT_in_Google/root_build_google_yikes.tar"
   ]
  },
  {
   "cell_type": "code",
   "execution_count": 5,
   "metadata": {
    "colab": {
     "base_uri": "https://localhost:8080/",
     "height": 87
    },
    "colab_type": "code",
    "id": "DfLQ4DrprjLU",
    "outputId": "1e8085df-724e-4a1b-949b-fc0bb506aa7c"
   },
   "outputs": [
    {
     "name": "stdout",
     "output_type": "stream",
     "text": [
      "total 12K\n",
      "drwxr-xr-x 44 root root 4.0K Sep 20  2018 root_build\n",
      "drwxr-xr-x  1 root root 4.0K Nov  6 16:17 sample_data\n",
      "drwx------  4 root root 4.0K Nov 17 21:30 drive\n"
     ]
    }
   ],
   "source": [
    "!ls -ltrh"
   ]
  },
  {
   "cell_type": "code",
   "execution_count": 0,
   "metadata": {
    "colab": {},
    "colab_type": "code",
    "id": "N3ndoY6iu6_J"
   },
   "outputs": [],
   "source": [
    "import sys\n",
    "sys.path.append(\"/content/root_build/\")\n",
    "sys.path.append(\"/content/root_build/bin/\")\n",
    "sys.path.append(\"/content/root_build/include/\")\n",
    "sys.path.append(\"/content/root_build/lib/\")"
   ]
  },
  {
   "cell_type": "code",
   "execution_count": 7,
   "metadata": {
    "colab": {
     "base_uri": "https://localhost:8080/",
     "height": 34
    },
    "colab_type": "code",
    "id": "rGBwkzJ4DLAY",
    "outputId": "fbee9207-bfd0-4248-d576-73ffc5f8bda5"
   },
   "outputs": [
    {
     "name": "stdout",
     "output_type": "stream",
     "text": [
      "Welcome to JupyROOT 6.14/04\n"
     ]
    }
   ],
   "source": [
    "# Librerias\n",
    "import ROOT\n",
    "import numpy as np\n",
    "from scipy  import integrate\n",
    "import matplotlib.pyplot as plt\n",
    "from mpl_toolkits.mplot3d import Axes3D  \n",
    "from matplotlib import cm\n",
    "from matplotlib.ticker import LinearLocator, FormatStrFormatter"
   ]
  },
  {
   "cell_type": "markdown",
   "metadata": {
    "colab_type": "text",
    "id": "iHxkcBfIvUFC"
   },
   "source": [
    "# 1. Lectura y muestra de los datos"
   ]
  },
  {
   "cell_type": "code",
   "execution_count": 35,
   "metadata": {
    "colab": {
     "base_uri": "https://localhost:8080/",
     "height": 624
    },
    "colab_type": "code",
    "id": "shMmPlNbon54",
    "outputId": "c74cbd6f-dd43-478d-acd6-76e1d6706d3d"
   },
   "outputs": [
    {
     "name": "stderr",
     "output_type": "stream",
     "text": [
      "Warning in <TROOT::Append>: Replacing existing TH1: Datos (Potential memory leak).\n",
      "Warning in <TCanvas::Constructor>: Deleting canvas with same name: c1\n"
     ]
    },
    {
     "data": {
      "image/png": "[encoded data removed]",
      "text/plain": [
       "<IPython.core.display.Image object>"
      ]
     },
     "metadata": {
      "tags": []
     },
     "output_type": "display_data"
    }
   ],
   "source": [
    "# Lectura de datos\n",
    "!cp \"/content/drive/My Drive/Semestre VIII/Física Computacional I/PyROOT/N1037658970.root\" \"N1037658970.root\"\n",
    "Data1=ROOT.TChain(\"SystemTree\")\n",
    "Data1.Add(\"N1037658970.root\")\n",
    "\n",
    "N=Data1.GetEntries() # Numero de datos a analizar\n",
    "NBins = 300 # Numero de bins del histograma\n",
    "xmin = 0\n",
    "xmax = 2000\n",
    "\n",
    "Datos = ROOT.TH1F( 'Datos','Datos', NBins, xmin, xmax )\n",
    "# Se llena el histograma\n",
    "for entry in Data1:\n",
    "  Datos.Fill(entry.x)\n",
    "\n",
    "# Grafica del histograma\n",
    "c1 = ROOT.TCanvas( 'c1', 'Datos', 200, 10,900, 600 )\n",
    "c1.SetFillColor( 0 )\n",
    "Datos.Draw()\n",
    "c1.Update()\n",
    "ROOT.gROOT.GetListOfCanvases().Draw()"
   ]
  },
  {
   "cell_type": "markdown",
   "metadata": {
    "colab_type": "text",
    "id": "cmBDciW8z80L"
   },
   "source": [
    "# 2. Algoritmo de metrópolis"
   ]
  },
  {
   "cell_type": "code",
   "execution_count": 0,
   "metadata": {
    "colab": {},
    "colab_type": "code",
    "id": "mU1OmjG22mCx"
   },
   "outputs": [],
   "source": [
    "\"\"\"\n",
    "Algoritmo de metropolis\n",
    "\n",
    "*Genera N datos siguiendo la distribucion de probabilidad\n",
    "de Landau. Para esta distribucion se usa la funcion de\n",
    "ROOT ROOT.TMath.Landau.\n",
    "\n",
    "Parametros\n",
    "N -> Numero de datos a generar\n",
    "a -> x minimo\n",
    "b -> x maximo\n",
    "mu \n",
    "c\n",
    "\"\"\"\n",
    "def metropolis(N,a,b,mu,c):\n",
    "  #Valor inicial con probabilidad diferente de cero\n",
    "  while True:\n",
    "    phi_0 = (b-a)*np.random.random()+a\n",
    "    phi = [phi_0]\n",
    "    P_phi_1 = ROOT.TMath.Landau(phi[-1],mu,c, True)\n",
    "    if P_phi_1 != 0.0:\n",
    "      break\n",
    "\n",
    "  while len(phi)<N:\n",
    "    phi_p = (b-a)*np.random.random()+a\n",
    "    P_phi_p = ROOT.TMath.Landau(phi_p,mu, c, True)\n",
    "    P_phi_1 = ROOT.TMath.Landau(phi[-1],mu,c, True)\n",
    "    if P_phi_p != 0.0:     \n",
    "      d_S = -np.log(P_phi_p/P_phi_1)\n",
    "\n",
    "      if d_S<0:\n",
    "        phi.append(phi_p)\n",
    "\n",
    "      elif d_S>0:\n",
    "        x = np.random.random()\n",
    "\n",
    "        if x<P_phi_p/P_phi_1:\n",
    "          phi.append(phi_p)\n",
    "\n",
    "        elif x>P_phi_p/P_phi_1:\n",
    "          pass\n",
    "\n",
    "    else:\n",
    "      pass\n",
    "    \n",
    "  return phi\n",
    "  \"\"\"\n",
    "  Retorna N datos\n",
    "  \"\"\""
   ]
  },
  {
   "cell_type": "code",
   "execution_count": 0,
   "metadata": {
    "colab": {},
    "colab_type": "code",
    "id": "Chqn3Znjvb7e"
   },
   "outputs": [],
   "source": [
    "# Se genera una muestra de N valores siguiendo la distribucion de probabilidad de Landau\n",
    "mu = 200\n",
    "c = 20\n",
    "x = metropolis(N,xmin,xmax,mu,c)"
   ]
  },
  {
   "cell_type": "markdown",
   "metadata": {
    "colab_type": "text",
    "id": "JFXUqKPk07hg"
   },
   "source": [
    "# 3. Ajuste de los datos a la función de probabilidad de Landau "
   ]
  },
  {
   "cell_type": "code",
   "execution_count": 0,
   "metadata": {
    "colab": {},
    "colab_type": "code",
    "id": "LFsiRzi164-A"
   },
   "outputs": [],
   "source": [
    "\"\"\"\n",
    "Calculo de chi2\n",
    "\n",
    "Parametros\n",
    "datos \n",
    "metropolis \n",
    "ndf -> Numero de grados de libertad\n",
    "\"\"\"\n",
    "def chi(datos,metropolis,ndf):\n",
    "  chi2 = 0\n",
    "  for j in range(0,ndf):\n",
    "    try:\n",
    "      chi2 += (datos.GetBinContent(j)-metropolis.GetBinContent(j))**2/datos.GetBinContent(j)\n",
    "    except ZeroDivisionError:\n",
    "      chi2 += 0  \n",
    "  return chi2"
   ]
  },
  {
   "cell_type": "code",
   "execution_count": 40,
   "metadata": {
    "colab": {
     "base_uri": "https://localhost:8080/",
     "height": 34
    },
    "colab_type": "code",
    "id": "NXi-6FJj31PG",
    "outputId": "e8159a3f-e569-4ad3-a275-8cd9815b3eac"
   },
   "outputs": [
    {
     "name": "stderr",
     "output_type": "stream",
     "text": [
      "Warning in <TROOT::Append>: Replacing existing TH1: Datos metropolis (Potential memory leak).\n"
     ]
    }
   ],
   "source": [
    "ndf = NBins # Numero de grados de libertad\n",
    "\n",
    "Mu = np.arange(200,300,10) # Arreglo de mu a evaluar\n",
    "C = np.arange(1,6,1) # Arreglo de c a evaluar\n",
    "Chi = np.zeros((len(Mu),len(C))) # Matriz  que alberga todos los chi2\n",
    "Metro = ROOT.TH1F( 'Datos metropolis','Ajuste', NBins, xmin, xmax )"
   ]
  },
  {
   "cell_type": "code",
   "execution_count": 0,
   "metadata": {
    "colab": {},
    "colab_type": "code",
    "id": "XfOb5iRb4uJ3"
   },
   "outputs": [],
   "source": [
    "# Evaluacion de los posibles parametros\n",
    "for i,mu in enumerate(Mu):\n",
    "  for j,c in enumerate(C):\n",
    "    # Generar histograma con algoritmo de metropolis\n",
    "    metro = metropolis(N,xmin,xmax,mu,c)\n",
    "    Metropolis = Metro.Clone()\n",
    "    \n",
    "    # Llenar datos del histograma\n",
    "    for entry in metro:\n",
    "      Metropolis.Fill(entry)\n",
    "    # Calcular chi2\n",
    "    Chi[i][j] = chi(Datos,Metropolis,ndf)/ndf"
   ]
  },
  {
   "cell_type": "markdown",
   "metadata": {
    "colab_type": "text",
    "id": "GqzwUCdH4tg_"
   },
   "source": [
    "## Gráfica de $\\chi^2(\\mu,c)/ndf$"
   ]
  },
  {
   "cell_type": "code",
   "execution_count": 42,
   "metadata": {
    "colab": {
     "base_uri": "https://localhost:8080/",
     "height": 411
    },
    "colab_type": "code",
    "id": "Fp04ZSNo06sV",
    "outputId": "b7a78d06-05c8-4ec5-9cba-cccdda255db6"
   },
   "outputs": [
    {
     "data": {
      "image/png": "[encoded data removed]",
      "text/plain": [
       "<Figure size 504x504 with 1 Axes>"
      ]
     },
     "metadata": {
      "tags": []
     },
     "output_type": "display_data"
    }
   ],
   "source": [
    "C_g,Mu_g = np.meshgrid(C,Mu)\n",
    "\n",
    "fig = plt.figure(figsize=(7,7))\n",
    "ax = fig.gca(projection='3d')\n",
    "surf = ax.plot_surface(Mu_g, C_g, Chi, cmap=cm.coolwarm,linewidth=0, antialiased=False)\n",
    "\n",
    "ax.set_xlabel(r'$\\mu$')\n",
    "ax.set_ylabel(r'$c$')\n",
    "ax.set_zlabel(r'$\\chi^2/ndf$')\n",
    "ax.set_title(r'$\\chi^2(\\mu,c)/ndf$')\n",
    "plt.show()"
   ]
  },
  {
   "cell_type": "code",
   "execution_count": 0,
   "metadata": {
    "colab": {},
    "colab_type": "code",
    "id": "nHzoiIW4Vogk"
   },
   "outputs": [],
   "source": [
    "# mu y c optimos\n",
    "i,j = np.where(np.min(Chi)==Chi)\n",
    "Mu_min = Mu[i[0]]\n",
    "C_min = C[j[0]]\n",
    "\n",
    "metro = metropolis(N,xmin,xmax,Mu_min,C_min)\n",
    "# Llenar datos del histograma\n",
    "for entry in metro:\n",
    "  Metro.Fill(entry)"
   ]
  },
  {
   "cell_type": "markdown",
   "metadata": {
    "colab_type": "text",
    "id": "flVbm94w55f6"
   },
   "source": [
    "## Gráfica del histograma de los datos con la función de ajuste óptimo"
   ]
  },
  {
   "cell_type": "code",
   "execution_count": 44,
   "metadata": {
    "colab": {
     "base_uri": "https://localhost:8080/",
     "height": 588
    },
    "colab_type": "code",
    "id": "PIx9MLON7Cbn",
    "outputId": "4aab9eae-5296-4e07-8e7e-06bc8de576ba"
   },
   "outputs": [
    {
     "data": {
      "image/png": "[encoded data removed]",
      "text/plain": [
       "<IPython.core.display.Image object>"
      ]
     },
     "metadata": {
      "tags": []
     },
     "output_type": "display_data"
    }
   ],
   "source": [
    "c1 = ROOT.TCanvas( 'c2', 'Ajuste', 200, 10, 900, 600 )\n",
    "legend = ROOT.TLegend(.73,.82,.87,.63)\n",
    "legend.SetFillColor(0)\n",
    "legend.SetFillStyle(0)\n",
    "legend.SetTextFont(42)\n",
    "legend.SetTextSize(0.035)\n",
    "c1.SetGridx()\n",
    "c1.SetGridy()\n",
    "\n",
    "Datos.Draw()\n",
    "Datos.SetLineColor(50)\n",
    "Datos.SetLineWidth(4)\n",
    "Datos.SetStats(False)\n",
    "Metro.Draw(\"Same\")\n",
    "Metro.SetLineWidth(4)\n",
    "legend.AddEntry(\"Datos metropolis\")\n",
    "legend.AddEntry(\"Datos\")\n",
    "legend.Draw()\n",
    "c1.Update()\n",
    "ROOT.gROOT.GetListOfCanvases().Draw()"
   ]
  },
  {
   "cell_type": "code",
   "execution_count": 50,
   "metadata": {
    "colab": {
     "base_uri": "https://localhost:8080/",
     "height": 52
    },
    "colab_type": "code",
    "id": "H839DE0GmU_P",
    "outputId": "1f91802f-d3a3-4cf0-93f1-6bca3d6701ee"
   },
   "outputs": [
    {
     "name": "stdout",
     "output_type": "stream",
     "text": [
      "mu optimo: 230\n",
      "c optimo: 3\n"
     ]
    }
   ],
   "source": [
    "print(\"mu optimo:\",Mu_min)\n",
    "print(\"c optimo:\",C_min)\n"
   ]
  }
 ],
 "metadata": {
  "accelerator": "GPU",
  "colab": {
   "collapsed_sections": [],
   "name": "Parcial2.ipynb",
   "provenance": []
  },
  "kernelspec": {
   "display_name": "Python 3",
   "language": "python",
   "name": "python3"
  },
  "language_info": {
   "codemirror_mode": {
    "name": "ipython",
    "version": 3
   },
   "file_extension": ".py",
   "mimetype": "text/x-python",
   "name": "python",
   "nbconvert_exporter": "python",
   "pygments_lexer": "ipython3",
   "version": "3.6.8"
  }
 },
 "nbformat": 4,
 "nbformat_minor": 1
}
