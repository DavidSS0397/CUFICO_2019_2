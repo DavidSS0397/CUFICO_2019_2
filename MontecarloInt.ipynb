{
  "nbformat": 4,
  "nbformat_minor": 0,
  "metadata": {
    "colab": {
      "name": "MontecarloInt.ipynb",
      "provenance": [],
      "include_colab_link": true
    },
    "kernelspec": {
      "name": "python3",
      "display_name": "Python 3"
    }
  },
  "cells": [
    {
      "cell_type": "markdown",
      "metadata": {
        "id": "view-in-github",
        "colab_type": "text"
      },
      "source": [
        "<a href=\"https://colab.research.google.com/github/samuelquitiang/CUFICO_2019_2/blob/master/MontecarloInt.ipynb\" target=\"_parent\"><img src=\"https://colab.research.google.com/assets/colab-badge.svg\" alt=\"Open In Colab\"/></a>"
      ]
    },
    {
      "cell_type": "markdown",
      "metadata": {
        "id": "eIOZaYYwrDZL",
        "colab_type": "text"
      },
      "source": [
        "###Montecarlo integration\n",
        "integrador de montecarlo para 1 y 3 dim, obteniendo su varianza comparado con scipy.integrate\n",
        "  "
      ]
    },
    {
      "cell_type": "code",
      "metadata": {
        "id": "_1YgTe4msQo4",
        "colab_type": "code",
        "outputId": "7902917d-708f-4aff-9283-544526abbd59",
        "colab": {
          "base_uri": "https://localhost:8080/",
          "height": 766
        }
      },
      "source": [
        "import numpy as np \n",
        "import scipy.integrate as sc\n",
        "from random import random \n",
        "import matplotlib.pyplot as plt\n",
        "from numpy import pi\n",
        "\n",
        "\n",
        "#Metodo de monte Carlo\n",
        "\n",
        "N=(10,100,1000,10000,10000)\n",
        "a=1\n",
        "b=10\n",
        "\n",
        "\n",
        "def f(x):\n",
        "    return x**-3\n",
        "def f1(x):\n",
        "    return x**-0.5\n",
        "def f2(x,y,z):\n",
        "    return 1/x + y+ z**2\n",
        "ri=(1,0,0)\n",
        "rf=(10,2,2)\n",
        "If=sc.quad( lambda x:x**-3,1,10)\n",
        "If1=sc.quad(f1,1,10)\n",
        "\n",
        "print(If)\n",
        "print(If1)\n",
        "def M(f,n,a,b):    \n",
        "        val=[]\n",
        "        I=0\n",
        "        S=0\n",
        "        for j in range(n):\n",
        "            x=random()\n",
        "            I+=f(x*(b-a)+a) \n",
        "            E=I/n\n",
        "            S+=(f(x*(b-a)+a)**2)-E**2\n",
        "        S*=(b-a)/n\n",
        "        E=((b-a)*E)   \n",
        "        return S,E\n",
        "def M3(f,n,xi,xf,yi,yf,zi,zf):\n",
        "    s=0\n",
        "    e=0\n",
        "    for i in range(n):\n",
        "        xn = (xf-xi)*random()+xi\n",
        "        yn = (yf-yi)*random()+yi\n",
        "        zn = (zf-zi)*random()+zi\n",
        "        e+=f(xn,yn,zn)\n",
        "        E=e/n\n",
        "\n",
        "        s+=(f(xn,yn,zn))**2 - E**2\n",
        "        S=s/n\n",
        "    return S,E\n",
        "NS_f=[]\n",
        "NS_f1=[]\n",
        "NS_f2=[]\n",
        "\n",
        "NE_f=[]\n",
        "NE_f1=[]\n",
        "NE_f2=[]\n",
        "\n",
        "\n",
        "for i in N:\n",
        "    NS_f.append(M(f,i,a,b)[0])\n",
        "    NS_f1.append(M(f1,i,a,b)[0])\n",
        "    NS_f2.append(M3(f2,i,ri[0],rf[0],ri[1],rf[1],ri[2],rf[2])[0])\n",
        "\n",
        "    NE_f.append(M(f,i,a,b)[1])\n",
        "    NE_f1.append(M(f1,i,a,b)[1])\n",
        "    NE_f2.append(M3(f2,i,ri[0],rf[0],ri[1],rf[1],ri[2],rf[2])[1])\n",
        "\n",
        "    print('Los valores de E y S para n=%i son:'%(i))\n",
        "    print(' Función       E       S    ') \n",
        "    print(' f=$x⁻³$       %.3f    %.3f '%(NE_f[-1],NS_f[-1]))\n",
        "    print(' f=$x**(1/2)$   %.3f    %.3f '%(NE_f1[-1],NS_f1[-1]))\n",
        "    print(' f=$\\frac{1}{x}+y+z²$       %.3f    %.3f '%(NE_f2[-1],NS_f2[-1]))\n",
        "ax1=plt.subplot(231)\n",
        "ax2=plt.subplot(232)\n",
        "ax3=plt.subplot(233)\n",
        "ax4=plt.subplot(234)\n",
        "ax5=plt.subplot(235)\n",
        "ax6=plt.subplot(236)\n",
        "\n",
        "ax1.plot(N,NE_f,'r--',label='x^-3')\n",
        "ax2.plot(N,NE_f1,label='x^-1/2')\n",
        "ax3.plot(N,NE_f2,label='3D')\n",
        "ax4.plot(N,NS_f,'r--',label='x^-3')\n",
        "ax5.plot(N,NS_f1,label='x^-1/2')\n",
        "ax6.plot(N,NS_f2,label='3D')\n",
        "\n",
        "ax1.grid()\n",
        "ax1.set_title('x^3')\n",
        "ax1.set_xlabel('N')\n",
        "ax1.set_ylabel('E')\n",
        "ax4.set_xlabel('N')\n",
        "ax4.set_ylabel('S')\n",
        "ax2.grid()\n",
        "ax2.set_title('x^-1/2')\n",
        "ax3.grid()\n",
        "ax3.set_title('3D')\n",
        "plt.tight_layout()\n",
        "\n",
        "plt.show()\n",
        "\n"
      ],
      "execution_count": 0,
      "outputs": [
        {
          "output_type": "stream",
          "text": [
            "(0.495, 3.33106475941296e-10)\n",
            "(4.32455532033676, 1.6881526376757614e-09)\n",
            "Los valores de E y S para n=10 son:\n",
            " Función       E       S    \n",
            " f=$x⁻³$       0.580    0.301 \n",
            " f=$x**(1/2)$   4.133    1.686 \n",
            " f=$\frac{1}{x}+y+z²$       2.540    4.031 \n",
            "Los valores de E y S para n=100 son:\n",
            " Función       E       S    \n",
            " f=$x⁻³$       0.572    0.106 \n",
            " f=$x**(1/2)$   4.533    1.728 \n",
            " f=$\frac{1}{x}+y+z²$       2.565    6.368 \n",
            "Los valores de E y S para n=1000 son:\n",
            " Función       E       S    \n",
            " f=$x⁻³$       0.461    0.212 \n",
            " f=$x**(1/2)$   4.292    1.580 \n",
            " f=$\frac{1}{x}+y+z²$       2.596    6.402 \n",
            "Los valores de E y S para n=10000 son:\n",
            " Función       E       S    \n",
            " f=$x⁻³$       0.507    0.177 \n",
            " f=$x**(1/2)$   4.364    1.620 \n",
            " f=$\frac{1}{x}+y+z²$       2.593    6.305 \n",
            "Los valores de E y S para n=10000 son:\n",
            " Función       E       S    \n",
            " f=$x⁻³$       0.514    0.186 \n",
            " f=$x**(1/2)$   4.320    1.629 \n",
            " f=$\frac{1}{x}+y+z²$       2.580    6.196 \n"
          ],
          "name": "stdout"
        },
        {
          "output_type": "display_data",
          "data": {
            "image/png": "[encoded data removed]",
            "text/plain": [
              "<Figure size 432x288 with 6 Axes>"
            ]
          },
          "metadata": {
            "tags": []
          }
        }
      ]
    },
    {
      "cell_type": "markdown",
      "metadata": {
        "id": "mDJjCcz01P-9",
        "colab_type": "text"
      },
      "source": [
        "Metodo de Metropolis para generacióón de numeros aleatoreos que siguen cierta probabilidad"
      ]
    },
    {
      "cell_type": "code",
      "metadata": {
        "id": "Q0U1wjXtzlAQ",
        "colab_type": "code",
        "outputId": "8e8697cd-5cd4-484c-c55a-d62453f35636",
        "colab": {
          "base_uri": "https://localhost:8080/",
          "height": 295
        }
      },
      "source": [
        "\n",
        "mu=0\n",
        "sigma=0.1\n",
        "n=10000\n",
        "def P(phi):\n",
        "  l=sigma*(2*np.pi)**0.5\n",
        "  m=np.exp(-(phi-mu)**2/(2*sigma**2))\n",
        "  return m/l\n",
        "phi=random()*2*pi-pi\n",
        "A=[random()*2*pi-pi]  \n",
        "for i in range(n): \n",
        "  phi1 = random()*2*pi-pi\n",
        "  ds = -np.log(P(phi1)/P(A[-1]))\n",
        "  if ds<0:\n",
        "    A.append(phi1)\n",
        "  elif ds>0:\n",
        "    v=random()\n",
        "    p=P(phi1)/P(A[-1])\n",
        "    if v<p:\n",
        "      A.append(phi1)\n",
        "A=np.array(A)  \n",
        "     \n",
        "h=plt.hist(A)\n",
        "plt.title('Distribucion de theta')\n",
        "plt.xlim(-3,3)\n",
        "plt.ylabel('repeticiones')\n",
        "plt.xlabel('theta')\n",
        "plt.show()\n",
        "\n",
        "\n",
        "\n",
        "\n",
        "\n"
      ],
      "execution_count": 0,
      "outputs": [
        {
          "output_type": "display_data",
          "data": {
            "image/png": "[encoded data removed]",
            "text/plain": [
              "<Figure size 432x288 with 1 Axes>"
            ]
          },
          "metadata": {
            "tags": []
          }
        }
      ]
    },
    {
      "cell_type": "code",
      "metadata": {
        "id": "HdBXSpr2r8td",
        "colab_type": "code",
        "colab": {}
      },
      "source": [
        ""
      ],
      "execution_count": 0,
      "outputs": []
    }
  ]
}